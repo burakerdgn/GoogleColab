{
  "nbformat": 4,
  "nbformat_minor": 0,
  "metadata": {
    "colab": {
      "name": "Build_Own_Model&& Kavramlar.ipynb",
      "provenance": [],
      "collapsed_sections": [
        "0zuXvLomGeg5",
        "E_yNHV93GbFm",
        "JxMqyTQjTTiL",
        "h8YfHtHHTvH3",
        "EqQE5k8AZDqK",
        "0Cfx3tz4Acz8",
        "xRrV8TUIB_8V",
        "uD50eRwME9mF"
      ],
      "authorship_tag": "ABX9TyOkL+r29K4H8dQ4AuE6Bv80",
      "include_colab_link": true
    },
    "kernelspec": {
      "name": "python3",
      "display_name": "Python 3"
    },
    "language_info": {
      "name": "python"
    }
  },
  "cells": [
    {
      "cell_type": "markdown",
      "metadata": {
        "id": "view-in-github",
        "colab_type": "text"
      },
      "source": [
        "<a href=\"https://colab.research.google.com/github/burakerdgn/GoogleColab/blob/main/Build_Own_Model%26%26_Kavramlar.ipynb\" target=\"_parent\"><img src=\"https://colab.research.google.com/assets/colab-badge.svg\" alt=\"Open In Colab\"/></a>"
      ]
    },
    {
      "cell_type": "markdown",
      "metadata": {
        "id": "0zuXvLomGeg5"
      },
      "source": [
        "# **Build own model**"
      ]
    },
    {
      "cell_type": "code",
      "metadata": {
        "id": "_LoNbHC5Gevr"
      },
      "source": [
        ""
      ],
      "execution_count": null,
      "outputs": []
    },
    {
      "cell_type": "code",
      "metadata": {
        "id": "9b8MIUBn2siG"
      },
      "source": [
        "# import libraries\n",
        "import numpy as np\n",
        "import matplotlib.pyplot as plt\n",
        "import tensorflow as tf\n"
      ],
      "execution_count": null,
      "outputs": []
    },
    {
      "cell_type": "code",
      "metadata": {
        "id": "wQOyMwCQ3R_m"
      },
      "source": [
        "# Define Linear Regression Model\n",
        "class LinearRegression(tf.keras.Model):\n",
        "  def __init__(self,num_inputs, num_outputs):\n",
        "    super(LinearRegression,self).__init__()\n",
        "    self.W = tf.Variable(\n",
        "        tf.random_normal_initializer()((num_inputs, num_outputs)))\n",
        "    self.b = tf.Variable(tf.zeros(num_outputs))\n",
        "    self.params = [self.W, self.b]\n",
        "\n",
        "  def call(self, inputs):\n",
        "    return tf.matmul(inputs, self.W) + self.b"
      ],
      "execution_count": null,
      "outputs": []
    },
    {
      "cell_type": "code",
      "metadata": {
        "id": "x27UzJWV4KRB"
      },
      "source": [
        "# Create a dataset\n",
        "N = 100\n",
        "D = 1\n",
        "K = 1\n",
        "X = np.random.random((N,D)) * 2 - 1\n",
        "w = np.random.randn(D,K)\n",
        "b = np.random.randn()\n",
        "Y = X.dot(w) + b + np.random.randn(N,1) * 0.1"
      ],
      "execution_count": null,
      "outputs": []
    },
    {
      "cell_type": "code",
      "metadata": {
        "colab": {
          "base_uri": "https://localhost:8080/",
          "height": 283
        },
        "id": "hgu8Kvk84uGX",
        "outputId": "e5a6c9f5-0e20-4931-f3e2-c40e6fffef83"
      },
      "source": [
        "plt.scatter(X,Y)"
      ],
      "execution_count": null,
      "outputs": [
        {
          "output_type": "execute_result",
          "data": {
            "text/plain": [
              "<matplotlib.collections.PathCollection at 0x7f86b7936e50>"
            ]
          },
          "metadata": {
            "tags": []
          },
          "execution_count": 6
        },
        {
          "output_type": "display_data",
          "data": {
            "image/png": "[encoded data removed]",
            "text/plain": [
              "<Figure size 432x288 with 1 Axes>"
            ]
          },
          "metadata": {
            "tags": [],
            "needs_background": "light"
          }
        }
      ]
    },
    {
      "cell_type": "code",
      "metadata": {
        "id": "8yb_hHGP5BJf"
      },
      "source": [
        "# Cast type, otherwise Tensorflow will complain\n",
        "X = X.astype(np.float32)\n",
        "Y = Y.astype(np.float32)"
      ],
      "execution_count": null,
      "outputs": []
    },
    {
      "cell_type": "code",
      "metadata": {
        "id": "Xp4nRpuX5NTH"
      },
      "source": [
        "# Define the loss\n",
        "def get_loss(model, inputs, targets):\n",
        "  predictions = model(inputs)\n",
        "  error = targets - predictions\n",
        "  return tf.reduce_mean(tf.square(error))"
      ],
      "execution_count": null,
      "outputs": []
    },
    {
      "cell_type": "code",
      "metadata": {
        "id": "XN1P04lF5gYX"
      },
      "source": [
        "# Gradient function\n",
        "def get_grad(model, inputs, targets):\n",
        "  with tf.GradientTape() as tape:\n",
        "    loss_value = get_loss(model, inputs, targets)\n",
        "\n",
        "  # return gradient\n",
        "  return tape.gradient(loss_value, model.params)"
      ],
      "execution_count": null,
      "outputs": []
    },
    {
      "cell_type": "code",
      "metadata": {
        "colab": {
          "base_uri": "https://localhost:8080/"
        },
        "id": "5vceRk5-5_J_",
        "outputId": "05158954-b401-484f-c740-eafba54e2283"
      },
      "source": [
        "# Create and train the model\n",
        "model = LinearRegression(D,K)\n",
        "\n",
        "# Print the params before training\n",
        "print(\"Initial params:\")\n",
        "print(model.W)\n",
        "print(model.b)"
      ],
      "execution_count": null,
      "outputs": [
        {
          "output_type": "stream",
          "text": [
            "Initial params:\n",
            "<tf.Variable 'Variable:0' shape=(1, 1) dtype=float32, numpy=array([[0.07751474]], dtype=float32)>\n",
            "<tf.Variable 'Variable:0' shape=(1,) dtype=float32, numpy=array([0.], dtype=float32)>\n"
          ],
          "name": "stdout"
        }
      ]
    },
    {
      "cell_type": "code",
      "metadata": {
        "id": "ZmC0gU3M6Qno"
      },
      "source": [
        "# Store the losses here\n",
        "losses = []\n",
        "\n",
        "# Create an optimizer\n",
        "optimizer = tf.keras.optimizers.SGD(learning_rate=0.2)\n",
        "\n",
        "# Run the training loop\n",
        "for i in range(100):\n",
        "  # Get gradients\n",
        "  grads = get_grad(model,X,Y)\n",
        "\n",
        "  # Do one step of gradient descent: param <- param - learning_rate * grad\n",
        "  optimizer.apply_gradients(zip(grads, model.params))\n",
        "\n",
        "  # Store the loss\n",
        "  loss = get_loss(model, X ,Y)\n",
        "  losses.append(loss)"
      ],
      "execution_count": null,
      "outputs": []
    },
    {
      "cell_type": "code",
      "metadata": {
        "colab": {
          "base_uri": "https://localhost:8080/",
          "height": 283
        },
        "id": "ZigsdVae68We",
        "outputId": "04c42e00-a241-4c56-b7d9-9b4737e851ad"
      },
      "source": [
        "plt.plot(losses)"
      ],
      "execution_count": null,
      "outputs": [
        {
          "output_type": "execute_result",
          "data": {
            "text/plain": [
              "[<matplotlib.lines.Line2D at 0x7f86b825ffd0>]"
            ]
          },
          "metadata": {
            "tags": []
          },
          "execution_count": 13
        },
        {
          "output_type": "display_data",
          "data": {
            "image/png": "[encoded data removed]",
            "text/plain": [
              "<Figure size 432x288 with 1 Axes>"
            ]
          },
          "metadata": {
            "tags": [],
            "needs_background": "light"
          }
        }
      ]
    },
    {
      "cell_type": "code",
      "metadata": {
        "colab": {
          "base_uri": "https://localhost:8080/",
          "height": 283
        },
        "id": "s5ga26wz6_Vf",
        "outputId": "1c0a69eb-d9e8-420d-eed4-a3e5bfe517ea"
      },
      "source": [
        "x_axis = np.linspace(X.min(), X.max(), 100)\n",
        "y_axis = model.predict(x_axis.reshape(-1,1)).flatten()\n",
        "\n",
        "plt.scatter(X,Y)\n",
        "plt.plot(x_axis, y_axis)"
      ],
      "execution_count": null,
      "outputs": [
        {
          "output_type": "execute_result",
          "data": {
            "text/plain": [
              "[<matplotlib.lines.Line2D at 0x7f86b3702990>]"
            ]
          },
          "metadata": {
            "tags": []
          },
          "execution_count": 14
        },
        {
          "output_type": "display_data",
          "data": {
            "image/png": "[encoded data removed]",
            "text/plain": [
              "<Figure size 432x288 with 1 Axes>"
            ]
          },
          "metadata": {
            "tags": [],
            "needs_background": "light"
          }
        }
      ]
    },
    {
      "cell_type": "code",
      "metadata": {
        "colab": {
          "base_uri": "https://localhost:8080/"
        },
        "id": "kdBuhb6h7WRw",
        "outputId": "dbce8232-98d3-4042-bc22-92388eb4b9aa"
      },
      "source": [
        "print(\"Predicted params:\")\n",
        "print(model.W)\n",
        "print(model.b)"
      ],
      "execution_count": null,
      "outputs": [
        {
          "output_type": "stream",
          "text": [
            "Predicted params:\n",
            "<tf.Variable 'Variable:0' shape=(1, 1) dtype=float32, numpy=array([[0.34155968]], dtype=float32)>\n",
            "<tf.Variable 'Variable:0' shape=(1,) dtype=float32, numpy=array([0.56357706], dtype=float32)>\n"
          ],
          "name": "stdout"
        }
      ]
    },
    {
      "cell_type": "code",
      "metadata": {
        "colab": {
          "base_uri": "https://localhost:8080/"
        },
        "id": "uSC-JpbE7do3",
        "outputId": "bc50da47-5ea4-4cea-a903-a8011b0c1514"
      },
      "source": [
        "print(\"True params:\")\n",
        "w,b"
      ],
      "execution_count": null,
      "outputs": [
        {
          "output_type": "stream",
          "text": [
            "True params:\n"
          ],
          "name": "stdout"
        },
        {
          "output_type": "execute_result",
          "data": {
            "text/plain": [
              "(array([[0.33849858]]), 0.5746444925776516)"
            ]
          },
          "metadata": {
            "tags": []
          },
          "execution_count": 16
        }
      ]
    },
    {
      "cell_type": "markdown",
      "metadata": {
        "id": "E_yNHV93GbFm"
      },
      "source": [
        "# **Mean Square Error**"
      ]
    },
    {
      "cell_type": "markdown",
      "metadata": {
        "id": "9hXEnFxIGobp"
      },
      "source": [
        "Linear regression'da noktalarin hepsine esit uzaklikta olucak sekilde cekilen cizginin hesaplanmasi icin kullanilan formul"
      ]
    },
    {
      "cell_type": "markdown",
      "metadata": {
        "id": "JxMqyTQjTTiL"
      },
      "source": [
        "# **Binary Cross-Entropy**"
      ]
    },
    {
      "cell_type": "markdown",
      "metadata": {
        "id": "wFWMsJoeTg7q"
      },
      "source": [
        "The correct loss function to use for binary classification.  Eger 1 ve 0 li bir siniflandirma yapilacaksa bu function kullanilir"
      ]
    },
    {
      "cell_type": "markdown",
      "metadata": {
        "id": "h8YfHtHHTvH3"
      },
      "source": [
        "# **Categorical Cross Entropy**"
      ]
    },
    {
      "cell_type": "markdown",
      "metadata": {
        "id": "nO2Dn2uBTzm5"
      },
      "source": [
        "Coklu siniflandir icin kullanilan loss function cesidi"
      ]
    },
    {
      "cell_type": "markdown",
      "metadata": {
        "id": "EqQE5k8AZDqK"
      },
      "source": [
        "# **Gradient Descent**"
      ]
    },
    {
      "cell_type": "markdown",
      "metadata": {
        "id": "5AYtKs6tZIRl"
      },
      "source": [
        "* For models(such as linear regression) we come up with with a cost / loss function\n",
        "\n",
        "* We want to minimize the cost(L) with respect to the parameters (w)\n",
        "\n",
        "* **Gradient Descent -> Dereceli azalma** anlamina gelir, 2. dereceden denklemlerin turevleri bize denklemin olusturdugu scope un egrisini verirken, denklemin turevini 0 a esitleyip , 2. dereceden denklemin max ve min noktalari bulanabilir. Gradient Descent te 2. dereceden buyuk denklemlerin cozumu icin kullanilan tekniktir. \n",
        "\n",
        "* **Hyperparameters** = Learning rateleri kucuk tutularak, denklemin min noktasina ulasilmaya calisilir. Fakat learning rateler buyuk alinirsa scope ta min noktasi atlanarak karsi tarafa gecilebilir\n",
        "\n",
        "* **Epochs** = Minimum loss function bulunurken , iterative deneme sayisi\n",
        "\n",
        "  \n",
        "\n",
        "\n"
      ]
    },
    {
      "cell_type": "markdown",
      "metadata": {
        "id": "0Cfx3tz4Acz8"
      },
      "source": [
        "# **Stochastic Gradient Descent**"
      ]
    },
    {
      "cell_type": "markdown",
      "metadata": {
        "id": "nrp-AFfuAhrC"
      },
      "source": [
        "* SGD, daha hizli train etmek icin eldeki verilerden random ornekler cekildiginde kullanilir. Ex. Batch size!!!"
      ]
    },
    {
      "cell_type": "markdown",
      "metadata": {
        "id": "xRrV8TUIB_8V"
      },
      "source": [
        "# **Momentum**"
      ]
    },
    {
      "cell_type": "markdown",
      "metadata": {
        "id": "a5ZE_efvCLkH"
      },
      "source": [
        "* Gradient Descent uygulanirken, islemin ara noktalarda sikismamasi ve daha hizli sonuca varmak icin kullanilan yontem\n",
        "\n",
        "* https://www.quora.com/What-does-momentum-mean-in-neural-networks\n",
        "\n"
      ]
    },
    {
      "cell_type": "markdown",
      "metadata": {
        "id": "uD50eRwME9mF"
      },
      "source": [
        "# **Variable and Adaptive Learning Rates**"
      ]
    },
    {
      "cell_type": "markdown",
      "metadata": {
        "id": "fWM53nBAFDD6"
      },
      "source": [
        "* **Step Decay** = Belli sayida epochs'tan sonra learning rate'in belli oranda dusurulmesi\n",
        "\n",
        "* **Exponential Decay** = Learning Rate exponential sekilde surekli azaliyor\n",
        "\n",
        "* **AdaGrad** = Adaptive Learning Rate Techniques. Her adimda Learning Rate Degisir\n",
        "    * **Cache** = Her neural vectorun ayni zamanda bir cache vektoru vardir. Gradient'e dogru orantili olarak degisir. Yüksek gradient olan yerlerde cache artar learning rate duser.\n",
        "* **RMSProp** = AdaGrad tekniginde learning rate cok hizli bir sekilde 0 a yaklasiyor cunku cache cok hizli buyuyor.Bu buyumeyi kontrol altina almak icin cache denklemine decay rate eklenerek cache'in hizli büyümesi kontrol altina aliniyor\n"
      ]
    },
    {
      "cell_type": "markdown",
      "metadata": {
        "id": "j1de2S7COwKz"
      },
      "source": [
        "# **Adam**"
      ]
    },
    {
      "cell_type": "markdown",
      "metadata": {
        "id": "sHhQRlGZOzhn"
      },
      "source": [
        "* **Adam** = Adaptive Moment Estimation, bir baska gradient descent modify etme yontemi\n",
        "    * Cok kullanilmasinin sebebi default settings halinde bile iyi sonuclar vermesi. Learning rate ve momentum parameter ayarlamasina gerek yok\n",
        "    * RMSprop'un ileri versiyonu\n",
        "    * Geoffrey Hinton'in phd ogrencisi Jimmy Ba tarafindan gelistirildi\n",
        "    \n"
      ]
    }
  ]
}