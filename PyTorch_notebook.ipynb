{
  "nbformat": 4,
  "nbformat_minor": 0,
  "metadata": {
    "colab": {
      "name": "PyTorch_notebook.ipynb",
      "provenance": [],
      "collapsed_sections": [
        "NfuIiNZGbyKp",
        "lqUMzQexbZ7_",
        "NYtGuRnxREcI",
        "J_FvFez-t_gz",
        "4CU1rkic0NcY",
        "t_7KmVnB_G9q"
      ],
      "authorship_tag": "ABX9TyNgPW3D0V5QqnPAzF9M8ftK",
      "include_colab_link": true
    },
    "kernelspec": {
      "name": "python3",
      "display_name": "Python 3"
    },
    "language_info": {
      "name": "python"
    },
    "widgets": {
      "application/vnd.jupyter.widget-state+json": {
        "ca0577e8993b4e1c9f39c1b7a9d67e1d": {
          "model_module": "@jupyter-widgets/controls",
          "model_name": "HBoxModel",
          "state": {
            "_view_name": "HBoxView",
            "_dom_classes": [],
            "_model_name": "HBoxModel",
            "_view_module": "@jupyter-widgets/controls",
            "_model_module_version": "1.5.0",
            "_view_count": null,
            "_view_module_version": "1.5.0",
            "box_style": "",
            "layout": "IPY_MODEL_a1ed38d965bd459fa9fc095335da6746",
            "_model_module": "@jupyter-widgets/controls",
            "children": [
              "IPY_MODEL_eff466f02da64e71b9f089b5124153f3",
              "IPY_MODEL_3650f47406584bd1b9757b0b659753d7"
            ]
          }
        },
        "a1ed38d965bd459fa9fc095335da6746": {
          "model_module": "@jupyter-widgets/base",
          "model_name": "LayoutModel",
          "state": {
            "_view_name": "LayoutView",
            "grid_template_rows": null,
            "right": null,
            "justify_content": null,
            "_view_module": "@jupyter-widgets/base",
            "overflow": null,
            "_model_module_version": "1.2.0",
            "_view_count": null,
            "flex_flow": null,
            "width": null,
            "min_width": null,
            "border": null,
            "align_items": null,
            "bottom": null,
            "_model_module": "@jupyter-widgets/base",
            "top": null,
            "grid_column": null,
            "overflow_y": null,
            "overflow_x": null,
            "grid_auto_flow": null,
            "grid_area": null,
            "grid_template_columns": null,
            "flex": null,
            "_model_name": "LayoutModel",
            "justify_items": null,
            "grid_row": null,
            "max_height": null,
            "align_content": null,
            "visibility": null,
            "align_self": null,
            "height": null,
            "min_height": null,
            "padding": null,
            "grid_auto_rows": null,
            "grid_gap": null,
            "max_width": null,
            "order": null,
            "_view_module_version": "1.2.0",
            "grid_template_areas": null,
            "object_position": null,
            "object_fit": null,
            "grid_auto_columns": null,
            "margin": null,
            "display": null,
            "left": null
          }
        },
        "eff466f02da64e71b9f089b5124153f3": {
          "model_module": "@jupyter-widgets/controls",
          "model_name": "FloatProgressModel",
          "state": {
            "_view_name": "ProgressView",
            "style": "IPY_MODEL_966fb5dc7f3647f28801d8da0df5ab5f",
            "_dom_classes": [],
            "description": "",
            "_model_name": "FloatProgressModel",
            "bar_style": "success",
            "max": 170498071,
            "_view_module": "@jupyter-widgets/controls",
            "_model_module_version": "1.5.0",
            "value": 170498071,
            "_view_count": null,
            "_view_module_version": "1.5.0",
            "orientation": "horizontal",
            "min": 0,
            "description_tooltip": null,
            "_model_module": "@jupyter-widgets/controls",
            "layout": "IPY_MODEL_04cb0dceadd2464c834dca772c229f4a"
          }
        },
        "3650f47406584bd1b9757b0b659753d7": {
          "model_module": "@jupyter-widgets/controls",
          "model_name": "HTMLModel",
          "state": {
            "_view_name": "HTMLView",
            "style": "IPY_MODEL_4a3a75513ee6412a83fb47b59e271d31",
            "_dom_classes": [],
            "description": "",
            "_model_name": "HTMLModel",
            "placeholder": "​",
            "_view_module": "@jupyter-widgets/controls",
            "_model_module_version": "1.5.0",
            "value": " 170499072/? [13:17&lt;00:00, 213750.14it/s]",
            "_view_count": null,
            "_view_module_version": "1.5.0",
            "description_tooltip": null,
            "_model_module": "@jupyter-widgets/controls",
            "layout": "IPY_MODEL_ed9d051a66be4779ba033775e2ee62e6"
          }
        },
        "966fb5dc7f3647f28801d8da0df5ab5f": {
          "model_module": "@jupyter-widgets/controls",
          "model_name": "ProgressStyleModel",
          "state": {
            "_view_name": "StyleView",
            "_model_name": "ProgressStyleModel",
            "description_width": "initial",
            "_view_module": "@jupyter-widgets/base",
            "_model_module_version": "1.5.0",
            "_view_count": null,
            "_view_module_version": "1.2.0",
            "bar_color": null,
            "_model_module": "@jupyter-widgets/controls"
          }
        },
        "04cb0dceadd2464c834dca772c229f4a": {
          "model_module": "@jupyter-widgets/base",
          "model_name": "LayoutModel",
          "state": {
            "_view_name": "LayoutView",
            "grid_template_rows": null,
            "right": null,
            "justify_content": null,
            "_view_module": "@jupyter-widgets/base",
            "overflow": null,
            "_model_module_version": "1.2.0",
            "_view_count": null,
            "flex_flow": null,
            "width": null,
            "min_width": null,
            "border": null,
            "align_items": null,
            "bottom": null,
            "_model_module": "@jupyter-widgets/base",
            "top": null,
            "grid_column": null,
            "overflow_y": null,
            "overflow_x": null,
            "grid_auto_flow": null,
            "grid_area": null,
            "grid_template_columns": null,
            "flex": null,
            "_model_name": "LayoutModel",
            "justify_items": null,
            "grid_row": null,
            "max_height": null,
            "align_content": null,
            "visibility": null,
            "align_self": null,
            "height": null,
            "min_height": null,
            "padding": null,
            "grid_auto_rows": null,
            "grid_gap": null,
            "max_width": null,
            "order": null,
            "_view_module_version": "1.2.0",
            "grid_template_areas": null,
            "object_position": null,
            "object_fit": null,
            "grid_auto_columns": null,
            "margin": null,
            "display": null,
            "left": null
          }
        },
        "4a3a75513ee6412a83fb47b59e271d31": {
          "model_module": "@jupyter-widgets/controls",
          "model_name": "DescriptionStyleModel",
          "state": {
            "_view_name": "StyleView",
            "_model_name": "DescriptionStyleModel",
            "description_width": "",
            "_view_module": "@jupyter-widgets/base",
            "_model_module_version": "1.5.0",
            "_view_count": null,
            "_view_module_version": "1.2.0",
            "_model_module": "@jupyter-widgets/controls"
          }
        },
        "ed9d051a66be4779ba033775e2ee62e6": {
          "model_module": "@jupyter-widgets/base",
          "model_name": "LayoutModel",
          "state": {
            "_view_name": "LayoutView",
            "grid_template_rows": null,
            "right": null,
            "justify_content": null,
            "_view_module": "@jupyter-widgets/base",
            "overflow": null,
            "_model_module_version": "1.2.0",
            "_view_count": null,
            "flex_flow": null,
            "width": null,
            "min_width": null,
            "border": null,
            "align_items": null,
            "bottom": null,
            "_model_module": "@jupyter-widgets/base",
            "top": null,
            "grid_column": null,
            "overflow_y": null,
            "overflow_x": null,
            "grid_auto_flow": null,
            "grid_area": null,
            "grid_template_columns": null,
            "flex": null,
            "_model_name": "LayoutModel",
            "justify_items": null,
            "grid_row": null,
            "max_height": null,
            "align_content": null,
            "visibility": null,
            "align_self": null,
            "height": null,
            "min_height": null,
            "padding": null,
            "grid_auto_rows": null,
            "grid_gap": null,
            "max_width": null,
            "order": null,
            "_view_module_version": "1.2.0",
            "grid_template_areas": null,
            "object_position": null,
            "object_fit": null,
            "grid_auto_columns": null,
            "margin": null,
            "display": null,
            "left": null
          }
        }
      }
    }
  },
  "cells": [
    {
      "cell_type": "markdown",
      "metadata": {
        "id": "view-in-github",
        "colab_type": "text"
      },
      "source": [
        "<a href=\"https://colab.research.google.com/github/burakerdgn/GoogleColab/blob/main/PyTorch_notebook.ipynb\" target=\"_parent\"><img src=\"https://colab.research.google.com/assets/colab-badge.svg\" alt=\"Open In Colab\"/></a>"
      ]
    },
    {
      "cell_type": "markdown",
      "metadata": {
        "id": "Xgs-yRHSXeTT"
      },
      "source": [
        "# **PyTorch**"
      ]
    },
    {
      "cell_type": "markdown",
      "metadata": {
        "id": "NfuIiNZGbyKp"
      },
      "source": [
        "## **Basics**"
      ]
    },
    {
      "cell_type": "code",
      "metadata": {
        "colab": {
          "base_uri": "https://localhost:8080/",
          "height": 35
        },
        "id": "bv51Ig2gXbh5",
        "outputId": "52797b47-9108-4932-8aa4-69ae31b88cab"
      },
      "source": [
        "import torch\n",
        "import numpy as np\n",
        "torch.__version__"
      ],
      "execution_count": null,
      "outputs": [
        {
          "output_type": "execute_result",
          "data": {
            "application/vnd.google.colaboratory.intrinsic+json": {
              "type": "string"
            },
            "text/plain": [
              "'1.8.1+cu101'"
            ]
          },
          "metadata": {
            "tags": []
          },
          "execution_count": 1
        }
      ]
    },
    {
      "cell_type": "code",
      "metadata": {
        "colab": {
          "base_uri": "https://localhost:8080/"
        },
        "id": "fAwdMaeJa3A3",
        "outputId": "6d9190e0-571f-4b7b-d70d-ccf2e161f75a"
      },
      "source": [
        "arr = np.array([1,2,3,4,5])\n",
        "print(arr)"
      ],
      "execution_count": null,
      "outputs": [
        {
          "output_type": "stream",
          "text": [
            "[1 2 3 4 5]\n"
          ],
          "name": "stdout"
        }
      ]
    },
    {
      "cell_type": "code",
      "metadata": {
        "colab": {
          "base_uri": "https://localhost:8080/"
        },
        "id": "YtZrClynbiE7",
        "outputId": "300f4951-ba7f-4a92-b16e-a0f6be639e93"
      },
      "source": [
        "arr.dtype"
      ],
      "execution_count": null,
      "outputs": [
        {
          "output_type": "execute_result",
          "data": {
            "text/plain": [
              "dtype('int64')"
            ]
          },
          "metadata": {
            "tags": []
          },
          "execution_count": 3
        }
      ]
    },
    {
      "cell_type": "code",
      "metadata": {
        "colab": {
          "base_uri": "https://localhost:8080/"
        },
        "id": "TQFEHauQbj7a",
        "outputId": "adef1aa8-36ac-4af6-cbca-453dbb0c3af2"
      },
      "source": [
        "torch.from_numpy(arr)"
      ],
      "execution_count": null,
      "outputs": [
        {
          "output_type": "execute_result",
          "data": {
            "text/plain": [
              "tensor([1, 2, 3, 4, 5])"
            ]
          },
          "metadata": {
            "tags": []
          },
          "execution_count": 4
        }
      ]
    },
    {
      "cell_type": "code",
      "metadata": {
        "colab": {
          "base_uri": "https://localhost:8080/"
        },
        "id": "ZX87udkfbrDD",
        "outputId": "76dd982e-9173-4036-a69e-89e8f1790248"
      },
      "source": [
        "torch.as_tensor(arr)"
      ],
      "execution_count": null,
      "outputs": [
        {
          "output_type": "execute_result",
          "data": {
            "text/plain": [
              "tensor([1, 2, 3, 4, 5])"
            ]
          },
          "metadata": {
            "tags": []
          },
          "execution_count": 5
        }
      ]
    },
    {
      "cell_type": "code",
      "metadata": {
        "colab": {
          "base_uri": "https://localhost:8080/"
        },
        "id": "sZ9hqph-b6_S",
        "outputId": "936b2276-975f-4bfe-8f86-93d39c071048"
      },
      "source": [
        "arr2d = np.arange(0.0,12.0)\n",
        "arr2d"
      ],
      "execution_count": null,
      "outputs": [
        {
          "output_type": "execute_result",
          "data": {
            "text/plain": [
              "array([ 0.,  1.,  2.,  3.,  4.,  5.,  6.,  7.,  8.,  9., 10., 11.])"
            ]
          },
          "metadata": {
            "tags": []
          },
          "execution_count": 6
        }
      ]
    },
    {
      "cell_type": "code",
      "metadata": {
        "colab": {
          "base_uri": "https://localhost:8080/"
        },
        "id": "xvqYsNgfcQj_",
        "outputId": "3db3bb3c-394b-4996-adde-52197125a6d0"
      },
      "source": [
        "arr2d = arr2d.reshape(4,3)\n",
        "arr2d"
      ],
      "execution_count": null,
      "outputs": [
        {
          "output_type": "execute_result",
          "data": {
            "text/plain": [
              "array([[ 0.,  1.,  2.],\n",
              "       [ 3.,  4.,  5.],\n",
              "       [ 6.,  7.,  8.],\n",
              "       [ 9., 10., 11.]])"
            ]
          },
          "metadata": {
            "tags": []
          },
          "execution_count": 7
        }
      ]
    },
    {
      "cell_type": "code",
      "metadata": {
        "colab": {
          "base_uri": "https://localhost:8080/"
        },
        "id": "eFQKfDeacU5v",
        "outputId": "dd37aa78-c90f-4e06-d137-42ccde10be23"
      },
      "source": [
        "torch.from_numpy(arr2d)  # this creates a tensor from an array and both share the same memory at computer"
      ],
      "execution_count": null,
      "outputs": [
        {
          "output_type": "execute_result",
          "data": {
            "text/plain": [
              "tensor([[ 0.,  1.,  2.],\n",
              "        [ 3.,  4.,  5.],\n",
              "        [ 6.,  7.,  8.],\n",
              "        [ 9., 10., 11.]], dtype=torch.float64)"
            ]
          },
          "metadata": {
            "tags": []
          },
          "execution_count": 8
        }
      ]
    },
    {
      "cell_type": "code",
      "metadata": {
        "colab": {
          "base_uri": "https://localhost:8080/"
        },
        "id": "KT-84gb6cczH",
        "outputId": "03207da8-e6c7-40a1-9bae-341a7d7d16a9"
      },
      "source": [
        "# to create a totally different tensor from an array we should copy the array\n",
        "my_tensor = torch.tensor(arr)\n",
        "my_tensor"
      ],
      "execution_count": null,
      "outputs": [
        {
          "output_type": "execute_result",
          "data": {
            "text/plain": [
              "tensor([1, 2, 3, 4, 5])"
            ]
          },
          "metadata": {
            "tags": []
          },
          "execution_count": 9
        }
      ]
    },
    {
      "cell_type": "code",
      "metadata": {
        "id": "lFOsBz_JdjV1"
      },
      "source": [
        "# torch.tensor creates a tensor from int values however when we need a tensor made of float values, we should use torch.Tensor\n"
      ],
      "execution_count": null,
      "outputs": []
    },
    {
      "cell_type": "markdown",
      "metadata": {
        "id": "lqUMzQexbZ7_"
      },
      "source": [
        "## **Operations**"
      ]
    },
    {
      "cell_type": "code",
      "metadata": {
        "id": "TOHvDb7jcLQq"
      },
      "source": [
        "x = torch.arange(6).reshape(3,2)"
      ],
      "execution_count": null,
      "outputs": []
    },
    {
      "cell_type": "code",
      "metadata": {
        "colab": {
          "base_uri": "https://localhost:8080/"
        },
        "id": "y_SV7wQUboxA",
        "outputId": "943f9dee-f3ac-446b-cae7-8b9cd1b7fc0a"
      },
      "source": [
        "x"
      ],
      "execution_count": null,
      "outputs": [
        {
          "output_type": "execute_result",
          "data": {
            "text/plain": [
              "tensor([[0, 1],\n",
              "        [2, 3],\n",
              "        [4, 5]])"
            ]
          },
          "metadata": {
            "tags": []
          },
          "execution_count": 12
        }
      ]
    },
    {
      "cell_type": "code",
      "metadata": {
        "colab": {
          "base_uri": "https://localhost:8080/"
        },
        "id": "-oDegwgcbqH-",
        "outputId": "64f51895-f7fc-4bff-ddc9-dd64fecd3855"
      },
      "source": [
        "x[1,1]"
      ],
      "execution_count": null,
      "outputs": [
        {
          "output_type": "execute_result",
          "data": {
            "text/plain": [
              "tensor(3)"
            ]
          },
          "metadata": {
            "tags": []
          },
          "execution_count": 13
        }
      ]
    },
    {
      "cell_type": "code",
      "metadata": {
        "colab": {
          "base_uri": "https://localhost:8080/"
        },
        "id": "noaekIutb3j6",
        "outputId": "1e68977d-22b7-448e-bb69-e73ccd20f412"
      },
      "source": [
        "x[:,1]"
      ],
      "execution_count": null,
      "outputs": [
        {
          "output_type": "execute_result",
          "data": {
            "text/plain": [
              "tensor([1, 3, 5])"
            ]
          },
          "metadata": {
            "tags": []
          },
          "execution_count": 14
        }
      ]
    },
    {
      "cell_type": "code",
      "metadata": {
        "id": "H3WBDiTocAc_"
      },
      "source": [
        "x = torch.arange(10)"
      ],
      "execution_count": null,
      "outputs": []
    },
    {
      "cell_type": "code",
      "metadata": {
        "colab": {
          "base_uri": "https://localhost:8080/"
        },
        "id": "bbwC-e9xchDf",
        "outputId": "1bff31e5-0024-440f-f725-e51d65c6089e"
      },
      "source": [
        "x"
      ],
      "execution_count": null,
      "outputs": [
        {
          "output_type": "execute_result",
          "data": {
            "text/plain": [
              "tensor([0, 1, 2, 3, 4, 5, 6, 7, 8, 9])"
            ]
          },
          "metadata": {
            "tags": []
          },
          "execution_count": 16
        }
      ]
    },
    {
      "cell_type": "code",
      "metadata": {
        "colab": {
          "base_uri": "https://localhost:8080/"
        },
        "id": "f3LEGCwgciOP",
        "outputId": "ca1a849b-d528-49e8-8bc8-7a6c0e4b864d"
      },
      "source": [
        "x.view(2,5)"
      ],
      "execution_count": null,
      "outputs": [
        {
          "output_type": "execute_result",
          "data": {
            "text/plain": [
              "tensor([[0, 1, 2, 3, 4],\n",
              "        [5, 6, 7, 8, 9]])"
            ]
          },
          "metadata": {
            "tags": []
          },
          "execution_count": 18
        }
      ]
    },
    {
      "cell_type": "code",
      "metadata": {
        "id": "H8rBnBhWcntX"
      },
      "source": [
        "a = torch.tensor([1.,2.,3,])\n",
        "b = torch.tensor([4.,5.,6.])"
      ],
      "execution_count": null,
      "outputs": []
    },
    {
      "cell_type": "code",
      "metadata": {
        "colab": {
          "base_uri": "https://localhost:8080/"
        },
        "id": "WNyXSMpdfiiJ",
        "outputId": "a28e2a3e-3229-460f-c255-79d34f74e1f2"
      },
      "source": [
        "a + b"
      ],
      "execution_count": null,
      "outputs": [
        {
          "output_type": "execute_result",
          "data": {
            "text/plain": [
              "tensor([5., 7., 9.])"
            ]
          },
          "metadata": {
            "tags": []
          },
          "execution_count": 20
        }
      ]
    },
    {
      "cell_type": "code",
      "metadata": {
        "colab": {
          "base_uri": "https://localhost:8080/"
        },
        "id": "bNWhFRrwfonm",
        "outputId": "e484c744-220f-4c85-b752-4783ceb50ce0"
      },
      "source": [
        "torch.add(a,b)"
      ],
      "execution_count": null,
      "outputs": [
        {
          "output_type": "execute_result",
          "data": {
            "text/plain": [
              "tensor([5., 7., 9.])"
            ]
          },
          "metadata": {
            "tags": []
          },
          "execution_count": 21
        }
      ]
    },
    {
      "cell_type": "code",
      "metadata": {
        "colab": {
          "base_uri": "https://localhost:8080/"
        },
        "id": "kUJaD-1FfwAG",
        "outputId": "09c0935a-fa96-48a9-819a-65ed4c3b5e8a"
      },
      "source": [
        "a*b"
      ],
      "execution_count": null,
      "outputs": [
        {
          "output_type": "execute_result",
          "data": {
            "text/plain": [
              "tensor([ 4., 10., 18.])"
            ]
          },
          "metadata": {
            "tags": []
          },
          "execution_count": 22
        }
      ]
    },
    {
      "cell_type": "code",
      "metadata": {
        "colab": {
          "base_uri": "https://localhost:8080/"
        },
        "id": "gccp_fgWgL5v",
        "outputId": "d25e8c7c-3ce0-419c-9772-38584fb8832f"
      },
      "source": [
        "a.mul(b)"
      ],
      "execution_count": null,
      "outputs": [
        {
          "output_type": "execute_result",
          "data": {
            "text/plain": [
              "tensor([ 4., 10., 18.])"
            ]
          },
          "metadata": {
            "tags": []
          },
          "execution_count": 23
        }
      ]
    },
    {
      "cell_type": "code",
      "metadata": {
        "colab": {
          "base_uri": "https://localhost:8080/"
        },
        "id": "iXq-mA6xgORH",
        "outputId": "2e3ceeaa-1046-4cd6-99d9-600b253ff135"
      },
      "source": [
        "a.dot(b)"
      ],
      "execution_count": null,
      "outputs": [
        {
          "output_type": "execute_result",
          "data": {
            "text/plain": [
              "tensor(32.)"
            ]
          },
          "metadata": {
            "tags": []
          },
          "execution_count": 24
        }
      ]
    },
    {
      "cell_type": "code",
      "metadata": {
        "id": "1cd15fbggZWH"
      },
      "source": [
        "a = torch.tensor([[0,2,4],[1,3,5]])\n",
        "b = torch.tensor([[6,7],[8,9],[10,11]])"
      ],
      "execution_count": null,
      "outputs": []
    },
    {
      "cell_type": "code",
      "metadata": {
        "colab": {
          "base_uri": "https://localhost:8080/"
        },
        "id": "5Eao91iGgxsm",
        "outputId": "ba1e991b-06c1-4f81-b92a-a5615ad520da"
      },
      "source": [
        "# mm means matrix multiplication\n",
        "torch.mm(a,b)"
      ],
      "execution_count": null,
      "outputs": [
        {
          "output_type": "execute_result",
          "data": {
            "text/plain": [
              "tensor([[56, 62],\n",
              "        [80, 89]])"
            ]
          },
          "metadata": {
            "tags": []
          },
          "execution_count": 27
        }
      ]
    },
    {
      "cell_type": "code",
      "metadata": {
        "id": "rKJRYamwg66u",
        "colab": {
          "base_uri": "https://localhost:8080/"
        },
        "outputId": "bed3d39e-b3f0-4377-cf11-ee5fc8914bd0"
      },
      "source": [
        "a @ b"
      ],
      "execution_count": null,
      "outputs": [
        {
          "output_type": "execute_result",
          "data": {
            "text/plain": [
              "tensor([[56, 62],\n",
              "        [80, 89]])"
            ]
          },
          "metadata": {
            "tags": []
          },
          "execution_count": 28
        }
      ]
    },
    {
      "cell_type": "markdown",
      "metadata": {
        "id": "NYtGuRnxREcI"
      },
      "source": [
        "## **Basic Concepts**"
      ]
    },
    {
      "cell_type": "markdown",
      "metadata": {
        "id": "FF4jSrfsRNLu"
      },
      "source": [
        "**Supervised Learning** = Supervised learning algorithms are trained using labeled examples, such as an input where the desired output is known\n",
        "\n",
        "*   Training Data = Used to train model parameters\n",
        "*   Validation Data = Used to determine what model hyperparameters to adjust\n",
        "*   Test Data = Used to get some performance metric\n",
        "\n",
        "\n",
        "\n",
        "\n",
        "\n"
      ]
    },
    {
      "cell_type": "markdown",
      "metadata": {
        "id": "Tz9c4X6QWVtk"
      },
      "source": [
        "**Overfitting** = The model fits too much to the noise from the data. This often results in low error on training sets but high error on test/validiation sets\n",
        "\n",
        "**Underfitting** = Model does not capture the underlying trend of the data and does not fit the data well enough. It leads low variance but high bias. Underfitting is often a result of an excessively simple model"
      ]
    },
    {
      "cell_type": "markdown",
      "metadata": {
        "id": "_-UA_E3ubS8P"
      },
      "source": [
        "**Classification Error Metrics**\n",
        "\n",
        "*   Accuracy = Number of correct predictions / total number of predictions\n",
        "*   Recall = Ability of a model to find all the relevant cases within a dataset\n",
        "*   F1-Score = The f1 score is the hermonic mean of precision and recall taking both metrics into account in the following equation: 2 * ((precision * recall)/precision + recall))\n",
        "*   Confusion Matrix = It shows true positive , true negateive , false positive , false negative\n",
        "\n",
        "\n"
      ]
    },
    {
      "cell_type": "markdown",
      "metadata": {
        "id": "O4EBCq2hmkdP"
      },
      "source": [
        "**Regression Error Metrics** =  Regression is a task when a model attempts to predict continuous values(unlike categorical values, which is classification)\n",
        "\n",
        "\n",
        "*   Mean Absolute Error \n",
        "*   Mean Squared Error\n",
        "*   Root Mean Square Error\n",
        "\n"
      ]
    },
    {
      "cell_type": "markdown",
      "metadata": {
        "id": "W2C1xhmNpG_w"
      },
      "source": [
        "**Unsupervised Learning** = This technique is used when we do not have labeled \n",
        "\n",
        "The tasks that fall under unsupervised learning\n",
        "*   Clustering\n",
        "*   Anomaly Detection\n",
        "*   Dimensionality Reduction\n",
        "\n"
      ]
    },
    {
      "cell_type": "markdown",
      "metadata": {
        "id": "xWr0h9VGqIgM"
      },
      "source": [
        "**Clustering** = Grouping together unlabeled data points into categories/clusters.  Data points are assigned to a cluster based on similarity\n",
        "\n",
        "**Anomaly Detection** = Attempts to detect outliers in a dataset\n",
        "\n",
        "**Dimensionality Reduction** = Data processing techniques that reduces the number of features in a data set, either for compression or to better understand underlying trends within a data set"
      ]
    },
    {
      "cell_type": "markdown",
      "metadata": {
        "id": "J_FvFez-t_gz"
      },
      "source": [
        "## **Artificial Neural Network with MNIST Dataset**"
      ]
    },
    {
      "cell_type": "markdown",
      "metadata": {
        "id": "RPNAPHygv6YH"
      },
      "source": [
        "**MNIST** = Handwritten numbers dataset. 60,000 training images and 10,000 test images"
      ]
    },
    {
      "cell_type": "code",
      "metadata": {
        "id": "hakpbw8tuIGx"
      },
      "source": [
        "import torch\n",
        "import torch.nn as nn\n",
        "import torch.nn.functional as F"
      ],
      "execution_count": null,
      "outputs": []
    },
    {
      "cell_type": "code",
      "metadata": {
        "id": "bnV5I3SVxkaU"
      },
      "source": [
        "from torch.utils.data import DataLoader\n",
        "from torchvision import datasets, transforms"
      ],
      "execution_count": null,
      "outputs": []
    },
    {
      "cell_type": "code",
      "metadata": {
        "id": "W5DwTiBqxsaf"
      },
      "source": [
        "import numpy as np\n",
        "import pandas as pd\n",
        "from sklearn.metrics import confusion_matrix\n",
        "import matplotlib.pyplot as plt\n",
        "%matplotlib inline"
      ],
      "execution_count": null,
      "outputs": []
    },
    {
      "cell_type": "code",
      "metadata": {
        "id": "KFq1EnMAyJqf"
      },
      "source": [
        "# MNIST IMAGE --> Tensors\n",
        "\n",
        "transform = transforms.ToTensor()"
      ],
      "execution_count": null,
      "outputs": []
    },
    {
      "cell_type": "code",
      "metadata": {
        "id": "th6PSybIykfu"
      },
      "source": [
        "train_data = datasets.MNIST(root='Data',train=True, download=True, transform=transform)"
      ],
      "execution_count": null,
      "outputs": []
    },
    {
      "cell_type": "code",
      "metadata": {
        "id": "_TXIzcjjzeds"
      },
      "source": [
        "test_data = datasets.MNIST(root='Data',train=False, download=True, transform=transform)"
      ],
      "execution_count": null,
      "outputs": []
    },
    {
      "cell_type": "code",
      "metadata": {
        "colab": {
          "base_uri": "https://localhost:8080/"
        },
        "id": "FD_jWC1155eY",
        "outputId": "9b496d0d-92b7-439a-8b87-300b1a3bb6d0"
      },
      "source": [
        "train_data"
      ],
      "execution_count": null,
      "outputs": [
        {
          "output_type": "execute_result",
          "data": {
            "text/plain": [
              "Dataset MNIST\n",
              "    Number of datapoints: 60000\n",
              "    Root location: Data\n",
              "    Split: Train\n",
              "    StandardTransform\n",
              "Transform: ToTensor()"
            ]
          },
          "metadata": {
            "tags": []
          },
          "execution_count": 37
        }
      ]
    },
    {
      "cell_type": "code",
      "metadata": {
        "colab": {
          "base_uri": "https://localhost:8080/"
        },
        "id": "NHwd8xtX57EI",
        "outputId": "c567c728-6e95-4b49-9c03-8d00e572753a"
      },
      "source": [
        "test_data"
      ],
      "execution_count": null,
      "outputs": [
        {
          "output_type": "execute_result",
          "data": {
            "text/plain": [
              "Dataset MNIST\n",
              "    Number of datapoints: 10000\n",
              "    Root location: Data\n",
              "    Split: Test\n",
              "    StandardTransform\n",
              "Transform: ToTensor()"
            ]
          },
          "metadata": {
            "tags": []
          },
          "execution_count": 38
        }
      ]
    },
    {
      "cell_type": "code",
      "metadata": {
        "colab": {
          "base_uri": "https://localhost:8080/"
        },
        "id": "0YdN2WeO-GIS",
        "outputId": "ae086dae-f432-4df7-addf-a708416020c4"
      },
      "source": [
        "type(train_data)"
      ],
      "execution_count": null,
      "outputs": [
        {
          "output_type": "execute_result",
          "data": {
            "text/plain": [
              "torchvision.datasets.mnist.MNIST"
            ]
          },
          "metadata": {
            "tags": []
          },
          "execution_count": 39
        }
      ]
    },
    {
      "cell_type": "code",
      "metadata": {
        "id": "5quqdAWO-T9E"
      },
      "source": [
        "train_data[0]"
      ],
      "execution_count": null,
      "outputs": []
    },
    {
      "cell_type": "code",
      "metadata": {
        "id": "DK2eXyvc-Xbj"
      },
      "source": [
        "image,label = train_data[0]"
      ],
      "execution_count": null,
      "outputs": []
    },
    {
      "cell_type": "code",
      "metadata": {
        "colab": {
          "base_uri": "https://localhost:8080/"
        },
        "id": "lY-FHpmR-oGE",
        "outputId": "dcaf3277-fda6-4e04-b1ee-1a32e2044be3"
      },
      "source": [
        "image.shape"
      ],
      "execution_count": null,
      "outputs": [
        {
          "output_type": "execute_result",
          "data": {
            "text/plain": [
              "torch.Size([1, 28, 28])"
            ]
          },
          "metadata": {
            "tags": []
          },
          "execution_count": 42
        }
      ]
    },
    {
      "cell_type": "code",
      "metadata": {
        "colab": {
          "base_uri": "https://localhost:8080/"
        },
        "id": "5Cw5R3BF-qGC",
        "outputId": "7ac34f81-876e-454c-947a-6637c18b5456"
      },
      "source": [
        "label"
      ],
      "execution_count": null,
      "outputs": [
        {
          "output_type": "execute_result",
          "data": {
            "text/plain": [
              "5"
            ]
          },
          "metadata": {
            "tags": []
          },
          "execution_count": 43
        }
      ]
    },
    {
      "cell_type": "code",
      "metadata": {
        "colab": {
          "base_uri": "https://localhost:8080/",
          "height": 282
        },
        "id": "gpd-tQRN-xWo",
        "outputId": "5e63a625-71bd-4e5a-d138-759e46215aa6"
      },
      "source": [
        "plt.imshow(image.reshape((28,28)),cmap='gray')"
      ],
      "execution_count": null,
      "outputs": [
        {
          "output_type": "execute_result",
          "data": {
            "text/plain": [
              "<matplotlib.image.AxesImage at 0x7f4930ca9a10>"
            ]
          },
          "metadata": {
            "tags": []
          },
          "execution_count": 44
        },
        {
          "output_type": "display_data",
          "data": {
            "image/png": "[encoded data removed]",
            "text/plain": [
              "<Figure size 432x288 with 1 Axes>"
            ]
          },
          "metadata": {
            "tags": [],
            "needs_background": "light"
          }
        }
      ]
    },
    {
      "cell_type": "code",
      "metadata": {
        "id": "zhX-Sazg_wqY"
      },
      "source": [
        "torch.manual_seed(101)\n",
        "\n",
        "train_loader = DataLoader(train_data,batch_size=100,shuffle=True)\n",
        "\n",
        "test_loader = DataLoader(test_data,batch_size=500,shuffle=False)"
      ],
      "execution_count": null,
      "outputs": []
    },
    {
      "cell_type": "code",
      "metadata": {
        "id": "63fZ-lXaBGZD"
      },
      "source": [
        "from torchvision.utils import make_grid\n",
        "np.set_printoptions(formatter=dict(int=lambda x: f'{x:4}')) # Formatting"
      ],
      "execution_count": null,
      "outputs": []
    },
    {
      "cell_type": "code",
      "metadata": {
        "id": "zSajm3CA_EBI"
      },
      "source": [
        "# FIRST BATCH\n",
        "for images,labels in train_loader:  # 60.000 / 100 = 60 times \n",
        "  break"
      ],
      "execution_count": null,
      "outputs": []
    },
    {
      "cell_type": "code",
      "metadata": {
        "colab": {
          "base_uri": "https://localhost:8080/"
        },
        "id": "z39nhjN7CooE",
        "outputId": "5f689720-6b58-41c3-bf01-cb8eb3078da0"
      },
      "source": [
        "images.shape"
      ],
      "execution_count": null,
      "outputs": [
        {
          "output_type": "execute_result",
          "data": {
            "text/plain": [
              "torch.Size([100, 1, 28, 28])"
            ]
          },
          "metadata": {
            "tags": []
          },
          "execution_count": 48
        }
      ]
    },
    {
      "cell_type": "code",
      "metadata": {
        "colab": {
          "base_uri": "https://localhost:8080/"
        },
        "id": "1OTelkQtCqRg",
        "outputId": "bc33a5a5-d41d-459c-d9eb-2b5c996b10af"
      },
      "source": [
        "# Print the first 12 labels\n",
        "print('Labels:',labels[:12].numpy())"
      ],
      "execution_count": null,
      "outputs": [
        {
          "output_type": "stream",
          "text": [
            "Labels: [   7    2    3    5    8    5    3    6    9    9    1    3]\n"
          ],
          "name": "stdout"
        }
      ]
    },
    {
      "cell_type": "code",
      "metadata": {
        "colab": {
          "base_uri": "https://localhost:8080/",
          "height": 100
        },
        "id": "MpdLfQnPEMwC",
        "outputId": "a76eadbf-a35d-4580-9c6a-228bd1f47e4d"
      },
      "source": [
        "#Print the first 12 images\n",
        "im = make_grid(images[:12],nrow=12) \n",
        "plt.figure(figsize=(10,4))\n",
        "#transposing the images from CWH to WHC\n",
        "plt.imshow(np.transpose(im.numpy(),(1,2,0)));"
      ],
      "execution_count": null,
      "outputs": [
        {
          "output_type": "display_data",
          "data": {
            "image/png": "[encoded data removed]",
            "text/plain": [
              "<Figure size 720x288 with 1 Axes>"
            ]
          },
          "metadata": {
            "tags": [],
            "needs_background": "light"
          }
        }
      ]
    },
    {
      "cell_type": "code",
      "metadata": {
        "id": "OaTMtJNJPM5h"
      },
      "source": [
        "class MultilayerPerceptron(nn.Module):\n",
        "\n",
        "  def __init__(self,in_sz=784,out_sz=10,layers=[120,84]):  # in_sz = 28 x 28 (pixels), out_sz = 10 number of class\n",
        "\n",
        "      super().__init__()\n",
        "\n",
        "      self.fc1 = nn.Linear(in_sz,layers[0])\n",
        "      self.fc2 = nn.Linear(layers[0],layers[1])\n",
        "      self.fc3 = nn.Linear(layers[1],out_sz)\n",
        "\n",
        "  def forward(self,X):\n",
        "\n",
        "    X = F.relu(self.fc1(X))\n",
        "    X = F.relu(self.fc2(X))\n",
        "    X = self.fc3(X)\n",
        "\n",
        "    return F.log_softmax(X,dim=1) # Multiclass clasification"
      ],
      "execution_count": null,
      "outputs": []
    },
    {
      "cell_type": "code",
      "metadata": {
        "colab": {
          "base_uri": "https://localhost:8080/"
        },
        "id": "SIqU_cF9TQRw",
        "outputId": "636e3407-5e11-4041-9cc4-8f99b4ab5833"
      },
      "source": [
        "torch.manual_seed(101)\n",
        "model = MultilayerPerceptron()\n",
        "model"
      ],
      "execution_count": null,
      "outputs": [
        {
          "output_type": "execute_result",
          "data": {
            "text/plain": [
              "MultilayerPerceptron(\n",
              "  (fc1): Linear(in_features=784, out_features=120, bias=True)\n",
              "  (fc2): Linear(in_features=120, out_features=84, bias=True)\n",
              "  (fc3): Linear(in_features=84, out_features=10, bias=True)\n",
              ")"
            ]
          },
          "metadata": {
            "tags": []
          },
          "execution_count": 53
        }
      ]
    },
    {
      "cell_type": "code",
      "metadata": {
        "colab": {
          "base_uri": "https://localhost:8080/"
        },
        "id": "0sH3T2nlUB7z",
        "outputId": "8876c650-f937-40ab-f186-206cc8810e4d"
      },
      "source": [
        "# ANN -----> CNN\n",
        "for param in model.parameters():\n",
        "  print(param.numel())"
      ],
      "execution_count": null,
      "outputs": [
        {
          "output_type": "stream",
          "text": [
            "94080\n",
            "120\n",
            "10080\n",
            "84\n",
            "840\n",
            "10\n"
          ],
          "name": "stdout"
        }
      ]
    },
    {
      "cell_type": "code",
      "metadata": {
        "id": "rDaSl0ccUy90"
      },
      "source": [
        "criterion = nn.CrossEntropyLoss()\n",
        "optimizer = torch.optim.Adam(model.parameters(),lr=0.001)"
      ],
      "execution_count": null,
      "outputs": []
    },
    {
      "cell_type": "code",
      "metadata": {
        "colab": {
          "base_uri": "https://localhost:8080/"
        },
        "id": "kC3hcFveWaVV",
        "outputId": "4010ba26-5398-4431-a0f4-e5f2dc1945d5"
      },
      "source": [
        "import time\n",
        "start_time = time.time()\n",
        "\n",
        "# Training\n",
        "\n",
        "epochs = 10\n",
        "\n",
        "\n",
        "# TRACKERS\n",
        "train_losses = []\n",
        "test_losses = []\n",
        "train_correct = []\n",
        "test_correct = []\n",
        "\n",
        "for i in range(epochs):\n",
        "\n",
        "  trn_corr = 0\n",
        "  tst_corr = 0\n",
        "\n",
        "  for b, (X_train,y_train) in enumerate(train_loader):\n",
        "\n",
        "    b+=1\n",
        "    \n",
        "    y_pred = model(X_train.view(100,-1))\n",
        "    loss = criterion(y_pred,y_train)\n",
        "\n",
        "    predicted =torch.max(y_pred.data,1)[1]\n",
        "    batch_corr = (predicted == y_train).sum()\n",
        "    trn_corr += batch_corr\n",
        "\n",
        "    optimizer.zero_grad()\n",
        "    loss.backward()\n",
        "    optimizer.step()\n",
        "\n",
        "    if b%200 == 0:\n",
        "      accuracy = trn_corr.item()*100/(100*b)\n",
        "      print(f'Epoch {i} batch:{b} loss:{loss.item} accuracy:{accuracy}')\n",
        "\n",
        "  train_losses.append(loss)\n",
        "  train_correct.append(trn_corr)\n",
        "\n",
        "  with torch.no_grad():\n",
        "\n",
        "    for b,(X_test,y_test) in enumerate(test_loader):\n",
        "\n",
        "      y_val = model(X_test.view(500,-1))\n",
        "\n",
        "      predicted = torch.max(y_val.data,1)[1]\n",
        "      tst_corr += (predicted==y_test).sum()\n",
        "  \n",
        "  loss = criterion(y_val,y_test)\n",
        "  test_losses.append(loss)\n",
        "  test_correct.append(tst_corr)\n",
        "\n",
        "\n",
        "total_time = time.time() - start_time\n",
        "print(f'Duration: {total_time/60}mins')"
      ],
      "execution_count": null,
      "outputs": [
        {
          "output_type": "stream",
          "text": [
            "Epoch 0 batch:200 loss:<built-in method item of Tensor object at 0x7f49305156e0> accuracy:96.71\n",
            "Epoch 0 batch:400 loss:<built-in method item of Tensor object at 0x7f4930580320> accuracy:96.685\n",
            "Epoch 0 batch:600 loss:<built-in method item of Tensor object at 0x7f4930518280> accuracy:96.77333333333333\n",
            "Epoch 1 batch:200 loss:<built-in method item of Tensor object at 0x7f49307acf50> accuracy:97.505\n",
            "Epoch 1 batch:400 loss:<built-in method item of Tensor object at 0x7f4930517dc0> accuracy:97.5525\n",
            "Epoch 1 batch:600 loss:<built-in method item of Tensor object at 0x7f4930517dc0> accuracy:97.52666666666667\n",
            "Epoch 2 batch:200 loss:<built-in method item of Tensor object at 0x7f49307bfb90> accuracy:98.145\n",
            "Epoch 2 batch:400 loss:<built-in method item of Tensor object at 0x7f493074ea00> accuracy:98.0575\n",
            "Epoch 2 batch:600 loss:<built-in method item of Tensor object at 0x7f4930529730> accuracy:98.06666666666666\n",
            "Epoch 3 batch:200 loss:<built-in method item of Tensor object at 0x7f4930517280> accuracy:98.59\n",
            "Epoch 3 batch:400 loss:<built-in method item of Tensor object at 0x7f493073ff50> accuracy:98.47\n",
            "Epoch 3 batch:600 loss:<built-in method item of Tensor object at 0x7f4930751c80> accuracy:98.395\n",
            "Epoch 4 batch:200 loss:<built-in method item of Tensor object at 0x7f4930751f00> accuracy:98.91\n",
            "Epoch 4 batch:400 loss:<built-in method item of Tensor object at 0x7f49305156e0> accuracy:98.79\n",
            "Epoch 4 batch:600 loss:<built-in method item of Tensor object at 0x7f493073ff50> accuracy:98.75666666666666\n",
            "Epoch 5 batch:200 loss:<built-in method item of Tensor object at 0x7f493173c730> accuracy:99.0\n",
            "Epoch 5 batch:400 loss:<built-in method item of Tensor object at 0x7f49307cc050> accuracy:98.95\n",
            "Epoch 5 batch:600 loss:<built-in method item of Tensor object at 0x7f49305c6410> accuracy:98.90166666666667\n",
            "Epoch 6 batch:200 loss:<built-in method item of Tensor object at 0x7f49316c8640> accuracy:99.085\n",
            "Epoch 6 batch:400 loss:<built-in method item of Tensor object at 0x7f493173e370> accuracy:99.1325\n",
            "Epoch 6 batch:600 loss:<built-in method item of Tensor object at 0x7f493173ea00> accuracy:99.11333333333333\n",
            "Epoch 7 batch:200 loss:<built-in method item of Tensor object at 0x7f4930519820> accuracy:99.42\n",
            "Epoch 7 batch:400 loss:<built-in method item of Tensor object at 0x7f4930519820> accuracy:99.34\n",
            "Epoch 7 batch:600 loss:<built-in method item of Tensor object at 0x7f49305802d0> accuracy:99.21166666666667\n",
            "Epoch 8 batch:200 loss:<built-in method item of Tensor object at 0x7f49317934b0> accuracy:99.505\n",
            "Epoch 8 batch:400 loss:<built-in method item of Tensor object at 0x7f49331bd820> accuracy:99.4475\n",
            "Epoch 8 batch:600 loss:<built-in method item of Tensor object at 0x7f4930741410> accuracy:99.345\n",
            "Epoch 9 batch:200 loss:<built-in method item of Tensor object at 0x7f49331bd370> accuracy:99.495\n",
            "Epoch 9 batch:400 loss:<built-in method item of Tensor object at 0x7f493173cd70> accuracy:99.5025\n",
            "Epoch 9 batch:600 loss:<built-in method item of Tensor object at 0x7f49307b9050> accuracy:99.46833333333333\n",
            "Duration: 1.2833401481310527mins\n"
          ],
          "name": "stdout"
        }
      ]
    },
    {
      "cell_type": "code",
      "metadata": {
        "colab": {
          "base_uri": "https://localhost:8080/",
          "height": 282
        },
        "id": "uHbKRQf-fPp_",
        "outputId": "ee0e665b-d89b-4bf3-e3cb-446427bf72c9"
      },
      "source": [
        "plt.plot(train_losses,label='Training Loss')\n",
        "plt.plot(test_losses,label='Test/Validation Loss')\n",
        "plt.legend()"
      ],
      "execution_count": null,
      "outputs": [
        {
          "output_type": "execute_result",
          "data": {
            "text/plain": [
              "<matplotlib.legend.Legend at 0x7f49312d9fd0>"
            ]
          },
          "metadata": {
            "tags": []
          },
          "execution_count": 61
        },
        {
          "output_type": "display_data",
          "data": {
            "image/png": "[encoded data removed]",
            "text/plain": [
              "<Figure size 432x288 with 1 Axes>"
            ]
          },
          "metadata": {
            "tags": [],
            "needs_background": "light"
          }
        }
      ]
    },
    {
      "cell_type": "code",
      "metadata": {
        "id": "VDjcLeDiiHow"
      },
      "source": [
        "train_acc = [t/600 for t in train_correct]"
      ],
      "execution_count": null,
      "outputs": []
    },
    {
      "cell_type": "code",
      "metadata": {
        "id": "jQ3KshLRiuzT"
      },
      "source": [
        "test_acc = [t/100 for t in test_correct]"
      ],
      "execution_count": null,
      "outputs": []
    },
    {
      "cell_type": "code",
      "metadata": {
        "colab": {
          "base_uri": "https://localhost:8080/",
          "height": 282
        },
        "id": "yfsKb8Lri1Ci",
        "outputId": "11489bd0-a6c2-47f0-b714-a514bf27d7dd"
      },
      "source": [
        "plt.plot(train_acc,label='train acc')\n",
        "plt.plot(test_acc,label='test acc')\n",
        "plt.legend()\n"
      ],
      "execution_count": null,
      "outputs": [
        {
          "output_type": "execute_result",
          "data": {
            "text/plain": [
              "<matplotlib.legend.Legend at 0x7f49307e9c90>"
            ]
          },
          "metadata": {
            "tags": []
          },
          "execution_count": 67
        },
        {
          "output_type": "display_data",
          "data": {
            "image/png": "[encoded data removed]",
            "text/plain": [
              "<Figure size 432x288 with 1 Axes>"
            ]
          },
          "metadata": {
            "tags": [],
            "needs_background": "light"
          }
        }
      ]
    },
    {
      "cell_type": "code",
      "metadata": {
        "id": "e6vSyXUoin4k"
      },
      "source": [
        "test_load_all = DataLoader(test_data,batch_size=10000,shuffle=False)"
      ],
      "execution_count": null,
      "outputs": []
    },
    {
      "cell_type": "code",
      "metadata": {
        "id": "Zwk1VAbFkOvW"
      },
      "source": [
        "with torch.no_grad():\n",
        "  correct = 0\n",
        "\n",
        "  for X_test,y_test in test_load_all:\n",
        "    y_val = model(X_test.view(len(X_test),-1))\n",
        "    predicted = torch.max(y_val,1)[1]\n",
        "    correct += (predicted==y_test).sum()"
      ],
      "execution_count": null,
      "outputs": []
    },
    {
      "cell_type": "code",
      "metadata": {
        "colab": {
          "base_uri": "https://localhost:8080/"
        },
        "id": "IKN1JIONk2Zo",
        "outputId": "d74a629c-14df-4529-cbdb-4968189dd72e"
      },
      "source": [
        "correct"
      ],
      "execution_count": null,
      "outputs": [
        {
          "output_type": "execute_result",
          "data": {
            "text/plain": [
              "tensor(9776)"
            ]
          },
          "metadata": {
            "tags": []
          },
          "execution_count": 73
        }
      ]
    },
    {
      "cell_type": "code",
      "metadata": {
        "colab": {
          "base_uri": "https://localhost:8080/"
        },
        "id": "wQB8MKBxk3ZA",
        "outputId": "8b627725-d749-48dd-b987-36c3c412fa5f"
      },
      "source": [
        "confusion_matrix(predicted.view(-1),y_test.view(-1))"
      ],
      "execution_count": null,
      "outputs": [
        {
          "output_type": "execute_result",
          "data": {
            "text/plain": [
              "array([[ 968,    0,    5,    0,    1,    2,    2,    0,    2,    1],\n",
              "       [   1, 1129,    3,    0,    0,    0,    3,    6,    1,    4],\n",
              "       [   0,    2, 1006,    2,    4,    0,    3,    9,    1,    0],\n",
              "       [   1,    1,    4,  977,    0,    5,    1,    2,    8,    4],\n",
              "       [   1,    0,    1,    0,  968,    2,    3,    1,    4,   14],\n",
              "       [   0,    1,    0,   19,    0,  878,   10,    1,    9,    7],\n",
              "       [   3,    1,    1,    0,    3,    0,  936,    0,    1,    0],\n",
              "       [   2,    1,    3,    4,    1,    0,    0, 1002,    2,    6],\n",
              "       [   3,    0,    9,    3,    1,    4,    0,    3,  944,    5],\n",
              "       [   1,    0,    0,    5,    4,    1,    0,    4,    2,  968]])"
            ]
          },
          "metadata": {
            "tags": []
          },
          "execution_count": 74
        }
      ]
    },
    {
      "cell_type": "code",
      "metadata": {
        "id": "qgGur3p8wFPu"
      },
      "source": [
        ""
      ],
      "execution_count": null,
      "outputs": []
    },
    {
      "cell_type": "markdown",
      "metadata": {
        "id": "4CU1rkic0NcY"
      },
      "source": [
        "## **Convolutional Nueral Network**"
      ]
    },
    {
      "cell_type": "code",
      "metadata": {
        "id": "JrP8aJPa1Kw_"
      },
      "source": [
        "import torch\n",
        "import torch.nn as nn\n",
        "import torch.nn.functional as F\n",
        "from torch.utils.data import DataLoader\n",
        "from torchvision import datasets, transforms\n",
        "from torchvision.utils import make_grid\n",
        "\n",
        "import numpy as np\n",
        "import pandas as pd\n",
        "from sklearn.metrics import confusion_matrix\n",
        "import matplotlib.pyplot as plt\n",
        "%matplotlib inline"
      ],
      "execution_count": null,
      "outputs": []
    },
    {
      "cell_type": "code",
      "metadata": {
        "id": "0cqgOdo62jtC"
      },
      "source": [
        "transform = transforms.ToTensor()\n"
      ],
      "execution_count": null,
      "outputs": []
    },
    {
      "cell_type": "code",
      "metadata": {
        "id": "6c22l3UY2tSJ"
      },
      "source": [
        "train_data = datasets.MNIST(root='Data',train=True, download=True, transform=transform)"
      ],
      "execution_count": null,
      "outputs": []
    },
    {
      "cell_type": "code",
      "metadata": {
        "id": "jWRzLueY20_B"
      },
      "source": [
        "test_data = datasets.MNIST(root='Data',train=False, download=True, transform=transform)"
      ],
      "execution_count": null,
      "outputs": []
    },
    {
      "cell_type": "code",
      "metadata": {
        "id": "BvZCI7c_28hp"
      },
      "source": [
        "train_loader = DataLoader(train_data,batch_size=10,shuffle=True)\n",
        "test_loader = DataLoader(test_data,batch_size=10,shuffle=False)"
      ],
      "execution_count": null,
      "outputs": []
    },
    {
      "cell_type": "code",
      "metadata": {
        "id": "0ay4CTl23Tyj"
      },
      "source": [
        "# 1 = input image channel(we have gray scale image = 1 channel) , 6 = feature maps(filters) , 3 = kernel size , 1 = stride num\n",
        "conv1 = nn.Conv2d(1,6,3,1)  \n",
        "\n",
        "# First layers filter number is the input number of second layer,\n",
        "conv2 = nn.Conv2d(6,16,3,1)"
      ],
      "execution_count": null,
      "outputs": []
    },
    {
      "cell_type": "code",
      "metadata": {
        "id": "6cHnPMY7KulZ"
      },
      "source": [
        "for i, (X_train,y_train) in enumerate(train_data):\n",
        "  break"
      ],
      "execution_count": null,
      "outputs": []
    },
    {
      "cell_type": "code",
      "metadata": {
        "colab": {
          "base_uri": "https://localhost:8080/"
        },
        "id": "GdDz_SoVK6AU",
        "outputId": "731a39c8-0ccb-48ab-a91e-72da79487726"
      },
      "source": [
        "X_train.shape # ----> transform X_train to 4D batch"
      ],
      "execution_count": null,
      "outputs": [
        {
          "output_type": "execute_result",
          "data": {
            "text/plain": [
              "torch.Size([1, 28, 28])"
            ]
          },
          "metadata": {
            "tags": []
          },
          "execution_count": 11
        }
      ]
    },
    {
      "cell_type": "code",
      "metadata": {
        "id": "l8ePuyppK8ex"
      },
      "source": [
        "x = X_train.view(1,1,28,28)"
      ],
      "execution_count": null,
      "outputs": []
    },
    {
      "cell_type": "code",
      "metadata": {
        "id": "9YiTDHhRLOR1"
      },
      "source": [
        "x = F.relu(conv1(x))"
      ],
      "execution_count": null,
      "outputs": []
    },
    {
      "cell_type": "code",
      "metadata": {
        "colab": {
          "base_uri": "https://localhost:8080/"
        },
        "id": "vTmVtva-Lf0h",
        "outputId": "de9e5957-aa54-487b-83fd-2b66d00fd8a9"
      },
      "source": [
        "x.shape # our image is 28x28 but after 1st conv layer we have 26x26 image tensor. The reason for this is we used pedding = 0"
      ],
      "execution_count": null,
      "outputs": [
        {
          "output_type": "execute_result",
          "data": {
            "text/plain": [
              "torch.Size([1, 6, 26, 26])"
            ]
          },
          "metadata": {
            "tags": []
          },
          "execution_count": 25
        }
      ]
    },
    {
      "cell_type": "code",
      "metadata": {
        "id": "39X9GhhYMBE5"
      },
      "source": [
        "x = F.max_pool2d(x,2,2)"
      ],
      "execution_count": null,
      "outputs": []
    },
    {
      "cell_type": "code",
      "metadata": {
        "colab": {
          "base_uri": "https://localhost:8080/"
        },
        "id": "FGmp2EWEMlWT",
        "outputId": "9c4af238-d547-4cdb-c215-7a8ee650d0ec"
      },
      "source": [
        "x.shape"
      ],
      "execution_count": null,
      "outputs": [
        {
          "output_type": "execute_result",
          "data": {
            "text/plain": [
              "torch.Size([1, 6, 13, 13])"
            ]
          },
          "metadata": {
            "tags": []
          },
          "execution_count": 27
        }
      ]
    },
    {
      "cell_type": "code",
      "metadata": {
        "id": "A-BZZ2k8MyxH"
      },
      "source": [
        "x = F.relu(conv2(x)) # pass the last image to 2.layer"
      ],
      "execution_count": null,
      "outputs": []
    },
    {
      "cell_type": "code",
      "metadata": {
        "colab": {
          "base_uri": "https://localhost:8080/"
        },
        "id": "DvCp0GaJM-au",
        "outputId": "468c3a89-d6c4-4ad8-c330-49a0482b9704"
      },
      "source": [
        "x.shape"
      ],
      "execution_count": null,
      "outputs": [
        {
          "output_type": "execute_result",
          "data": {
            "text/plain": [
              "torch.Size([1, 16, 11, 11])"
            ]
          },
          "metadata": {
            "tags": []
          },
          "execution_count": 29
        }
      ]
    },
    {
      "cell_type": "code",
      "metadata": {
        "id": "E5lGqbfwNI09"
      },
      "source": [
        "x = F.max_pool2d(x,2,2)"
      ],
      "execution_count": null,
      "outputs": []
    },
    {
      "cell_type": "code",
      "metadata": {
        "colab": {
          "base_uri": "https://localhost:8080/"
        },
        "id": "NBtW-s89NNB_",
        "outputId": "aefb7e80-f4b7-41e7-f417-469fd7274cf9"
      },
      "source": [
        "x.shape\n"
      ],
      "execution_count": null,
      "outputs": [
        {
          "output_type": "execute_result",
          "data": {
            "text/plain": [
              "torch.Size([1, 16, 5, 5])"
            ]
          },
          "metadata": {
            "tags": []
          },
          "execution_count": 57
        }
      ]
    },
    {
      "cell_type": "code",
      "metadata": {
        "colab": {
          "base_uri": "https://localhost:8080/"
        },
        "id": "iMj-zah5cBjZ",
        "outputId": "c461f604-5fae-4a57-ef8d-b47bfb622161"
      },
      "source": [
        "x = x.view(-1, 5*5*16)\n",
        "print(x.shape)"
      ],
      "execution_count": null,
      "outputs": [
        {
          "output_type": "stream",
          "text": [
            "torch.Size([1, 400])\n"
          ],
          "name": "stdout"
        }
      ]
    },
    {
      "cell_type": "code",
      "metadata": {
        "id": "jCtgiPxoNQUH"
      },
      "source": [
        "# Create CNN class\n",
        "\n",
        "class ConvolutionalNetwork(nn.Module):\n",
        "\n",
        "  def __init__(self):\n",
        "    super().__init__()\n",
        "    self.conv1 = nn.Conv2d(1,6,3,1)\n",
        "    self.conv2 = nn.Conv2d(6,16,3,1)\n",
        "    self.fc1 = nn.Linear(5*5*16, 120)\n",
        "    self.fc2 = nn.Linear(120, 84)\n",
        "    self.fc3 = nn.Linear(84, 10)\n",
        "\n",
        "  def forward(self,X):\n",
        "    X = F.relu(self.conv1(X))\n",
        "    X = F.max_pool2d(X,2,2)\n",
        "    X = F.relu(self.conv2(X))\n",
        "    X = F.max_pool2d(X,2,2)\n",
        "    #Flatten the data\n",
        "    X = X.view(-1,5*5*16)\n",
        "    X = F.relu(self.fc1(X))\n",
        "    X = F.relu(self.fc2(X))\n",
        "    X = self.fc3(X)\n",
        "\n",
        "    return F.log_softmax(X,dim=1)"
      ],
      "execution_count": null,
      "outputs": []
    },
    {
      "cell_type": "code",
      "metadata": {
        "colab": {
          "base_uri": "https://localhost:8080/"
        },
        "id": "FxAjIrwaUcPA",
        "outputId": "65444eb7-39e2-47a5-e397-6793ea3cd99e"
      },
      "source": [
        "torch.manual_seed(42)\n",
        "model = ConvolutionalNetwork()\n",
        "model"
      ],
      "execution_count": null,
      "outputs": [
        {
          "output_type": "execute_result",
          "data": {
            "text/plain": [
              "ConvolutionalNetwork(\n",
              "  (conv1): Conv2d(1, 6, kernel_size=(3, 3), stride=(1, 1))\n",
              "  (conv2): Conv2d(6, 16, kernel_size=(3, 3), stride=(1, 1))\n",
              "  (fc1): Linear(in_features=400, out_features=120, bias=True)\n",
              "  (fc2): Linear(in_features=120, out_features=84, bias=True)\n",
              "  (fc3): Linear(in_features=84, out_features=10, bias=True)\n",
              ")"
            ]
          },
          "metadata": {
            "tags": []
          },
          "execution_count": 76
        }
      ]
    },
    {
      "cell_type": "code",
      "metadata": {
        "colab": {
          "base_uri": "https://localhost:8080/"
        },
        "id": "CTXpg6RsUz1V",
        "outputId": "86d62ad9-169a-460b-9b01-bfc848875127"
      },
      "source": [
        "for param in model.parameters():\n",
        "  print(param.numel())"
      ],
      "execution_count": null,
      "outputs": [
        {
          "output_type": "stream",
          "text": [
            "54\n",
            "6\n",
            "864\n",
            "16\n",
            "48000\n",
            "120\n",
            "10080\n",
            "84\n",
            "840\n",
            "10\n"
          ],
          "name": "stdout"
        }
      ]
    },
    {
      "cell_type": "code",
      "metadata": {
        "id": "N9IFpWX2VGi3"
      },
      "source": [
        "criterion = nn.CrossEntropyLoss()\n",
        "optimizer = torch.optim.Adam(model.parameters(),lr=0.001)"
      ],
      "execution_count": null,
      "outputs": []
    },
    {
      "cell_type": "code",
      "metadata": {
        "id": "7eoN4mYVVawZ"
      },
      "source": [
        "import time\n",
        "start_time = time.time()\n",
        "\n",
        "# Variables(trackers)\n",
        "epochs = 5\n",
        "train_losses = []\n",
        "test_losses = []\n",
        "train_correct = []\n",
        "test_correct = []\n",
        "\n",
        "# For loop epochs\n",
        "for i in range(epochs):\n",
        "\n",
        "  trn_corr = 0\n",
        "  tst_corr = 0\n",
        "\n",
        "  # Train\n",
        "  for b,(X_train,y_train) in enumerate(train_loader):\n",
        "     b += 1\n",
        "     \n",
        "     y_pred = model(X_train)  # Not flatten\n",
        "     loss = criterion(y_pred,y_train)\n",
        "\n",
        "     predicted = torch.max(y_pred.data,1)[1]\n",
        "     batch_corr = (predicted == y_train).sum()\n",
        "     trn_corr += batch_corr\n",
        "\n",
        "     optimizer.zero_grad()\n",
        "     loss.backward()\n",
        "     optimizer.step()\n",
        "\n",
        "     if b%600 ==0:\n",
        "       print(f\"Epoch: {i} batch: {b} loss:{loss.item()}\")\n",
        "\n",
        "  train_losses.append(loss)\n",
        "  train_correct.append(trn_corr)\n",
        "\n",
        "  # Test\n",
        "  with torch.no_grad():\n",
        "    for b,(X_test,y_test) in enumerate(test_loader):\n",
        "\n",
        "      y_val = model(X_test)\n",
        "\n",
        "      predicted = torch.max(y_val.data,1)[1]\n",
        "      tst_corr = (predicted == y_test).sum()\n",
        "\n",
        "  loss = criterion(y_val,y_test)\n",
        "  test_losses.append(loss)\n",
        "  test_correct.append(tst_corr)\n",
        "\n",
        "\n",
        "\n",
        "current_time = time.time()\n",
        "total = current_time - start_time\n",
        "print(f\"Training took {total/60} minutes\")"
      ],
      "execution_count": null,
      "outputs": []
    },
    {
      "cell_type": "code",
      "metadata": {
        "colab": {
          "base_uri": "https://localhost:8080/",
          "height": 281
        },
        "id": "gZ71SZCIgbq9",
        "outputId": "f7b660ac-4f6c-412c-ecc3-11e4e7d5d240"
      },
      "source": [
        "plt.plot(train_losses, label='training loss')\n",
        "plt.plot(test_losses, label='validation loss')\n",
        "plt.title('Loss at the end of each epoch')\n",
        "plt.legend();"
      ],
      "execution_count": null,
      "outputs": [
        {
          "output_type": "display_data",
          "data": {
            "image/png": "[encoded data removed]",
            "text/plain": [
              "<Figure size 432x288 with 1 Axes>"
            ]
          },
          "metadata": {
            "tags": [],
            "needs_background": "light"
          }
        }
      ]
    },
    {
      "cell_type": "code",
      "metadata": {
        "colab": {
          "base_uri": "https://localhost:8080/"
        },
        "id": "M5rAO9fjgsSd",
        "outputId": "c0fc9949-91cb-4247-d675-95d1545009d8"
      },
      "source": [
        "test_losses"
      ],
      "execution_count": null,
      "outputs": [
        {
          "output_type": "execute_result",
          "data": {
            "text/plain": [
              "[tensor(7.9715e-05),\n",
              " tensor(2.0359e-05),\n",
              " tensor(9.6676e-06),\n",
              " tensor(6.0369e-05),\n",
              " tensor(5.6147e-06)]"
            ]
          },
          "metadata": {
            "tags": []
          },
          "execution_count": 84
        }
      ]
    },
    {
      "cell_type": "code",
      "metadata": {
        "colab": {
          "base_uri": "https://localhost:8080/",
          "height": 281
        },
        "id": "bxL0uNZWgvwu",
        "outputId": "50451fc4-b512-421d-e7ab-2c0b50186d81"
      },
      "source": [
        "plt.plot([t/600 for t in train_correct], label='training accuracy')\n",
        "plt.plot([t/100 for t in test_correct], label='validation accuracy')\n",
        "plt.title('Accuracy at the end of each epoch')\n",
        "plt.legend();"
      ],
      "execution_count": null,
      "outputs": [
        {
          "output_type": "display_data",
          "data": {
            "image/png": "[encoded data removed]",
            "text/plain": [
              "<Figure size 432x288 with 1 Axes>"
            ]
          },
          "metadata": {
            "tags": [],
            "needs_background": "light"
          }
        }
      ]
    },
    {
      "cell_type": "code",
      "metadata": {
        "id": "_49xvBwCgy8s"
      },
      "source": [
        "# Extract the data all at once, not in batches\n",
        "test_load_all = DataLoader(test_data, batch_size=10000, shuffle=False)"
      ],
      "execution_count": null,
      "outputs": []
    },
    {
      "cell_type": "code",
      "metadata": {
        "colab": {
          "base_uri": "https://localhost:8080/"
        },
        "id": "OC1hk6TIg91o",
        "outputId": "ec114e42-e9a8-4818-9ec6-bf1255b62be7"
      },
      "source": [
        "with torch.no_grad():\n",
        "    correct = 0\n",
        "    for X_test, y_test in test_load_all:\n",
        "        y_val = model(X_test)  # we don't flatten the data this time\n",
        "        predicted = torch.max(y_val,1)[1]\n",
        "        correct += (predicted == y_test).sum()\n",
        "print(f'Test accuracy: {correct.item()}/{len(test_data)} = {correct.item()*100/(len(test_data)):7.3f}%')"
      ],
      "execution_count": null,
      "outputs": [
        {
          "output_type": "stream",
          "text": [
            "Test accuracy: 9854/10000 =  98.540%\n"
          ],
          "name": "stdout"
        }
      ]
    },
    {
      "cell_type": "code",
      "metadata": {
        "colab": {
          "base_uri": "https://localhost:8080/"
        },
        "id": "D0VZhhlGhqEJ",
        "outputId": "ff193bf5-f508-4efe-f7f6-09df2d9ea20c"
      },
      "source": [
        "# print a row of values for reference\n",
        "np.set_printoptions(formatter=dict(int=lambda x: f'{x:4}'))\n",
        "print(np.arange(10).reshape(1,10))\n",
        "print()\n",
        "\n",
        "# print the confusion matrix\n",
        "print(confusion_matrix(predicted.view(-1), y_test.view(-1)))"
      ],
      "execution_count": null,
      "outputs": [
        {
          "output_type": "stream",
          "text": [
            "[[   0    1    2    3    4    5    6    7    8    9]]\n",
            "\n",
            "[[ 961    0    1    0    0    0    1    0    2    0]\n",
            " [   2 1133    5    1    1    0    3   12    1    5]\n",
            " [   0    0 1016    1    1    0    0    5    2    0]\n",
            " [   0    1    0 1006    0    9    0    0    3    4]\n",
            " [   0    0    1    0  977    0    1    2    1   20]\n",
            " [   0    1    0    1    0  878    4    0    1    6]\n",
            " [   8    0    0    0    3    2  948    0    0    0]\n",
            " [   2    0    9    1    0    1    0 1006    1    3]\n",
            " [   2    0    0    0    0    1    1    1  960    2]\n",
            " [   5    0    0    0    0    1    0    2    3  969]]\n"
          ],
          "name": "stdout"
        }
      ]
    },
    {
      "cell_type": "markdown",
      "metadata": {
        "id": "r5dS1GSG5Tp4"
      },
      "source": [
        "## **CIFAR-10 CNN**"
      ]
    },
    {
      "cell_type": "code",
      "metadata": {
        "id": "RyUO4Qtx5YgD"
      },
      "source": [
        "import torch\n",
        "import torch.nn as nn\n",
        "import torch.nn.functional as F\n",
        "from torch.utils.data import DataLoader\n",
        "from torchvision import datasets, transforms\n",
        "from torchvision.utils import make_grid\n",
        "\n",
        "import numpy as np\n",
        "import pandas as pd\n",
        "import seaborn as sn\n",
        "from sklearn.metrics import confusion_matrix\n",
        "import matplotlib.pyplot as plt\n",
        "%matplotlib inline"
      ],
      "execution_count": 2,
      "outputs": []
    },
    {
      "cell_type": "code",
      "metadata": {
        "id": "mZQWj9676iXs"
      },
      "source": [
        "transform = transforms.ToTensor()"
      ],
      "execution_count": 3,
      "outputs": []
    },
    {
      "cell_type": "code",
      "metadata": {
        "colab": {
          "base_uri": "https://localhost:8080/",
          "height": 100,
          "referenced_widgets": [
            "ca0577e8993b4e1c9f39c1b7a9d67e1d",
            "a1ed38d965bd459fa9fc095335da6746",
            "eff466f02da64e71b9f089b5124153f3",
            "3650f47406584bd1b9757b0b659753d7",
            "966fb5dc7f3647f28801d8da0df5ab5f",
            "04cb0dceadd2464c834dca772c229f4a",
            "4a3a75513ee6412a83fb47b59e271d31",
            "ed9d051a66be4779ba033775e2ee62e6"
          ]
        },
        "id": "NhXp5Or76mz5",
        "outputId": "7e0cd6be-4106-44d7-a85a-7bb9aac9d204"
      },
      "source": [
        "train_data = datasets.CIFAR10(root='Data',train=True,download=True,transform=transform)"
      ],
      "execution_count": 4,
      "outputs": [
        {
          "output_type": "stream",
          "text": [
            "Downloading https://www.cs.toronto.edu/~kriz/cifar-10-python.tar.gz to Data/cifar-10-python.tar.gz\n"
          ],
          "name": "stdout"
        },
        {
          "output_type": "display_data",
          "data": {
            "application/vnd.jupyter.widget-view+json": {
              "model_id": "ca0577e8993b4e1c9f39c1b7a9d67e1d",
              "version_minor": 0,
              "version_major": 2
            },
            "text/plain": [
              "HBox(children=(FloatProgress(value=0.0, max=170498071.0), HTML(value='')))"
            ]
          },
          "metadata": {
            "tags": []
          }
        },
        {
          "output_type": "stream",
          "text": [
            "\n",
            "Extracting Data/cifar-10-python.tar.gz to Data\n"
          ],
          "name": "stdout"
        }
      ]
    },
    {
      "cell_type": "code",
      "metadata": {
        "colab": {
          "base_uri": "https://localhost:8080/"
        },
        "id": "n2GyXMjp6_hG",
        "outputId": "214a5b9a-5088-40e9-f0ef-c9732c2e22fb"
      },
      "source": [
        "test_data = datasets.CIFAR10(root='Data',train=False,download=True,transform=transform)"
      ],
      "execution_count": 5,
      "outputs": [
        {
          "output_type": "stream",
          "text": [
            "Files already downloaded and verified\n"
          ],
          "name": "stdout"
        }
      ]
    },
    {
      "cell_type": "code",
      "metadata": {
        "colab": {
          "base_uri": "https://localhost:8080/"
        },
        "id": "Ve_8uINp9l40",
        "outputId": "280aca4b-62a3-4512-a580-1dbfbe285f07"
      },
      "source": [
        "train_data"
      ],
      "execution_count": 6,
      "outputs": [
        {
          "output_type": "execute_result",
          "data": {
            "text/plain": [
              "Dataset CIFAR10\n",
              "    Number of datapoints: 50000\n",
              "    Root location: Data\n",
              "    Split: Train\n",
              "    StandardTransform\n",
              "Transform: ToTensor()"
            ]
          },
          "metadata": {
            "tags": []
          },
          "execution_count": 6
        }
      ]
    },
    {
      "cell_type": "code",
      "metadata": {
        "colab": {
          "base_uri": "https://localhost:8080/"
        },
        "id": "kqImTO1Y9qXj",
        "outputId": "71a54e00-6fdb-41c0-816e-a80e9cba249c"
      },
      "source": [
        "test_data"
      ],
      "execution_count": 7,
      "outputs": [
        {
          "output_type": "execute_result",
          "data": {
            "text/plain": [
              "Dataset CIFAR10\n",
              "    Number of datapoints: 10000\n",
              "    Root location: Data\n",
              "    Split: Test\n",
              "    StandardTransform\n",
              "Transform: ToTensor()"
            ]
          },
          "metadata": {
            "tags": []
          },
          "execution_count": 7
        }
      ]
    },
    {
      "cell_type": "code",
      "metadata": {
        "id": "Af7eT_ot96xl"
      },
      "source": [
        "torch.manual_seed(101)\n",
        "train_loader = DataLoader(train_data,batch_size=10,shuffle=True)\n",
        "test_loader = DataLoader(test_data,batch_size=10,shuffle=True)"
      ],
      "execution_count": 14,
      "outputs": []
    },
    {
      "cell_type": "code",
      "metadata": {
        "colab": {
          "base_uri": "https://localhost:8080/"
        },
        "id": "hiCo9dntAZ-a",
        "outputId": "4b22d5e5-33ef-4e18-f552-8e13631e6e6a"
      },
      "source": [
        "train_loader"
      ],
      "execution_count": 20,
      "outputs": [
        {
          "output_type": "execute_result",
          "data": {
            "text/plain": [
              "<torch.utils.data.dataloader.DataLoader at 0x7f767db2f090>"
            ]
          },
          "metadata": {
            "tags": []
          },
          "execution_count": 20
        }
      ]
    },
    {
      "cell_type": "code",
      "metadata": {
        "id": "Gn0gJUEN-ajU"
      },
      "source": [
        "class_names = ['plane', '  car', ' bird', '  cat', ' deer', '  dog', ' frog', 'horse', ' ship', 'truck']"
      ],
      "execution_count": 15,
      "outputs": []
    },
    {
      "cell_type": "markdown",
      "metadata": {
        "id": "t_7KmVnB_G9q"
      },
      "source": [
        "### **View images**"
      ]
    },
    {
      "cell_type": "code",
      "metadata": {
        "id": "7bTVnl8J_EMc"
      },
      "source": [
        "for images,labels in train_loader:\n",
        "  break"
      ],
      "execution_count": 16,
      "outputs": []
    },
    {
      "cell_type": "code",
      "metadata": {
        "colab": {
          "base_uri": "https://localhost:8080/"
        },
        "id": "c87dAKU5_RD9",
        "outputId": "048b7843-5364-4ae3-afbc-1aba964a0fd1"
      },
      "source": [
        "labels"
      ],
      "execution_count": 17,
      "outputs": [
        {
          "output_type": "execute_result",
          "data": {
            "text/plain": [
              "tensor([1, 5, 8, 1, 6, 1, 6, 3, 7, 9])"
            ]
          },
          "metadata": {
            "tags": []
          },
          "execution_count": 17
        }
      ]
    },
    {
      "cell_type": "code",
      "metadata": {
        "colab": {
          "base_uri": "https://localhost:8080/",
          "height": 319
        },
        "id": "GiEfV0ly_cUF",
        "outputId": "6406b8ea-328f-44e6-df8d-224a8617504b"
      },
      "source": [
        "#Print the labels\n",
        "\n",
        "print('Label:', labels.numpy())\n",
        "print('Class:', *np.array([class_names[i] for i in labels]))\n",
        "\n",
        "im = make_grid(images,nrow=5)\n",
        "plt.figure(figsize=(10,4))\n",
        "plt.imshow(np.transpose(im.numpy(),(1,2,0)))"
      ],
      "execution_count": 19,
      "outputs": [
        {
          "output_type": "stream",
          "text": [
            "Label: [1 5 8 1 6 1 6 3 7 9]\n",
            "Class:   car   dog  ship   car  frog   car  frog   cat horse truck\n"
          ],
          "name": "stdout"
        },
        {
          "output_type": "execute_result",
          "data": {
            "text/plain": [
              "<matplotlib.image.AxesImage at 0x7f767d619450>"
            ]
          },
          "metadata": {
            "tags": []
          },
          "execution_count": 19
        },
        {
          "output_type": "display_data",
          "data": {
            "image/png": "[encoded data removed]",
            "text/plain": [
              "<Figure size 720x288 with 1 Axes>"
            ]
          },
          "metadata": {
            "tags": [],
            "needs_background": "light"
          }
        }
      ]
    },
    {
      "cell_type": "code",
      "metadata": {
        "colab": {
          "base_uri": "https://localhost:8080/"
        },
        "id": "hQLFNPHmC64u",
        "outputId": "b3564aae-a352-481c-8ba0-1d4a12558229"
      },
      "source": [
        "images[0].shape"
      ],
      "execution_count": 21,
      "outputs": [
        {
          "output_type": "execute_result",
          "data": {
            "text/plain": [
              "torch.Size([3, 32, 32])"
            ]
          },
          "metadata": {
            "tags": []
          },
          "execution_count": 21
        }
      ]
    },
    {
      "cell_type": "code",
      "metadata": {
        "colab": {
          "base_uri": "https://localhost:8080/"
        },
        "id": "mVby6yg-C9Gy",
        "outputId": "364acbb9-917a-42dd-c408-09999b4c284d"
      },
      "source": [
        "(((32-2)/2)-2)/2   # how to find the number at full connected layer (6*6*16)\n",
        "\n",
        "# 32*32 images  , -2 is loosing pixel due to kernel without padding , /2 is due to pooling layer and it gives us 6 pixel\n",
        "# 6 is for the filter at first convolutional layer and 16 is for the filter at second conv layer"
      ],
      "execution_count": 23,
      "outputs": [
        {
          "output_type": "execute_result",
          "data": {
            "text/plain": [
              "6.5"
            ]
          },
          "metadata": {
            "tags": []
          },
          "execution_count": 23
        }
      ]
    },
    {
      "cell_type": "code",
      "metadata": {
        "id": "POPUQw99Am6S"
      },
      "source": [
        "class ConvolutionalNetwork(nn.Module):\n",
        "    def __init__(self):\n",
        "      super().__init__()\n",
        "      self.conv1 = nn.Conv2d(3,6,5,1) #(1,6,5,1)\n",
        "      self.conv2 = nn.Conv2d(6,16,3,1)\n",
        "      self.fc1 = nn.Linear(6*6*16,120)\n",
        "      self.fc2 = nn.Linear(120,84)\n",
        "      self.fc3 = nn.Linear(84,10)\n",
        "\n",
        "    def forward(self,X):\n",
        "      X = F.relu(self.conv1(X))\n",
        "      X = F.max_pool2d(X,2,2)\n",
        "      X = F.relu(self.conv2(X))\n",
        "      X = F.max_pool2d(X,2,2)\n",
        "      X = X.view(-1,6*6*16)\n",
        "      X = F.relu(self.fc1(X))\n",
        "      X = F.relu(self.fc2(X))\n",
        "      X = self.fc3(X)\n",
        "      return F.log_softmax(X,dim=1)\n",
        "\n",
        "\n"
      ],
      "execution_count": 38,
      "outputs": []
    },
    {
      "cell_type": "code",
      "metadata": {
        "colab": {
          "base_uri": "https://localhost:8080/"
        },
        "id": "wYj5cAjhJR2Q",
        "outputId": "aa82911e-510e-4da8-d0d9-9e53ab0b5807"
      },
      "source": [
        "torch.manual_seed(101)\n",
        "model = ConvolutionalNetwork()\n",
        "model"
      ],
      "execution_count": 39,
      "outputs": [
        {
          "output_type": "execute_result",
          "data": {
            "text/plain": [
              "ConvolutionalNetwork(\n",
              "  (conv1): Conv2d(3, 6, kernel_size=(5, 5), stride=(1, 1))\n",
              "  (conv2): Conv2d(6, 16, kernel_size=(3, 3), stride=(1, 1))\n",
              "  (fc1): Linear(in_features=576, out_features=120, bias=True)\n",
              "  (fc2): Linear(in_features=120, out_features=84, bias=True)\n",
              "  (fc3): Linear(in_features=84, out_features=10, bias=True)\n",
              ")"
            ]
          },
          "metadata": {
            "tags": []
          },
          "execution_count": 39
        }
      ]
    },
    {
      "cell_type": "code",
      "metadata": {
        "colab": {
          "base_uri": "https://localhost:8080/"
        },
        "id": "V9leoFIGLtbh",
        "outputId": "7e60557d-ebfd-43bf-f496-6a3b9385975d"
      },
      "source": [
        "for param in model.parameters():\n",
        "    print(param.numel())\n"
      ],
      "execution_count": 40,
      "outputs": [
        {
          "output_type": "stream",
          "text": [
            "450\n",
            "6\n",
            "864\n",
            "16\n",
            "69120\n",
            "120\n",
            "10080\n",
            "84\n",
            "840\n",
            "10\n"
          ],
          "name": "stdout"
        }
      ]
    },
    {
      "cell_type": "code",
      "metadata": {
        "id": "0PjALqohNAB4"
      },
      "source": [
        "# sum of all parameters = 81302"
      ],
      "execution_count": null,
      "outputs": []
    },
    {
      "cell_type": "code",
      "metadata": {
        "id": "_s4ju1hgOCvP"
      },
      "source": [
        "criterion = nn.CrossEntropyLoss()\n",
        "optimizer = torch.optim.Adam(model.parameters(),lr=0.001)\n"
      ],
      "execution_count": 41,
      "outputs": []
    },
    {
      "cell_type": "markdown",
      "metadata": {
        "id": "7m06hiwKQ9VH"
      },
      "source": [
        "### **Train the Model**"
      ]
    },
    {
      "cell_type": "code",
      "metadata": {
        "id": "lQ6g4o8FOPAY"
      },
      "source": [
        "import time\n",
        "start_time = time.time()\n",
        "\n",
        "epochs = 10\n",
        "train_losses = []\n",
        "test_losses = []\n",
        "train_correct = []\n",
        "test_correct = []\n",
        "\n",
        "for i in range(epochs):\n",
        "    trn_corr = 0\n",
        "    tst_corr = 0\n",
        "    \n",
        "    # Run the training batches\n",
        "    for b, (X_train, y_train) in enumerate(train_loader):\n",
        "        b+=1\n",
        "        \n",
        "        # Apply the model\n",
        "        y_pred = model(X_train)\n",
        "        loss = criterion(y_pred, y_train)\n",
        " \n",
        "        # Tally the number of correct predictions\n",
        "        predicted = torch.max(y_pred.data, 1)[1]\n",
        "        batch_corr = (predicted == y_train).sum()\n",
        "        trn_corr += batch_corr\n",
        "        \n",
        "        # Update parameters\n",
        "        optimizer.zero_grad()\n",
        "        loss.backward()\n",
        "        optimizer.step()\n",
        "        \n",
        "        # Print interim results\n",
        "        if b%1000 == 0:\n",
        "            print(f'epoch: {i:2}  batch: {b:4} [{10*b:6}/50000]  loss: {loss.item():10.8f}  \\\n",
        "accuracy: {trn_corr.item()*100/(10*b):7.3f}%')\n",
        "        \n",
        "    train_losses.append(loss)\n",
        "    train_correct.append(trn_corr)\n",
        "        \n",
        "    # Run the testing batches\n",
        "    with torch.no_grad():\n",
        "        for b, (X_test, y_test) in enumerate(test_loader):\n",
        "\n",
        "            # Apply the model\n",
        "            y_val = model(X_test)\n",
        "\n",
        "            # Tally the number of correct predictions\n",
        "            predicted = torch.max(y_val.data, 1)[1] \n",
        "            tst_corr += (predicted == y_test).sum()\n",
        "            \n",
        "    loss = criterion(y_val, y_test)\n",
        "    test_losses.append(loss)\n",
        "    test_correct.append(tst_corr)\n",
        "        \n",
        "print(f'\\nDuration: {time.time() - start_time:.0f} seconds') # print the time elapsed  "
      ],
      "execution_count": null,
      "outputs": []
    },
    {
      "cell_type": "code",
      "metadata": {
        "colab": {
          "base_uri": "https://localhost:8080/",
          "height": 281
        },
        "id": "3APgL9EGQij_",
        "outputId": "97745e09-7e53-4c7f-bc29-a4b7507d8e1d"
      },
      "source": [
        "plt.plot(train_losses, label='training loss')\n",
        "plt.plot(test_losses, label='validation loss')\n",
        "plt.title('Loss at the end of each epoch')\n",
        "plt.legend();"
      ],
      "execution_count": 43,
      "outputs": [
        {
          "output_type": "display_data",
          "data": {
            "image/png": "[encoded data removed]",
            "text/plain": [
              "<Figure size 432x288 with 1 Axes>"
            ]
          },
          "metadata": {
            "tags": [],
            "needs_background": "light"
          }
        }
      ]
    },
    {
      "cell_type": "code",
      "metadata": {
        "colab": {
          "base_uri": "https://localhost:8080/",
          "height": 281
        },
        "id": "V6dE2pOkRLy5",
        "outputId": "f1a6a2be-fd76-4ca7-ecb4-02a61d8576a4"
      },
      "source": [
        "plt.plot([t/500 for t in train_correct], label='training accuracy')\n",
        "plt.plot([t/100 for t in test_correct], label='validation accuracy')\n",
        "plt.title('Accuracy at the end of each epoch')\n",
        "plt.legend();"
      ],
      "execution_count": 44,
      "outputs": [
        {
          "output_type": "display_data",
          "data": {
            "image/png": "[encoded data removed]",
            "text/plain": [
              "<Figure size 432x288 with 1 Axes>"
            ]
          },
          "metadata": {
            "tags": [],
            "needs_background": "light"
          }
        }
      ]
    },
    {
      "cell_type": "markdown",
      "metadata": {
        "id": "Ig4yIQYNRRJt"
      },
      "source": [
        "### **Evaluation Test Data**"
      ]
    },
    {
      "cell_type": "code",
      "metadata": {
        "colab": {
          "base_uri": "https://localhost:8080/"
        },
        "id": "N234FevzRPOk",
        "outputId": "33bd81a7-644a-4592-a617-8c6eb4418a93"
      },
      "source": [
        "print(test_correct) # contains the results of all 10 epochs\n",
        "print()\n",
        "print(f'Test accuracy: {test_correct[-1].item()*100/10000:.3f}%') # print the most recent result as a percent"
      ],
      "execution_count": 45,
      "outputs": [
        {
          "output_type": "stream",
          "text": [
            "[tensor(4846), tensor(5245), tensor(5599), tensor(5686), tensor(5949), tensor(5922), tensor(6066), tensor(6125), tensor(6095), tensor(6124)]\n",
            "\n",
            "Test accuracy: 61.240%\n"
          ],
          "name": "stdout"
        }
      ]
    },
    {
      "cell_type": "markdown",
      "metadata": {
        "id": "R0ui4MhjRbPT"
      },
      "source": [
        "### **Confusion Matrix**\n"
      ]
    },
    {
      "cell_type": "code",
      "metadata": {
        "colab": {
          "base_uri": "https://localhost:8080/",
          "height": 388
        },
        "id": "W628Ewv9RZtS",
        "outputId": "a8e6863a-78c2-4e87-d164-1baf0df35400"
      },
      "source": [
        "# Create a loader for the entire the test set\n",
        "test_load_all = DataLoader(test_data, batch_size=10000, shuffle=False)\n",
        "\n",
        "with torch.no_grad():\n",
        "    correct = 0\n",
        "    for X_test, y_test in test_load_all:\n",
        "        y_val = model(X_test)\n",
        "        predicted = torch.max(y_val,1)[1]\n",
        "        correct += (predicted == y_test).sum()\n",
        "\n",
        "arr = confusion_matrix(y_test.view(-1), predicted.view(-1))\n",
        "df_cm = pd.DataFrame(arr, class_names, class_names)\n",
        "plt.figure(figsize = (9,6))\n",
        "sn.heatmap(df_cm, annot=True, fmt=\"d\", cmap='BuGn')\n",
        "plt.xlabel(\"prediction\")\n",
        "plt.ylabel(\"label (ground truth)\")\n",
        "plt.show();"
      ],
      "execution_count": 46,
      "outputs": [
        {
          "output_type": "display_data",
          "data": {
            "image/png": "[encoded data removed]",
            "text/plain": [
              "<Figure size 648x432 with 2 Axes>"
            ]
          },
          "metadata": {
            "tags": [],
            "needs_background": "light"
          }
        }
      ]
    },
    {
      "cell_type": "markdown",
      "metadata": {
        "id": "We3uiYM6Rn1k"
      },
      "source": [
        "### **Examine the misses**"
      ]
    },
    {
      "cell_type": "code",
      "metadata": {
        "colab": {
          "base_uri": "https://localhost:8080/"
        },
        "id": "xoknUMn_Rlhw",
        "outputId": "c99127bb-3568-4ac1-8994-8947d9b24cd9"
      },
      "source": [
        "misses = np.array([])\n",
        "for i in range(len(predicted.view(-1))):\n",
        "    if predicted[i] != y_test[i]:\n",
        "        misses = np.append(misses,i).astype('int64')\n",
        "        \n",
        "# Display the number of misses\n",
        "len(misses)"
      ],
      "execution_count": 47,
      "outputs": [
        {
          "output_type": "execute_result",
          "data": {
            "text/plain": [
              "3876"
            ]
          },
          "metadata": {
            "tags": []
          },
          "execution_count": 47
        }
      ]
    },
    {
      "cell_type": "code",
      "metadata": {
        "colab": {
          "base_uri": "https://localhost:8080/"
        },
        "id": "s-JDR9oLRwvx",
        "outputId": "da0cd526-e764-45de-eb92-4ff168344a56"
      },
      "source": [
        "# Display the first 8 index positions\n",
        "misses[:8]"
      ],
      "execution_count": 48,
      "outputs": [
        {
          "output_type": "execute_result",
          "data": {
            "text/plain": [
              "array([ 0,  2,  4,  6,  7, 10, 11, 12])"
            ]
          },
          "metadata": {
            "tags": []
          },
          "execution_count": 48
        }
      ]
    },
    {
      "cell_type": "code",
      "metadata": {
        "id": "WK3BpVT4R0Bs"
      },
      "source": [
        "# Set up an iterator to feed batched rows\n",
        "r = 8   # row size\n",
        "row = iter(np.array_split(misses,len(misses)//r+1))"
      ],
      "execution_count": 49,
      "outputs": []
    },
    {
      "cell_type": "code",
      "metadata": {
        "colab": {
          "base_uri": "https://localhost:8080/",
          "height": 212
        },
        "id": "8aeNq548R2bx",
        "outputId": "d4cf82aa-a11b-4d72-8f6b-d40f5cabab2e"
      },
      "source": [
        "np.set_printoptions(formatter=dict(int=lambda x: f'{x:5}')) # to widen the printed array\n",
        "\n",
        "nextrow = next(row)\n",
        "lbls = y_test.index_select(0,torch.tensor(nextrow)).numpy()\n",
        "gues = predicted.index_select(0,torch.tensor(nextrow)).numpy()\n",
        "print(\"Index:\", nextrow)\n",
        "print(\"Label:\", lbls)\n",
        "print(\"Class: \", *np.array([class_names[i] for i in lbls]))\n",
        "print()\n",
        "print(\"Guess:\", gues)\n",
        "print(\"Class: \", *np.array([class_names[i] for i in gues]))\n",
        "\n",
        "images = X_test.index_select(0,torch.tensor(nextrow))\n",
        "im = make_grid(images, nrow=r)\n",
        "plt.figure(figsize=(8,4))\n",
        "plt.imshow(np.transpose(im.numpy(), (1, 2, 0)));"
      ],
      "execution_count": 50,
      "outputs": [
        {
          "output_type": "stream",
          "text": [
            "Index: [    0     2     4     6     7    10    11    12]\n",
            "Label: [    3     8     6     1     6     0     9     5]\n",
            "Class:    cat  ship  frog   car  frog plane truck   dog\n",
            "\n",
            "Guess: [    5     0     4     3     4     4     1     6]\n",
            "Class:    dog plane  deer   cat  deer  deer   car  frog\n"
          ],
          "name": "stdout"
        },
        {
          "output_type": "display_data",
          "data": {
            "image/png": "[encoded data removed]",
            "text/plain": [
              "<Figure size 576x288 with 1 Axes>"
            ]
          },
          "metadata": {
            "tags": [],
            "needs_background": "light"
          }
        }
      ]
    },
    {
      "cell_type": "markdown",
      "metadata": {
        "id": "YUAIlUlPSYOD"
      },
      "source": [
        "### **Saved the model**"
      ]
    },
    {
      "cell_type": "code",
      "metadata": {
        "id": "GbyvBpeZSa04"
      },
      "source": [
        "torch.save(model.state_dict(), 'CIFAR10-CNN-Model.pt')"
      ],
      "execution_count": 52,
      "outputs": []
    },
    {
      "cell_type": "code",
      "metadata": {
        "colab": {
          "base_uri": "https://localhost:8080/"
        },
        "id": "v1ddBAO0SfoN",
        "outputId": "1666c0df-3176-4cfb-8406-1661ed550895"
      },
      "source": [
        "ls"
      ],
      "execution_count": 54,
      "outputs": [
        {
          "output_type": "stream",
          "text": [
            "CIFAR10-CNN-Model.pt  \u001b[0m\u001b[01;34mData\u001b[0m/  \u001b[01;34msample_data\u001b[0m/\n"
          ],
          "name": "stdout"
        }
      ]
    },
    {
      "cell_type": "code",
      "metadata": {
        "colab": {
          "base_uri": "https://localhost:8080/"
        },
        "id": "6LgR6uCPSp3G",
        "outputId": "720bca50-7100-460b-b8c3-ca4d22444952"
      },
      "source": [
        "!pwd"
      ],
      "execution_count": 58,
      "outputs": [
        {
          "output_type": "stream",
          "text": [
            "/content\n"
          ],
          "name": "stdout"
        }
      ]
    },
    {
      "cell_type": "markdown",
      "metadata": {
        "id": "SzdNXGzoSPye"
      },
      "source": [
        "### **Load a Saved Model**"
      ]
    },
    {
      "cell_type": "code",
      "metadata": {
        "colab": {
          "base_uri": "https://localhost:8080/"
        },
        "id": "uFQMbbDhSSzo",
        "outputId": "a2284cfc-c9fe-4871-ed6f-cf18f4eda2e9"
      },
      "source": [
        "# Instantiate the model and load saved parameters\n",
        "model2 = ConvolutionalNetwork()\n",
        "model2.load_state_dict(torch.load('CIFAR10-CNN-Model.pt'))\n",
        "model2.eval()"
      ],
      "execution_count": 59,
      "outputs": [
        {
          "output_type": "execute_result",
          "data": {
            "text/plain": [
              "ConvolutionalNetwork(\n",
              "  (conv1): Conv2d(3, 6, kernel_size=(5, 5), stride=(1, 1))\n",
              "  (conv2): Conv2d(6, 16, kernel_size=(3, 3), stride=(1, 1))\n",
              "  (fc1): Linear(in_features=576, out_features=120, bias=True)\n",
              "  (fc2): Linear(in_features=120, out_features=84, bias=True)\n",
              "  (fc3): Linear(in_features=84, out_features=10, bias=True)\n",
              ")"
            ]
          },
          "metadata": {
            "tags": []
          },
          "execution_count": 59
        }
      ]
    },
    {
      "cell_type": "code",
      "metadata": {
        "colab": {
          "base_uri": "https://localhost:8080/"
        },
        "id": "zifFzoVJSyzw",
        "outputId": "57e12614-7a25-4b40-e662-0f348be0250f"
      },
      "source": [
        "# Evaluate the saved model against the test set\n",
        "test_load_all = DataLoader(test_data, batch_size=10000, shuffle=False)\n",
        "\n",
        "with torch.no_grad():\n",
        "    correct = 0\n",
        "    for X_test, y_test in test_load_all:\n",
        "        y_val = model2(X_test)\n",
        "        predicted = torch.max(y_val,1)[1]\n",
        "        correct += (predicted == y_test).sum()\n",
        "        \n",
        "print(f'Test accuracy: {correct.item()}/{len(test_data)} = {correct.item()*100/(len(test_data)):7.3f}%')"
      ],
      "execution_count": 60,
      "outputs": [
        {
          "output_type": "stream",
          "text": [
            "Test accuracy: 6124/10000 =  61.240%\n"
          ],
          "name": "stdout"
        }
      ]
    },
    {
      "cell_type": "code",
      "metadata": {
        "colab": {
          "base_uri": "https://localhost:8080/",
          "height": 388
        },
        "id": "PEeEZtPoS3pD",
        "outputId": "ae0728e8-04f5-4257-9a14-a945778c937f"
      },
      "source": [
        "# Display the confusion matrix as a heatmap\n",
        "arr = confusion_matrix(y_test.view(-1), predicted.view(-1))\n",
        "df_cm = pd.DataFrame(arr, class_names, class_names)\n",
        "plt.figure(figsize = (9,6))\n",
        "sn.heatmap(df_cm, annot=True, fmt=\"d\", cmap='BuGn')\n",
        "plt.xlabel(\"prediction\")\n",
        "plt.ylabel(\"label (ground truth)\")\n",
        "plt.show();"
      ],
      "execution_count": 61,
      "outputs": [
        {
          "output_type": "display_data",
          "data": {
            "image/png": "[encoded data removed]",
            "text/plain": [
              "<Figure size 648x432 with 2 Axes>"
            ]
          },
          "metadata": {
            "tags": [],
            "needs_background": "light"
          }
        }
      ]
    },
    {
      "cell_type": "markdown",
      "metadata": {
        "id": "aDOvK8ixTBuu"
      },
      "source": [
        ""
      ]
    },
    {
      "cell_type": "markdown",
      "metadata": {
        "id": "dzc6D_O9VGE0"
      },
      "source": [
        ""
      ]
    },
    {
      "cell_type": "markdown",
      "metadata": {
        "id": "Ed7Kvef0VVvy"
      },
      "source": [
        "## **CNN with REAL IMAGE**"
      ]
    }
  ]
}