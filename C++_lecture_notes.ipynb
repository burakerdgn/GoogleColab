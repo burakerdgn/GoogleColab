{
  "nbformat": 4,
  "nbformat_minor": 0,
  "metadata": {
    "colab": {
      "name": "C++ lecture notes.ipynb",
      "provenance": [],
      "collapsed_sections": [
        "d54vlEl_jQBI",
        "ucH1cwdcUBBs",
        "Nvu_UhmRUs2c",
        "2GKoyww0e6f1",
        "K3uCXZx25bg1",
        "VA4G1ucDO3vw",
        "pzlRy-XuYzWd",
        "Ckm-LzC-a03L",
        "_P0AJMLCEWgz",
        "0gFW5wOGtpU8",
        "wrFmZ_Hhc8Qo",
        "83BQ5r8AdTE6",
        "5pmwnV8iP5I4",
        "x_iEpOSA0iNb"
      ],
      "toc_visible": true,
      "authorship_tag": "ABX9TyO/KS0v/1hR+4WZLpx6/OzI",
      "include_colab_link": true
    },
    "kernelspec": {
      "name": "python3",
      "display_name": "Python 3"
    },
    "language_info": {
      "name": "python"
    }
  },
  "cells": [
    {
      "cell_type": "markdown",
      "metadata": {
        "id": "view-in-github",
        "colab_type": "text"
      },
      "source": [
        "<a href=\"https://colab.research.google.com/github/burakerdgn/Lecture_Notes/blob/main/C%2B%2B_lecture_notes.ipynb\" target=\"_parent\"><img src=\"https://colab.research.google.com/assets/colab-badge.svg\" alt=\"Open In Colab\"/></a>"
      ]
    },
    {
      "cell_type": "markdown",
      "metadata": {
        "id": "Dk8vLAzWWurf"
      },
      "source": [
        "# **C++ Lecture Notes**\n",
        "\n",
        "\n",
        "*   Run the first code block\n",
        "*   After that run the second block\n",
        "\n"
      ]
    },
    {
      "cell_type": "markdown",
      "metadata": {
        "id": "USl6nyOsYQtS"
      },
      "source": [
        "## **Object Oriented Programming**"
      ]
    },
    {
      "cell_type": "markdown",
      "metadata": {
        "id": "UR6_sD0uJy8F"
      },
      "source": [
        "**Notes**\n",
        "\n",
        "*   *enemy.health and enemy->health are same\n",
        "*   \"vector(player)\" is a collection of player objects  ( use <> instead of () !!!!\n",
        ")"
      ]
    },
    {
      "cell_type": "markdown",
      "metadata": {
        "id": "fX1EY6FAeRg_"
      },
      "source": [
        "### **Define basic class**"
      ]
    },
    {
      "cell_type": "code",
      "metadata": {
        "id": "ZE8sPxIRTPqX"
      },
      "source": [
        "%%writefile test.cpp\n",
        "\n",
        "#include <iostream>\n",
        "#include <string>\n",
        "#include <vector>\n",
        "\n",
        "using namespace std;\n",
        "\n",
        "class Player\n",
        "{\n",
        "public:\n",
        " \n",
        "  // attributes\n",
        " \n",
        "  string name{\"Player\"};\n",
        "  int health{0};\n",
        "  int xp{3};\n",
        "\n",
        " \n",
        "  //methodes\n",
        " \n",
        "  void talk(string text_to_say) {cout << name << \" says \" << text_to_say << endl;}\n",
        "  bool is_dead();\n",
        "\n",
        "\n",
        "\n",
        "\n",
        "};\n",
        "\n",
        "class Account{\n",
        "public:\n",
        "\n",
        "  // attributes\n",
        "\n",
        "  string name{\"Account\"};\n",
        "  double balance{0.0};\n",
        "\n",
        "  // methodes\n",
        "\n",
        "  bool deposit(double bal){balance += bal; cout<< \"in deposit \" << balance << endl;}\n",
        "  bool withdraw(double bal){balance -= bal; cout<< \"In withdraw \" << balance << endl;}\n",
        "\n",
        "  \n",
        "\n",
        "};\n",
        "\n",
        "int main(int Argc,char* Args[]){\n",
        "  Account frank_account;\n",
        "  Account jim_account;  \n",
        "\n",
        "  frank_account.name =\"Franks's account\";\n",
        "  frank_account.balance = 5000.0;\n",
        "\n",
        "  frank_account.deposit(1000.0);\n",
        "  frank_account.withdraw(500.0);\n",
        "\n",
        "\n",
        "  Player frank;\n",
        "  Player hero;\n",
        "\n",
        "  frank.name = \"Frank\";\n",
        "  frank.health = 100;\n",
        "  frank.xp = 12 ;\n",
        "  frank.talk(\"hi there\");\n",
        "\n",
        "  Player *enemy = new Player;\n",
        "  (*enemy).name = \"Enemy\";\n",
        "  (*enemy).health = 100;    // *enemy.health and enemy->health are same\n",
        "  enemy->xp = 15;\n",
        "  enemy->talk(\"I will destroy you\");\n",
        "\n",
        "  Player players[]{frank,hero};\n",
        "\n",
        "  vector<Player> player_vec {frank};   // vector<player> is a collection of player objects\n",
        "  player_vec.push_back(hero);\n",
        "  \n",
        "\n",
        "\n",
        "  delete enemy;\n",
        "  \n",
        "  return 0; \n",
        "}"
      ],
      "execution_count": null,
      "outputs": []
    },
    {
      "cell_type": "code",
      "metadata": {
        "colab": {
          "base_uri": "https://localhost:8080/"
        },
        "id": "WnixnBZOUVxe",
        "outputId": "b2933014-f090-4112-9575-6c4f562d9e79"
      },
      "source": [
        "%%script bash\n",
        "\n",
        "g++ test.cpp -o test\n",
        "./test"
      ],
      "execution_count": null,
      "outputs": [
        {
          "output_type": "stream",
          "text": [
            "in deposit 6000\n",
            "In withdraw 5500\n",
            "Frank says hi there\n",
            "Enemy says I will destroy you\n"
          ],
          "name": "stdout"
        }
      ]
    },
    {
      "cell_type": "markdown",
      "metadata": {
        "id": "hATp9eV3eXz0"
      },
      "source": [
        "### **Member Methods**\n",
        "\n",
        "*   **Public** = Accessible everywhere\n",
        "*   **Private** = Accesible only by members or friends of the class\n",
        "*   **Protected** = Used with inheritance\n"
      ]
    },
    {
      "cell_type": "code",
      "metadata": {
        "colab": {
          "base_uri": "https://localhost:8080/"
        },
        "id": "LD1oHiIMUVbw",
        "outputId": "6122666b-b769-49c7-9bab-02c5d8a51671"
      },
      "source": [
        "%%writefile member.cpp\n",
        "\n",
        "\n",
        "#include <iostream>\n",
        "#include <string>\n",
        "#include <vector>\n",
        "\n",
        "using namespace std;\n",
        "\n",
        "class Player\n",
        "{\n",
        "private:\n",
        " \n",
        "  // attributes\n",
        " \n",
        "  string name{\"Player\"};\n",
        "  int health{0};\n",
        "  int xp{3};\n",
        "\n",
        "public:\n",
        " \n",
        "  //methodes\n",
        " \n",
        "  void talk(string text_to_say) {cout << name << \" says \" << text_to_say << endl;}\n",
        "  bool is_dead();\n",
        "};\n",
        "\n",
        "class Account {\n",
        "\n",
        "private:\n",
        "\n",
        "  double balance;\n",
        "\n",
        "public:\n",
        "\n",
        "  void set_balance(double bal);\n",
        "  double get_balance();\n",
        "\n",
        "}\n",
        "\n",
        "\n",
        "void Account::set_balance(double bal){\n",
        "    balance = bal;\n",
        "}\n",
        "\n",
        "double Account::get_balance(){\n",
        "    return balance;\n",
        "}\n",
        "\n",
        "int main(int Argc,char* Args[]){\n",
        " \n",
        " Player frank;\n",
        " //frank.name = \"Frank\";\n",
        " frank.talk(\"hello\");\n",
        "  \n",
        "  return 0; \n",
        "}\n"
      ],
      "execution_count": null,
      "outputs": [
        {
          "output_type": "stream",
          "text": [
            "Overwriting member.cpp\n"
          ],
          "name": "stdout"
        }
      ]
    },
    {
      "cell_type": "code",
      "metadata": {
        "colab": {
          "base_uri": "https://localhost:8080/"
        },
        "id": "SwK08xs1ahQI",
        "outputId": "ad40bcb4-052e-4b2f-e4af-690333825296"
      },
      "source": [
        "%%script bash\n",
        "\n",
        "g++ -o member member.cpp\n",
        "./member"
      ],
      "execution_count": null,
      "outputs": [
        {
          "output_type": "stream",
          "text": [
            "Player says hello\n"
          ],
          "name": "stdout"
        }
      ]
    },
    {
      "cell_type": "code",
      "metadata": {
        "id": "Lcv8INd_esYE"
      },
      "source": [
        ""
      ],
      "execution_count": null,
      "outputs": []
    },
    {
      "cell_type": "markdown",
      "metadata": {
        "id": "d54vlEl_jQBI"
      },
      "source": [
        "### **Header file**\n",
        "\n",
        "* It is used for class definitions at outside of the main file\n",
        "* it must be used one time there fore we use\n",
        "(#ifdef _Account__H__ and #define _Account__H__  #endif)"
      ]
    },
    {
      "cell_type": "code",
      "metadata": {
        "colab": {
          "base_uri": "https://localhost:8080/"
        },
        "id": "BHu9ryWIvSfp",
        "outputId": "d09125d7-9d7a-474d-b14c-4fdb60ede936"
      },
      "source": [
        "%%writefile Account.h\n",
        "\n",
        "#ifndef _ACCOUNT_H_\n",
        "#define _ACCOUNT_H_\n",
        "\n",
        "#include<string>\n",
        "\n",
        "class Account{\n",
        "    \n",
        "private:\n",
        "\n",
        "  // attributes\n",
        "  std::string name;\n",
        "  double balance;\n",
        "\n",
        "public:\n",
        "\n",
        "  //methods\n",
        "\n",
        "  //declared inline\n",
        "  void set_balance(double bal){balance = bal;}\n",
        "  double get_balance(){return balance;}\n",
        "\n",
        "  // methods will be declared outside the class declaration\n",
        "  void set_name(std::string n);\n",
        "  std::string get_name();\n",
        "\n",
        "  bool deposit(double amount);\n",
        "  bool withdraw(double amount);\n",
        "\n",
        "\n",
        "};\n",
        "\n",
        "#endif // _ACCOUNT_H_"
      ],
      "execution_count": null,
      "outputs": [
        {
          "output_type": "stream",
          "text": [
            "Overwriting Account.h\n"
          ],
          "name": "stdout"
        }
      ]
    },
    {
      "cell_type": "code",
      "metadata": {
        "colab": {
          "base_uri": "https://localhost:8080/"
        },
        "id": "TZXohyUtvVrY",
        "outputId": "0b870f5d-d7fd-44cb-8177-dd123e852f2a"
      },
      "source": [
        "%%writefile Account.cpp\n",
        "\n",
        "#include \"Account.h\"\n",
        "\n",
        "void Account::set_name(std::string n){\n",
        "    name = n;\n",
        "}\n",
        "\n",
        "std::string Account::get_name(){\n",
        "    return name;\n",
        "}\n",
        "\n",
        "bool Account::deposit(double amount){\n",
        "    // if verify amount\n",
        "    balance += amount;\n",
        "    return true;\n",
        "}\n",
        "\n",
        "bool Account::withdraw(double amount){\n",
        "    if (balance-amount >= 0){\n",
        "        balance -= amount;\n",
        "        return true;\n",
        "    }else{\n",
        "        return false;\n",
        "    }\n",
        "}"
      ],
      "execution_count": null,
      "outputs": [
        {
          "output_type": "stream",
          "text": [
            "Overwriting Account.cpp\n"
          ],
          "name": "stdout"
        }
      ]
    },
    {
      "cell_type": "code",
      "metadata": {
        "colab": {
          "base_uri": "https://localhost:8080/"
        },
        "id": "yOAFq87xujhH",
        "outputId": "ec848489-7ea6-4129-ad91-3eca5e069687"
      },
      "source": [
        "%%writefile main.cpp\n",
        "\n",
        "#include <iostream>\n",
        "#include \"Account.h\"\n",
        "\n",
        "using namespace std;\n",
        "\n",
        "int main(){\n",
        "    \n",
        "    Account frank_account;\n",
        "    frank_account.set_name(\"Frank's account\");\n",
        "    frank_account.set_balance(1000.0);\n",
        "\n",
        "    if (frank_account.deposit(200.0))\n",
        "      cout << \"Deposit OK\" << endl;\n",
        "    else\n",
        "      cout << \"Deposit not Allowed\" << endl;\n",
        "\n",
        "    if (frank_account.withdraw(500.0))\n",
        "      cout << \"Withdrawal OK\" << endl;\n",
        "    else\n",
        "      cout << \"Not sufficient funds\" << endl;\n",
        "\n",
        "    if (frank_account.withdraw(1500.0))\n",
        "      cout << \"Withdraw OK\" << endl;\n",
        "    else\n",
        "      cout << \"Not sufficient funds\" << endl;\n",
        "    \n",
        "    return 0;\n",
        "}"
      ],
      "execution_count": null,
      "outputs": [
        {
          "output_type": "stream",
          "text": [
            "Overwriting main.cpp\n"
          ],
          "name": "stdout"
        }
      ]
    },
    {
      "cell_type": "code",
      "metadata": {
        "colab": {
          "base_uri": "https://localhost:8080/"
        },
        "id": "EzGd14BMu9kK",
        "outputId": "b9687653-9953-4bf4-c19f-235c5670b503"
      },
      "source": [
        "%%script bash\n",
        "\n",
        "g++ main.cpp Account.cpp -o main\n",
        "./main"
      ],
      "execution_count": null,
      "outputs": [
        {
          "output_type": "stream",
          "text": [
            "Deposit OK\n",
            "Withdrawal OK\n",
            "Not sufficient funds\n"
          ],
          "name": "stdout"
        }
      ]
    },
    {
      "cell_type": "markdown",
      "metadata": {
        "id": "ucH1cwdcUBBs"
      },
      "source": [
        "### **Constructors and Destructors**"
      ]
    },
    {
      "cell_type": "code",
      "metadata": {
        "id": "o0RAXxdhWKam"
      },
      "source": [
        "%%writefile con_des.cpp\n",
        "\n",
        "#include <iostream>\n",
        "#include <string>\n",
        "\n",
        "using namespace std;\n",
        "\n",
        "class Player\n",
        "{\n",
        "    \n",
        "private:\n",
        " \n",
        "   std::string name;\n",
        "   int health;\n",
        "   int xp;\n",
        " \n",
        "public:\n",
        " \n",
        "    void set_name(std::string name_val) { \n",
        "        name = name_val; \n",
        "    }\n",
        "    // Overloaded Constructors\n",
        "    Player() { \n",
        "        cout << \"No args constructor called\"<< endl;\n",
        "    }\n",
        "    Player(std::string name) { \n",
        "        cout << \"String arg constructor called\"<< endl;\n",
        "    }\n",
        "    Player(std::string name, int health, int xp) {\n",
        "        cout << \"Three args constructor called\"<< endl; \n",
        "    }\n",
        "    ~Player() { \n",
        "        cout << \"Destructor called for \" << name << endl; \n",
        "    }\n",
        "};\n",
        "\n",
        "int main() {\n",
        "\n",
        "    {\n",
        "        Player slayer;\n",
        "        slayer.set_name(\"Slayer\");\n",
        "    }\n",
        "    \n",
        "    {\n",
        "        Player frank;\n",
        "        frank.set_name(\"Frank\");\n",
        "        Player hero(\"Hero\");\n",
        "        hero.set_name(\"Hero\");\n",
        "        Player villain(\"Villain\", 100, 12);\n",
        "        villain.set_name(\"Villain\");\n",
        "    }\n",
        "    \n",
        "    Player *enemy = new Player;\n",
        "    enemy->set_name(\"Enemy\");\n",
        "    \n",
        "    Player *level_boss = new Player(\"Level Boss\", 1000, 300);\n",
        "    level_boss->set_name(\"Level Boss\");\n",
        "    \n",
        "    delete enemy;\n",
        "    delete level_boss;\n",
        "    \n",
        "    return 0;\n",
        "}"
      ],
      "execution_count": null,
      "outputs": []
    },
    {
      "cell_type": "code",
      "metadata": {
        "id": "wp9HglFTWU3i"
      },
      "source": [
        "%%script bash\n",
        "\n",
        "g++ main.cpp Account.cpp -o main\n",
        "./main"
      ],
      "execution_count": null,
      "outputs": []
    },
    {
      "cell_type": "code",
      "metadata": {
        "colab": {
          "base_uri": "https://localhost:8080/"
        },
        "id": "09KPJhoWjMeZ",
        "outputId": "5cf67045-3da9-4f78-cc3e-0cf104f40417"
      },
      "source": [
        "%%writefile con_des.cpp\n",
        "\n",
        "#include <iostream>\n",
        "#include <string>\n",
        "\n",
        "using namespace std;\n",
        "\n",
        "class Player\n",
        "{\n",
        "private:\n",
        " \n",
        "    std::string name = \"Nasfa\";\n",
        "    int health;\n",
        "    int xp;\n",
        " \n",
        "public:\n",
        " \n",
        "    void set_name(std::string name_val){\n",
        "        name = name_val;\n",
        "    }\n",
        "    std::string get_name(){\n",
        "        return name;\n",
        "    }\n",
        "    int get_health(){\n",
        "        return health;\n",
        "    }\n",
        "    // NON ARGUMENTS CONSTRUCTOR\n",
        " \n",
        "    Player(){\n",
        "        //name = \"None\";\n",
        "        health = 100;\n",
        "        xp = 3;\n",
        "    }\n",
        " \n",
        "    Player(std::string name_val)\n",
        "      :Player{name_val,0,0}{\n",
        "          cout << \"One-arg contructor\" << endl;\n",
        "      }\n",
        " \n",
        "    //CONSTRUCTOR WITH 3 ARGUMENTS\n",
        " \n",
        "  \tPlayer(std::string name_val, int health_val, int xp_val){\n",
        "        name = name_val;\n",
        "        health = health_val;\n",
        "        xp = xp_val;\n",
        "    }\n",
        " \n",
        "};\n",
        "\n",
        "int main(){\n",
        "    // Player frank;\n",
        "    Player hero;\n",
        "    Player frank{\"Frank\",100,13};\n",
        "    Player Joan{\"Jöan\"};\n",
        "    //frank.set_name(\"Frank\");\n",
        "    cout << frank.get_name() << endl;\n",
        "    cout << hero.get_name() << endl;\n",
        "    cout << Joan.get_health() << endl;\n",
        "}"
      ],
      "execution_count": null,
      "outputs": [
        {
          "output_type": "stream",
          "text": [
            "Overwriting con_des.cpp\n"
          ],
          "name": "stdout"
        }
      ]
    },
    {
      "cell_type": "code",
      "metadata": {
        "colab": {
          "base_uri": "https://localhost:8080/"
        },
        "id": "lY5LhPGmkK6a",
        "outputId": "3cf92a87-7792-4b30-e274-de074dca4d61"
      },
      "source": [
        "%%script bash\n",
        "\n",
        "g++ con_des.cpp -o main\n",
        "./main"
      ],
      "execution_count": null,
      "outputs": [
        {
          "output_type": "stream",
          "text": [
            "One-arg contructor\n",
            "Frank\n",
            "Nasfa\n",
            "0\n"
          ],
          "name": "stdout"
        }
      ]
    },
    {
      "cell_type": "markdown",
      "metadata": {
        "id": "Nvu_UhmRUs2c"
      },
      "source": [
        "### **Copy Constructor**"
      ]
    },
    {
      "cell_type": "code",
      "metadata": {
        "colab": {
          "base_uri": "https://localhost:8080/"
        },
        "id": "J9RigtPEUzAo",
        "outputId": "fce6d71a-9ed0-4325-af19-507b1dcc44cf"
      },
      "source": [
        "%%writefile con_des.cpp\n",
        "\n",
        "#include <iostream>\n",
        "#include <string>\n",
        "\n",
        "using namespace std;\n",
        "\n",
        "class Player\n",
        "{\n",
        "private:\n",
        " \n",
        "    std::string name;\n",
        "    int health;\n",
        "    int xp;\n",
        " \n",
        "public:\n",
        " \n",
        "    std::string get_name(){return name;}\n",
        "    int get_health(){return health;}\n",
        "    int get_xp(){return xp;}\n",
        " \n",
        "    Player(std::string name_val=\"None\", int health_val = 0, int xp_val = 0);\n",
        "    // Copy constructor\n",
        "    Player(const Player &source);\n",
        "    // Destructor\n",
        "    ~Player(){ cout << \"Destructor called for:\" << name << endl;}\n",
        "};\n",
        "\n",
        "Player::Player(std::string name_val, int health_val, int xp_val)\n",
        "    : name{name_val},health{health_val}, xp{xp_val}{\n",
        "          cout << \"Three-args constructor for\" + name << endl;\n",
        "}\n",
        "\n",
        "Player::Player(const Player &source)\n",
        "  :name{source.name},health{source.health},xp{source.xp}{\n",
        "     cout << \"Copy Constructor - made copy of:\" << source.name << endl; \n",
        "}\n",
        "\n",
        "void display_player(Player p){\n",
        "    cout << \"Name:\" << p.get_name() << endl;\n",
        "    cout << \"Health:\" << p.get_health() << endl;\n",
        "    cout << \"XP:\" << p.get_xp() << endl;\n",
        "}\n",
        "\n",
        "int main(){\n",
        "    Player empty;\n",
        "\n",
        "    display_player(empty);\n",
        "\n",
        "    Player frank{\"Frank\"};\n",
        "    Player hero{\"Hero\", 100};\n",
        "    Player villain{\"Villain\",100,55};\n",
        "    \n",
        "    return 0;\n",
        "}"
      ],
      "execution_count": null,
      "outputs": [
        {
          "output_type": "stream",
          "text": [
            "Overwriting con_des.cpp\n"
          ],
          "name": "stdout"
        }
      ]
    },
    {
      "cell_type": "code",
      "metadata": {
        "colab": {
          "base_uri": "https://localhost:8080/"
        },
        "id": "h28FgPJpmR20",
        "outputId": "37c653c9-71bf-4176-e1b0-5464a33104ae"
      },
      "source": [
        "%%script bash\n",
        "\n",
        "g++ con_des.cpp -o main\n",
        "./main"
      ],
      "execution_count": null,
      "outputs": [
        {
          "output_type": "stream",
          "text": [
            "Three-args constructor forNone\n",
            "Copy Constructor - made copy of:None\n",
            "Name:None\n",
            "Health:0\n",
            "XP:0\n",
            "Destructor called for:None\n",
            "Three-args constructor forFrank\n",
            "Three-args constructor forHero\n",
            "Three-args constructor forVillain\n",
            "Destructor called for:Villain\n",
            "Destructor called for:Hero\n",
            "Destructor called for:Frank\n",
            "Destructor called for:None\n"
          ],
          "name": "stdout"
        }
      ]
    },
    {
      "cell_type": "markdown",
      "metadata": {
        "id": "2GKoyww0e6f1"
      },
      "source": [
        "### **Shallow Copying**"
      ]
    },
    {
      "cell_type": "markdown",
      "metadata": {
        "id": "D_Ru-S_hgrNS"
      },
      "source": [
        "* memberwise copy\n",
        "* Each data member is copied from the source object\n",
        "* The pointer is copied NOT what it points to(shallow copy)\n",
        "* Problem= when we release the storage in the destructor, the other object still refers to the released storage!\n",
        "* When you make a change in one copy , you will change the other copy too. Because they use the same address"
      ]
    },
    {
      "cell_type": "code",
      "metadata": {
        "colab": {
          "base_uri": "https://localhost:8080/"
        },
        "id": "UK3rm5uHfC2Q",
        "outputId": "0cf38355-dc60-4a08-82a3-c35ccd998366"
      },
      "source": [
        "%%writefile shlw.cpp\n",
        "\n",
        "#include <iostream>\n",
        "#include <string>\n",
        "\n",
        "using namespace std;\n",
        "\n",
        "class Shallow{\n",
        "private:\n",
        "\n",
        "    int *data;\n",
        "\n",
        "public:\n",
        "\n",
        "    void set_data_value(int d){*data = d;}\n",
        "    int get_data_value(){return *data;}\n",
        "    // Constructor\n",
        "    Shallow(int d);\n",
        "    // Copy Constructor\n",
        "    Shallow(const Shallow &source);\n",
        "    // Destructor\n",
        "    ~Shallow();\n",
        "  \n",
        "};\n",
        "\n",
        "Shallow::Shallow(int d){\n",
        "    data = new int;\n",
        "    *data = d;\n",
        "}\n",
        "\n",
        "Shallow::Shallow(const Shallow &source)\n",
        "  :data(source.data){\n",
        "      cout << \"Copy Constructor -shallow copy\" << endl;\n",
        "  }\n",
        "\n",
        "Shallow::~Shallow(){\n",
        "    delete data;\n",
        "    cout << \"Destructor freeing data\" << endl;\n",
        "}\n",
        "\n",
        "void display_shallow(Shallow s){\n",
        "    cout << s.get_data_value() << endl;\n",
        "}\n",
        "\n",
        "int main(){\n",
        "    \n",
        "    Shallow obj1{100};\n",
        "    display_shallow(obj1);\n",
        "\n",
        "    Shallow obj2 {obj1};\n",
        "    obj2.set_data_value(1000);\n",
        "\n",
        "    display_shallow(obj1);\n",
        "\n",
        "\n",
        "    return 0;\n",
        "}"
      ],
      "execution_count": null,
      "outputs": [
        {
          "output_type": "stream",
          "text": [
            "Overwriting shlw.cpp\n"
          ],
          "name": "stdout"
        }
      ]
    },
    {
      "cell_type": "code",
      "metadata": {
        "colab": {
          "base_uri": "https://localhost:8080/"
        },
        "id": "ZOok48Qme5qM",
        "outputId": "57ff0370-94c6-4a1d-cd67-012927875a26"
      },
      "source": [
        "%%script bash\n",
        "\n",
        "g++ shlw.cpp -o shlw\n",
        "./shlw"
      ],
      "execution_count": null,
      "outputs": [
        {
          "output_type": "stream",
          "text": [
            "Copy Constructor -shallow copy\n",
            "100\n",
            "Destructor freeing data\n",
            "Copy Constructor -shallow copy\n",
            "Copy Constructor -shallow copy\n",
            "1000\n",
            "Destructor freeing data\n",
            "Destructor freeing data\n",
            "Destructor freeing data\n"
          ],
          "name": "stdout"
        }
      ]
    },
    {
      "cell_type": "markdown",
      "metadata": {
        "id": "K3uCXZx25bg1"
      },
      "source": [
        "### **Deep Copying**"
      ]
    },
    {
      "cell_type": "markdown",
      "metadata": {
        "id": "0ymUVyn379AV"
      },
      "source": [
        "* Create a copy of the pointer-to data\n",
        "* Each copy will have a pointer to unique storage in the heap\n",
        "* Deep copy when you have a raw pointer as a class data member\n",
        "* When you make a change in one copy , you will NOT change the other copy too. Because they do not use the same address"
      ]
    },
    {
      "cell_type": "code",
      "metadata": {
        "colab": {
          "base_uri": "https://localhost:8080/"
        },
        "id": "VlXWEBTA6fLU",
        "outputId": "aa53c0ec-03d0-4e0b-ed1f-d4d2c309b710"
      },
      "source": [
        "%%writefile deep.cpp\n",
        "\n",
        "#include <iostream>\n",
        "#include <string>\n",
        "\n",
        "using namespace std;\n",
        "\n",
        "class Deep{\n",
        "private:\n",
        "\n",
        "    int *data;\n",
        "\n",
        "public:\n",
        "\n",
        "    void set_data_value(int d){*data = d;}\n",
        "    int get_data_value(){return *data;}\n",
        "    // Constructor\n",
        "    Deep(int d);\n",
        "    // Copy Constructor\n",
        "    Deep(const Deep &source);\n",
        "    // Destructor\n",
        "    ~Deep();\n",
        "  \n",
        "};\n",
        "\n",
        "Deep::Deep(int d){\n",
        "    data = new int;\n",
        "    *data = d;\n",
        "}\n",
        "\n",
        "Deep::Deep(const Deep &source)\n",
        "  :Deep(*source.data){\n",
        "      cout << \"Copy Constructor -deep copy\" << endl;\n",
        "  }\n",
        "\n",
        "Deep::~Deep(){\n",
        "    delete data;\n",
        "    cout << \"Destructor freeing data\" << endl;\n",
        "}\n",
        "\n",
        "void display_deep(Deep s){\n",
        "    cout << s.get_data_value() << endl;\n",
        "}\n",
        "\n",
        "int main(){\n",
        "    \n",
        "    Deep obj1{100};\n",
        "    display_deep(obj1);\n",
        "\n",
        "    Deep obj2 {obj1};\n",
        "    obj2.set_data_value(1000);\n",
        "    display_deep(obj1);\n",
        "    \n",
        "    return 0;\n",
        "}"
      ],
      "execution_count": null,
      "outputs": [
        {
          "output_type": "stream",
          "text": [
            "Writing deep.cpp\n"
          ],
          "name": "stdout"
        }
      ]
    },
    {
      "cell_type": "code",
      "metadata": {
        "colab": {
          "base_uri": "https://localhost:8080/"
        },
        "id": "QXSAg2or5gGp",
        "outputId": "2ec55271-9ecb-4616-9ec3-9d2cd62125c7"
      },
      "source": [
        "%%script bash\n",
        "\n",
        "g++ deep.cpp -o deep\n",
        "./deep"
      ],
      "execution_count": null,
      "outputs": [
        {
          "output_type": "stream",
          "text": [
            "Copy Constructor -deep copy\n",
            "100\n",
            "Destructor freeing data\n",
            "Copy Constructor -deep copy\n",
            "Copy Constructor -deep copy\n",
            "100\n",
            "Destructor freeing data\n",
            "Destructor freeing data\n",
            "Destructor freeing data\n"
          ],
          "name": "stdout"
        }
      ]
    },
    {
      "cell_type": "markdown",
      "metadata": {
        "id": "qowRdxLh6TY8"
      },
      "source": [
        "### **Move Constructors**"
      ]
    },
    {
      "cell_type": "markdown",
      "metadata": {
        "id": "VA4G1ucDO3vw"
      },
      "source": [
        "### **Static Class Members**"
      ]
    },
    {
      "cell_type": "markdown",
      "metadata": {
        "id": "CqETja6EPXpb"
      },
      "source": [
        "\n",
        "\n",
        "*   Class Data members can be declared as static\n",
        "    * A single data member that belongs to the class, not the object\n",
        "    * Useful to store class-wide information\n",
        "\n",
        "*  Class functions can be declared as static\n",
        "    * Independent of any objects\n",
        "    * Can be called using the class name\n",
        "\n"
      ]
    },
    {
      "cell_type": "code",
      "metadata": {
        "colab": {
          "base_uri": "https://localhost:8080/"
        },
        "id": "MLaf4r-BP0ak",
        "outputId": "3aa15254-346c-4c62-df93-cd8d3217c658"
      },
      "source": [
        "%%writefile Player.h\n",
        "\n",
        "#ifndef _PLAYER_H_\n",
        "#define _PLAYER_H_\n",
        "#include <string>\n",
        "\n",
        "class Player\n",
        "{\n",
        "private:\n",
        "   static int num_players;\n",
        "   std::string name;\n",
        "   int health;\n",
        "   int xp;\n",
        "public:\n",
        "    std::string get_name() { return name; }\n",
        "    int get_health() { return health; }\n",
        "    int get_xp() {return xp; } \n",
        "    Player(std::string name_val =\"None\", int health_val = 0, int xp_val = 0);\n",
        "    // Copy constructor\n",
        "    Player(const Player &source);\n",
        "    // Destructor\n",
        "    ~Player();\n",
        "    \n",
        "    static int get_num_players();\n",
        "    \n",
        "};\n",
        "\n",
        "#endif // _PLAYER_H_\n"
      ],
      "execution_count": null,
      "outputs": [
        {
          "output_type": "stream",
          "text": [
            "Writing Player.h\n"
          ],
          "name": "stdout"
        }
      ]
    },
    {
      "cell_type": "code",
      "metadata": {
        "colab": {
          "base_uri": "https://localhost:8080/"
        },
        "id": "3HYQT3i-VzfV",
        "outputId": "b858bc53-5539-457d-878b-abeb713bbb2b"
      },
      "source": [
        "%%writefile Player.cpp\n",
        "\n",
        "#include \"Player.h\"\n",
        "\n",
        "int Player::num_players {0};\n",
        "\n",
        "Player::Player(std::string name_val, int health_val, int xp_val) \n",
        "    : name{name_val}, health{health_val}, xp{xp_val} {\n",
        "        ++num_players;\n",
        "}\n",
        "\n",
        "Player::Player(const Player &source)\n",
        "       : Player {source.name, source.health, source.xp}  {\n",
        "}\n",
        "\n",
        "Player::~Player() {\n",
        "    --num_players;\n",
        "}\n",
        "\n",
        "int Player::get_num_players() {\n",
        "    return num_players;\n",
        "}\n",
        "\n",
        "\n"
      ],
      "execution_count": null,
      "outputs": [
        {
          "output_type": "stream",
          "text": [
            "Writing Player.cpp\n"
          ],
          "name": "stdout"
        }
      ]
    },
    {
      "cell_type": "code",
      "metadata": {
        "colab": {
          "base_uri": "https://localhost:8080/"
        },
        "id": "qqmJ_sXhWBEG",
        "outputId": "6a2c1e90-2a5e-461b-bd1c-fff46d54b54b"
      },
      "source": [
        "%%writefile main.cpp\n",
        "\n",
        "// Section 13\n",
        "// Static class members\n",
        "#include <iostream>\n",
        "#include \"Player.h\"\n",
        "\n",
        "using namespace std;\n",
        "\n",
        "void display_active_players() {\n",
        "    cout << \"Active players: \" << Player::get_num_players() << endl;\n",
        "}\n",
        "\n",
        "int main() {\n",
        "    display_active_players();\n",
        "    Player hero{\"Hero\"};\n",
        "    display_active_players();\n",
        "    \n",
        "    {\n",
        "        Player frank{\"Frank\"};\n",
        "        display_active_players();\n",
        "    }\n",
        "    display_active_players();\n",
        "    \n",
        "    Player *enemy = new Player(\"Enemy\", 100, 100);\n",
        "    display_active_players();\n",
        "    delete enemy;\n",
        "    display_active_players();    \n",
        "\n",
        "\n",
        "\n",
        "    return 0;\n",
        "}\n",
        "\n"
      ],
      "execution_count": null,
      "outputs": [
        {
          "output_type": "stream",
          "text": [
            "Writing main.cpp\n"
          ],
          "name": "stdout"
        }
      ]
    },
    {
      "cell_type": "code",
      "metadata": {
        "colab": {
          "base_uri": "https://localhost:8080/"
        },
        "id": "O94JzkuNWPBQ",
        "outputId": "7fa125e2-f2f7-497d-d1ca-7116fd3110ee"
      },
      "source": [
        "%%script bash\n",
        "\n",
        "g++ main.cpp Player.cpp -o main\n",
        "./main"
      ],
      "execution_count": null,
      "outputs": [
        {
          "output_type": "stream",
          "text": [
            "Active players: 0\n",
            "Active players: 1\n",
            "Active players: 2\n",
            "Active players: 1\n",
            "Active players: 2\n",
            "Active players: 1\n"
          ],
          "name": "stdout"
        }
      ]
    },
    {
      "cell_type": "markdown",
      "metadata": {
        "id": "pzlRy-XuYzWd"
      },
      "source": [
        "### **Struct**\n",
        "\n",
        "\n"
      ]
    },
    {
      "cell_type": "markdown",
      "metadata": {
        "id": "3ZXbgNgWayqQ"
      },
      "source": [
        "*   In addition to define a class we can declare a struct\n",
        "*   Struct comes from the C programming language\n",
        "*   Essentially the same as a class expect \n",
        "    * members are public by default\n",
        "\n",
        "**Struct vs Class**\n",
        "* Struct\n",
        "  * Use struct for passive objects with public access\n",
        "  * Do not declare methods in struct\n",
        "\n",
        "* class\n",
        "  * Use class for active objects with private access\n",
        "  * Implement getters/setters as needed\n",
        "  * Implement member methods as needed"
      ]
    },
    {
      "cell_type": "markdown",
      "metadata": {
        "id": "Ckm-LzC-a03L"
      },
      "source": [
        "### **Friends of a Class**"
      ]
    },
    {
      "cell_type": "code",
      "metadata": {
        "id": "Xc5OTU-obnfS"
      },
      "source": [
        "# example\n",
        "\n",
        "class Player{\n",
        "    friend void display_player(Player &p);\n",
        "    std::string_name;\n",
        "    int health;\n",
        "    int xp;\n",
        "public:\n",
        "};\n",
        "\n",
        "# in this code display player function can reach to the private members of the class and it can also change them"
      ],
      "execution_count": null,
      "outputs": []
    },
    {
      "cell_type": "code",
      "metadata": {
        "id": "hhHHorsJcMEb"
      },
      "source": [
        "class Player {\n",
        "    friend class Other_class;\n",
        "    std::string name;\n",
        "    int health;\n",
        "    int xp;\n",
        "public:\n",
        "\n",
        "};\n",
        "\n",
        "# here we declare other class as a friend of player class,so all the methods of other class have access to the player classes private attributes"
      ],
      "execution_count": null,
      "outputs": []
    },
    {
      "cell_type": "markdown",
      "metadata": {
        "id": "_P0AJMLCEWgz"
      },
      "source": [
        "### **Example Project**"
      ]
    },
    {
      "cell_type": "code",
      "metadata": {
        "colab": {
          "base_uri": "https://localhost:8080/"
        },
        "id": "dalSRpS6Fazg",
        "outputId": "e071d78f-11e4-4fd0-d389-f50d8cb4826d"
      },
      "source": [
        " %%writefile Movie.h\n",
        "\n",
        "/******************************************************************\n",
        " * Section 13 Challenge Solution\n",
        " * Movie.h\n",
        " * \n",
        " * Models a Movie with the following atttributes\n",
        " * \n",
        " * std::string name - the name of the movie \n",
        " * std::string rating - G, PG, PG-13, R\n",
        " * int watched - the number of times you've watched the movie\n",
        " * ***************************************************************/\n",
        "#ifndef _MOVIE_H_\n",
        "#define _MOVIE_H_\n",
        "\n",
        "#include <string>\n",
        "\n",
        "class Movie\n",
        "{\n",
        "private:\n",
        "    std::string name;   // the name of the movie\n",
        "    std::string rating;   // the movie rating G,PG, PG-13, R\n",
        "    int watched;          // the number of times you've watched the movie\n",
        "public:\n",
        "    // Constructor - expects all 3 movie attributes\n",
        "    Movie(std::string name, std::string rating, int watched);\n",
        "    \n",
        "    // Copy constructor \n",
        "    Movie(const Movie &source); \n",
        "    \n",
        "    // Destructor\n",
        "    ~Movie();\n",
        "    \n",
        "    // Basic getters and setters for private attributes\n",
        "    // implement these inline and watch your const-correctness\n",
        "    void set_name(std::string name) {this->name = name; }\n",
        "    std::string get_name() const { return name; }\n",
        "    \n",
        "    void set_rating(std::string rating) {this->rating = rating; }\n",
        "    std::string get_rating() const { return rating; }\n",
        "    \n",
        "    void set_watched(int watched) {this->watched = watched; }\n",
        "    int get_watched() const { return watched; }\n",
        "    \n",
        "    // Simply increment the watched attribute by 1\n",
        "    void increment_watched() { ++watched; }\n",
        "    \n",
        "    // simply displays the movie information ex.) Big, PG-13, 2\n",
        "    void display() const;\n",
        "};\n",
        "\n",
        "#endif // _MOVIE_H_"
      ],
      "execution_count": null,
      "outputs": [
        {
          "output_type": "stream",
          "text": [
            "Writing Movie.h\n"
          ],
          "name": "stdout"
        }
      ]
    },
    {
      "cell_type": "code",
      "metadata": {
        "colab": {
          "base_uri": "https://localhost:8080/"
        },
        "id": "jkqUSCN2xgp4",
        "outputId": "699a2e88-026c-4f2c-a849-cce6af76ed3b"
      },
      "source": [
        "%%writefile Movie.cpp\n",
        "\n",
        "/******************************************************************\n",
        " * Section 13 Challenge Solution\n",
        " * Movie.cpp\n",
        " * \n",
        " * Models a Movie with the following atttributes\n",
        " * \n",
        " * std::string name - the name of the movie \n",
        " * std::string rating - G, PG, PG-13, R\n",
        " * int watched - the number of times you've watched the movie\n",
        " * ***************************************************************/\n",
        "#include <iostream>\n",
        "#include \"Movie.h\"\n",
        "\n",
        "// Implemention of the construcor\n",
        "\n",
        "Movie::Movie(std::string name, std::string rating, int watched) \n",
        "    : name(name), rating(rating), watched(watched)  {\n",
        "}\n",
        "\n",
        "//Implemention of the copy constructor\n",
        "Movie::Movie(const Movie &source) \n",
        "    : Movie{source.name, source.rating, source.watched} {\n",
        "}\n",
        "\n",
        "// Implementation of the destructor\n",
        "Movie::~Movie() {\n",
        "}\n",
        "\n",
        "// Implementation of the display method\n",
        "// should just insert the movie attributes to cout\n",
        "\n",
        "void Movie::display() const {\n",
        "    std::cout << name << \", \" << rating <<  \", \" << watched  <<   std::endl;\n",
        "}\n"
      ],
      "execution_count": null,
      "outputs": [
        {
          "output_type": "stream",
          "text": [
            "Writing Movie.cpp\n"
          ],
          "name": "stdout"
        }
      ]
    },
    {
      "cell_type": "code",
      "metadata": {
        "colab": {
          "base_uri": "https://localhost:8080/"
        },
        "id": "GKwCD-Hx_x2z",
        "outputId": "f85f5051-ac77-4f0a-9aab-f5943fd56f2b"
      },
      "source": [
        " %%writefile Movies.h\n",
        "\n",
        "/******************************************************************\n",
        " * Section 13 Challenge Solution\n",
        " * Movies.h\n",
        " * \n",
        " * Models a collection of Movies as a std::vector\n",
        " *\n",
        " * ***************************************************************/\n",
        "\n",
        "#ifndef _MOVIES_H_\n",
        "#define _MOVIES_H_\n",
        "#include <vector>\n",
        "#include <string>\n",
        "#include \"Movie.h\"\n",
        "\n",
        "class Movies\n",
        "{\n",
        "private:\n",
        "    std::vector<Movie> movies;\n",
        "public:\n",
        "    Movies();             // Constructor\n",
        "    ~Movies();          // Destructor\n",
        "    /*************************************************************************\n",
        "    add_movie expects the name of the move, rating and watched count\n",
        "    \n",
        "    It will search the movies vector to see if a movie object already exists\n",
        "    with the same name. \n",
        "    \n",
        "    If it does then return false since the movie already exists\n",
        "    Otherwise, create a movie object from the provided information\n",
        "    and add that movie object to the movies vector and return true\n",
        "    *********************************************************************/\n",
        "    bool add_movie(std::string name, std::string rating, int watched);\n",
        "    \n",
        "    /*************************************************************************\n",
        "    increment_watched expects the name of the move to increment the\n",
        "    watched count\n",
        "    \n",
        "    It will search the movies vector to see if a movie object already exists\n",
        "    with the same name. \n",
        "    If it does then increment that objects watched by 1 and return true.\n",
        "\n",
        "    Otherwise, return false since then no movies object with the movie name\n",
        "    provided exists to increment\n",
        "    *********************************************************************/\n",
        "    bool increment_watched(std::string name);\n",
        "    \n",
        "    /*************************************************************************\n",
        "    display\n",
        "    \n",
        "    display all the movie objects in the movies vector.\n",
        "    for each movie call the movie.display method so the movie\n",
        "    object displays itself\n",
        "    *********************************************************************/\n",
        "    void display() const;\n",
        "};\n",
        "\n",
        "#endif // _MOVIES_H_\n"
      ],
      "execution_count": null,
      "outputs": [
        {
          "output_type": "stream",
          "text": [
            "Writing Movies.h\n"
          ],
          "name": "stdout"
        }
      ]
    },
    {
      "cell_type": "code",
      "metadata": {
        "colab": {
          "base_uri": "https://localhost:8080/"
        },
        "id": "xH-YpetSPhw4",
        "outputId": "d9a6b145-bf9b-43d9-dce9-dee186ee3d9c"
      },
      "source": [
        "%%writefile Movies.cpp\n",
        "\n",
        "/******************************************************************\n",
        " * Section 13 Challenge Solution\n",
        " * Movies.h\n",
        " * \n",
        " * Models a collection of Movies as a std::vector\n",
        " * \n",
        " * ***************************************************************/\n",
        "#include <iostream>\n",
        "#include \"Movies.h\"\n",
        "\n",
        " /*************************************************************************\n",
        "    Movies no-args constructor\n",
        "**************************************************************************/\n",
        "Movies::Movies() {\n",
        "}\n",
        "\n",
        "/*************************************************************************\n",
        "    Movies destructor\n",
        "**************************************************************************/\n",
        "Movies::~Movies() {\n",
        "}\n",
        "\n",
        "  /*************************************************************************\n",
        "    add_movie expects the name of the move, rating and watched count\n",
        "    \n",
        "    It will search the movies vector to see if a movie object already exists\n",
        "    with the same name. \n",
        "    \n",
        "    If it does then return false since the movie already exists\n",
        "    Otherwise, create a movie object from the provided information\n",
        "    and add that movie object to the movies vector and return true\n",
        "    *********************************************************************/\n",
        "bool Movies::add_movie(std::string name, std::string rating, int watched) {\n",
        "    for (const Movie &movie: movies) {\n",
        "        if (movie.get_name() == name)\n",
        "            return false;\n",
        "    }\n",
        "    Movie temp {name, rating, watched};\n",
        "    movies.push_back(temp);\n",
        "    return true;\n",
        "}\n",
        "\n",
        " /*************************************************************************\n",
        "    increment_watched expects the name of the move to increment the\n",
        "    watched count\n",
        "    \n",
        "    It will search the movies vector to see if a movie object already exists\n",
        "    with the same name. \n",
        "    If it does then increment that objects watched by 1 and return true.\n",
        "\n",
        "    Otherwise, return false since then no movies object with the movie name\n",
        "    provided exists to increment\n",
        "    *********************************************************************/\n",
        "bool Movies::increment_watched(std::string name) {\n",
        "    for (Movie &movie: movies) {\n",
        "        if (movie.get_name() == name) {\n",
        "            movie.increment_watched();\n",
        "            return true;\n",
        "        }\n",
        "    }\n",
        "    return false;\n",
        "}\n",
        "\n",
        "/*************************************************************************\n",
        "    display\n",
        "    \n",
        "    display all the movie objects in the movies vector.\n",
        "    for each movie call the movie.display method so the movie\n",
        "    object displays itself\n",
        "    *********************************************************************/\n",
        "void Movies::display() const {\n",
        "    if (movies.size() == 0) {\n",
        "        std::cout << \"Sorry, no movies to display\\n\" << std::endl;\n",
        "    } else {\n",
        "        std::cout << \"\\n===================================\" << std::endl;\n",
        "        for (const auto &movie: movies)\n",
        "            movie.display();\n",
        "        std::cout << \"\\n===================================\" << std::endl;\n",
        "    }\n",
        "}"
      ],
      "execution_count": null,
      "outputs": [
        {
          "output_type": "stream",
          "text": [
            "Writing Movies.cpp\n"
          ],
          "name": "stdout"
        }
      ]
    },
    {
      "cell_type": "code",
      "metadata": {
        "colab": {
          "base_uri": "https://localhost:8080/"
        },
        "id": "VcIW4ry9X5EF",
        "outputId": "a8ba4c43-6ab5-4dce-f8a8-bad9add5fc22"
      },
      "source": [
        "%%writefile main.cpp\n",
        "\n",
        "/******************************************************************\n",
        " * Section 13 Challenge Solution\n",
        " * main.cpp\n",
        " * \n",
        " * Test the Movies project\n",
        " * \n",
        " * ***************************************************************/\n",
        "#include <iostream>\n",
        "#include \"Movies.h\"\n",
        "\n",
        "// Function prototypes\n",
        "void increment_watched(Movies &movies, std::string name);\n",
        "void add_movie(Movies &movies, std::string name, std::string rating, int watched);\n",
        "\n",
        "/******************************************************************\n",
        " * helper function \n",
        " * increment_watched expects a reference to a Movies object \n",
        " * and the name of the movie to increment the watched count\n",
        " *\n",
        " * If the watched count was incremented successfully it\n",
        "*  displays a success message\n",
        "*  otherwise the watched count could not be incremented\n",
        "*  because the name of the movie was not found\n",
        " * ***************************************************************/\n",
        "\n",
        "void increment_watched(Movies &movies, std::string name) {\n",
        "    if (movies.increment_watched(name)) {\n",
        "        std::cout << name << \" watch incremented\" <<  std::endl;\n",
        "    } else {\n",
        "        std::cout << name << \" not found\" <<  std::endl;\n",
        "    }\n",
        "}\n",
        "\n",
        "/******************************************************************\n",
        "* helper function\n",
        "*  add_movie expects a reference to a Movies object \n",
        " * and the name of the movie, the rating and the watched count\n",
        " *\n",
        " * If the movie was successfully added to the movies object it\n",
        "*  displays a success message\n",
        "*  otherwise the movie was not added \n",
        "*  because the name of the movie was already in movies\n",
        " * ***************************************************************/\n",
        "void add_movie(Movies &movies, std::string name, std::string rating, int watched) {\n",
        "    if (movies.add_movie(name,rating,watched)) {\n",
        "        std::cout << name << \" added\" << std::endl;\n",
        "    } else {\n",
        "        std::cout << name << \" already exists\" <<  std::endl;\n",
        "    }\n",
        "}\n",
        "\n",
        "int main() {\n",
        "    \n",
        "    Movies my_movies;\n",
        "    \n",
        "    my_movies.display();\n",
        "    \n",
        "    add_movie(my_movies, \"Big\", \"PG-13\",2);                 // OK\n",
        "    add_movie(my_movies,\"Star Wars\", \"PG\",5);             // OK\n",
        "    add_movie(my_movies,\"Cinderella\", \"PG\",7);            // OK\n",
        "     \n",
        "    my_movies.display();   // Big, Star Wars, Cinderella\n",
        "    \n",
        "    add_movie(my_movies,\"Cinderella\", \"PG\",7);            // Already exists\n",
        "    add_movie(my_movies,\"Ice Age\", \"PG\",12);              // OK\n",
        " \n",
        "    my_movies.display();    // Big, Star Wars, Cinderella, Ice Age\n",
        "    \n",
        "    increment_watched(my_movies,\"Big\");                    // OK\n",
        "    increment_watched(my_movies,\"Ice Age\");              // OK\n",
        "    \n",
        "   my_movies.display();    // Big and Ice Age watched count incremented by 1\n",
        "    \n",
        "    increment_watched(my_movies,\"XXX\");     // XXX not found\n",
        "\n",
        "\treturn 0;\n",
        "}"
      ],
      "execution_count": null,
      "outputs": [
        {
          "output_type": "stream",
          "text": [
            "Writing main.cpp\n"
          ],
          "name": "stdout"
        }
      ]
    },
    {
      "cell_type": "code",
      "metadata": {
        "colab": {
          "base_uri": "https://localhost:8080/"
        },
        "id": "Ek6D0J5pZt_O",
        "outputId": "9061bd57-cea2-4e09-97c5-581e84fb4a09"
      },
      "source": [
        "%%script bash\n",
        "\n",
        "g++ main.cpp Movies.cpp Movie.cpp -o main\n",
        "./main"
      ],
      "execution_count": null,
      "outputs": [
        {
          "output_type": "stream",
          "text": [
            "Sorry, no movies to display\n",
            "\n",
            "Big added\n",
            "Star Wars added\n",
            "Cinderella added\n",
            "\n",
            "===================================\n",
            "Big, PG-13, 2\n",
            "Star Wars, PG, 5\n",
            "Cinderella, PG, 7\n",
            "\n",
            "===================================\n",
            "Cinderella already exists\n",
            "Ice Age added\n",
            "\n",
            "===================================\n",
            "Big, PG-13, 2\n",
            "Star Wars, PG, 5\n",
            "Cinderella, PG, 7\n",
            "Ice Age, PG, 12\n",
            "\n",
            "===================================\n",
            "Big watch incremented\n",
            "Ice Age watch incremented\n",
            "\n",
            "===================================\n",
            "Big, PG-13, 3\n",
            "Star Wars, PG, 5\n",
            "Cinderella, PG, 7\n",
            "Ice Age, PG, 13\n",
            "\n",
            "===================================\n",
            "XXX not found\n"
          ],
          "name": "stdout"
        }
      ]
    },
    {
      "cell_type": "markdown",
      "metadata": {
        "id": "0gFW5wOGtpU8"
      },
      "source": [
        "## **Operator Overloading**"
      ]
    },
    {
      "cell_type": "markdown",
      "metadata": {
        "id": "W9EgS4bW9yZY"
      },
      "source": [
        "Check the lesson videos again!!!!"
      ]
    },
    {
      "cell_type": "markdown",
      "metadata": {
        "id": "KXhe5ilX923Q"
      },
      "source": [
        "## **Inheritence**"
      ]
    },
    {
      "cell_type": "markdown",
      "metadata": {
        "id": "8p-ShvbyM6cq"
      },
      "source": [
        "* Provides a method for creating new classes from existing classes\n",
        "* The new class contains the data and behaviors of the existing class\n",
        "* Allow for reuse of existing classes\n",
        "* Allows us to focus on the common attributes among a set of classes\n",
        "* Allows new classes to modify behaviors of existing classes to make it unique\n",
        "    * Without actually modifying the original class"
      ]
    },
    {
      "cell_type": "code",
      "metadata": {
        "id": "_R2Fin6yZRAz"
      },
      "source": [
        "\n",
        "#many similar classes without inheritence\n",
        "class Account{ // balance, deposit, withdraw, };\n",
        "\n",
        "class Savings_Account { // balance, deposit, withdraw, interest rate, };\n",
        "\n",
        "class Checking_Account{ //balance,deposit,withdraw,minimum balance };\n",
        "\n",
        "class Trust_Account{ //balance, deposit, fee };\n",
        "\n",
        "#Same classes with inheritence (code reuse)\n",
        "class Account{ // balance, deposit, withdraw, ... };\n",
        "\n",
        "class Saving_Account : public Account{ // interest rate, specialized withdraw };\n",
        "\n",
        "class Checking_Account : public Account{ // minimum balance, per check fee, specialized withdraw };\n",
        "\n",
        "class Trust_Account : public Account{ // interest rate, specialized withdraw ... };"
      ],
      "execution_count": null,
      "outputs": []
    },
    {
      "cell_type": "markdown",
      "metadata": {
        "id": "wrFmZ_Hhc8Qo"
      },
      "source": [
        "### Terminology"
      ]
    },
    {
      "cell_type": "markdown",
      "metadata": {
        "id": "MO4MgNpMZajA"
      },
      "source": [
        "\n",
        "\n",
        "> Inheritence\n",
        "  * Process of creating new classes from existing classes\n",
        "\n",
        "> Single Inheritence\n",
        "  * A new class is created from another 'single' class\n",
        "\n",
        "> Multiple Inheritence\n",
        "  * A new class is created from two ( or more) other classes\n",
        "\n",
        "---\n",
        "\n",
        "> Base class(parent class, super class)\n",
        "  * The class being extended or inherited from\n",
        "\n",
        "> Derived class(child class, sub class)\n",
        "  * The class being created from the Base class\n",
        "  * Will inherit attributes and operations from Base class\n",
        "\n",
        "---\n",
        "> \"Is-A\" relationship\n",
        "  * Public inheritence\n",
        "  * Derived classes are sub-types of their Base classes\n",
        "  * Can use a derived class object wherever we use a base class object\n",
        "\n",
        "> Generalization\n",
        "  * Combining similar classes into a single, moer general class based on common attributes\n",
        "\n",
        "> Specialization\n",
        "  * Creating new classes from existing classes proving more specialized attributes or operations\n",
        "\n",
        "> Inheritence or Class Hierarchies\n",
        "  * Organization of our inheritence relationships\n",
        "  * Generalization and Specialization are being used to create Hierarchies"
      ]
    },
    {
      "cell_type": "markdown",
      "metadata": {
        "id": "83BQ5r8AdTE6"
      },
      "source": [
        "### Inheritence vs. Composition"
      ]
    },
    {
      "cell_type": "markdown",
      "metadata": {
        "id": "Gga_pwiFdbQF"
      },
      "source": [
        "> Public Inheritence\n",
        "  * \"is-a\" relationship\n",
        "    * Employee 'is-a' Person\n",
        "    * Checking Account 'is-a' Account\n",
        "    * Circle \"is-a\" Shape\n",
        "\n",
        "> Composition\n",
        "  * \"has-a\" relationship\n",
        "    * Person \"has a\" Account\n",
        "    * Player \"has-a\" Special Attack\n",
        "    * Circle \"has-a\" Location"
      ]
    },
    {
      "cell_type": "markdown",
      "metadata": {
        "id": "_D3XEmybTTs8"
      },
      "source": [
        "### **Deriving class**"
      ]
    },
    {
      "cell_type": "code",
      "metadata": {
        "colab": {
          "base_uri": "https://localhost:8080/"
        },
        "id": "zUrioxRvTZkd",
        "outputId": "7801a585-bbe8-4cba-dacc-f8ae9ba88672"
      },
      "source": [
        "%%writefile Account.h \n",
        "\n",
        "#ifndef _ACCOUNT_H_\n",
        "#define _ACCOUNT_H_\n",
        "#include <string>\n",
        "\n",
        "class Account\n",
        "{\n",
        "public:\n",
        "  double balance;\n",
        "  std::string name;\n",
        "  void deposit(double amount);\n",
        "  void withdraw(double amount);\n",
        "  Account();\n",
        "  ~Account();\n",
        " \n",
        "private:\n",
        "  int c{0};\n",
        " \n",
        "protected:\n",
        "  int b{0};\n",
        " \n",
        "};\n",
        "\n",
        "#endif // _ACCOUNT_H_"
      ],
      "execution_count": null,
      "outputs": [
        {
          "output_type": "stream",
          "text": [
            "Writing Account.h\n"
          ],
          "name": "stdout"
        }
      ]
    },
    {
      "cell_type": "code",
      "metadata": {
        "colab": {
          "base_uri": "https://localhost:8080/"
        },
        "id": "Qo1v0OwxUfu0",
        "outputId": "98d33e00-fd7e-4537-e424-45d74b3ab5fb"
      },
      "source": [
        "%%writefile Account.cpp\n",
        "\n",
        "#include <iostream>\n",
        "#include \"Account.h\"\n",
        "\n",
        "Account::Account(){\n",
        "    balance=0.0;\n",
        "    name = \"An account\";\n",
        "}\n",
        "\n",
        "Account::~Account(){\n",
        "}\n",
        "\n",
        "void Account::deposit(double amount){\n",
        "    std::cout << \"Account deposit called with\" << amount << std::endl;\n",
        "}\n",
        "\n",
        "void Account::withdraw(double amount){\n",
        "    std::cout << \"Account withdraw called with\" << amount << std::endl;\n",
        "}"
      ],
      "execution_count": null,
      "outputs": [
        {
          "output_type": "stream",
          "text": [
            "Writing Account.cpp\n"
          ],
          "name": "stdout"
        }
      ]
    },
    {
      "cell_type": "code",
      "metadata": {
        "colab": {
          "base_uri": "https://localhost:8080/"
        },
        "id": "ZdaKEnY_Vhf-",
        "outputId": "15667040-b321-49f9-c36c-169e736e90a4"
      },
      "source": [
        "%%writefile Savings_Account.h\n",
        "\n",
        "#ifndef _SAVINGS_ACCOUNT_H_\n",
        "#define _SAVINGS_ACCOUNT_H_\n",
        "#include \"Account.h\"\n",
        "\n",
        "class Savings_Account: public Account \n",
        "{\n",
        "public:\n",
        " double int_rate;\n",
        " Savings_Account();\n",
        " ~Savings_Account();\n",
        " void deposit(double amount);\n",
        " void withdraw(double amount);\n",
        "};\n",
        "\n",
        "#endif // _SAVINGS_ACCOUNT_H_"
      ],
      "execution_count": null,
      "outputs": [
        {
          "output_type": "stream",
          "text": [
            "Writing Savings_Account.h\n"
          ],
          "name": "stdout"
        }
      ]
    },
    {
      "cell_type": "code",
      "metadata": {
        "colab": {
          "base_uri": "https://localhost:8080/"
        },
        "id": "F4_KdXZcWg0K",
        "outputId": "5c8e6715-9fbd-4579-e448-06f68c94444b"
      },
      "source": [
        "%%writefile Savings_Account.cpp\n",
        "\n",
        "#include <iostream>\n",
        "#include \"Savings_Account.h\"\n",
        "\n",
        "Savings_Account::Savings_Account(){\n",
        "    int_rate=3.0;\n",
        "}\n",
        "\n",
        "Savings_Account::~Savings_Account(){\n",
        "}\n",
        "\n",
        "void Savings_Account::deposit(double amount){\n",
        "    std::cout << \"Savings Account deposit called with\" << amount << std::endl;\n",
        "}\n",
        "\n",
        "void Savings_Account::withdraw(double amount){\n",
        "    std::cout << \"Savings Account withdraw called with\" << amount << std::endl;\n",
        "}"
      ],
      "execution_count": null,
      "outputs": [
        {
          "output_type": "stream",
          "text": [
            "Writing Savings_Account.cpp\n"
          ],
          "name": "stdout"
        }
      ]
    },
    {
      "cell_type": "code",
      "metadata": {
        "colab": {
          "base_uri": "https://localhost:8080/"
        },
        "id": "7lu21LMiY7zc",
        "outputId": "a352a40b-55e5-4c44-c3d8-639943f4de70"
      },
      "source": [
        "%%writefile main.cpp\n",
        "\n",
        "#include <iostream>\n",
        "#include \"Account.h\"\n",
        "#include \"Savings_Account.h\"\n",
        "\n",
        "using namespace std;\n",
        "\n",
        "int main() { \n",
        "    \n",
        "    // Use the Account class\n",
        "    cout << \"\\n=== Account ==================================\" << endl;\n",
        "    Account acc {};\n",
        "    acc.deposit(2000.0);               \n",
        "    acc.withdraw(500.0);\n",
        "    \n",
        "    cout << endl;\n",
        "    \n",
        "    Account *p_acc {nullptr};\n",
        "    p_acc = new Account();\n",
        "    p_acc->deposit(1000.0);\n",
        "    p_acc->withdraw(500.0);\n",
        "    delete p_acc;\n",
        "\n",
        "// Use the Savings Account class\n",
        "    \n",
        "    cout << \"\\n=== Savings Account ==========================\" << endl;\n",
        "    Savings_Account sav_acc {};\n",
        "    sav_acc.deposit(2000.0);               \n",
        "    sav_acc.withdraw(500.0);\n",
        "    cout << sav_acc.name << endl;\n",
        "    \n",
        "    cout << endl;\n",
        "    \n",
        "    Savings_Account *p_sav_acc {nullptr};\n",
        "    p_sav_acc = new Savings_Account();\n",
        "    p_sav_acc->deposit(1000.0);\n",
        "    p_sav_acc->withdraw(500.0);\n",
        "    delete p_sav_acc;\n",
        "\n",
        "    cout << \"\\n==============================================\" << endl;\n",
        "    return 0;\n",
        "}\n",
        "\n"
      ],
      "execution_count": null,
      "outputs": [
        {
          "output_type": "stream",
          "text": [
            "Overwriting main.cpp\n"
          ],
          "name": "stdout"
        }
      ]
    },
    {
      "cell_type": "code",
      "metadata": {
        "colab": {
          "base_uri": "https://localhost:8080/"
        },
        "id": "cKBBFyvSZOU8",
        "outputId": "05262d20-9710-4bab-d59e-314eec1482ab"
      },
      "source": [
        "%%script bash\n",
        "\n",
        "g++ main.cpp Account.cpp Savings_Account.cpp -o main\n",
        "./main"
      ],
      "execution_count": null,
      "outputs": [
        {
          "output_type": "stream",
          "text": [
            "\n",
            "=== Account ==================================\n",
            "Account deposit called with2000\n",
            "Account withdraw called with500\n",
            "\n",
            "Account deposit called with1000\n",
            "Account withdraw called with500\n",
            "\n",
            "=== Savings Account ==========================\n",
            "Savings Account deposit called with2000\n",
            "Savings Account withdraw called with500\n",
            "An account\n",
            "\n",
            "Savings Account deposit called with1000\n",
            "Savings Account withdraw called with500\n",
            "\n",
            "==============================================\n"
          ],
          "name": "stdout"
        }
      ]
    },
    {
      "cell_type": "markdown",
      "metadata": {
        "id": "5pmwnV8iP5I4"
      },
      "source": [
        "### **Inheretence with Copy Constructor**"
      ]
    },
    {
      "cell_type": "code",
      "metadata": {
        "colab": {
          "base_uri": "https://localhost:8080/"
        },
        "id": "-rrEdgCJPwlI",
        "outputId": "6d8b4497-105c-413e-815d-7378ce5b533b"
      },
      "source": [
        "%%writefile cons.cpp\n",
        "\n",
        "// Section 15\n",
        "// Copy constructor and operator=\n",
        "#include <iostream>\n",
        "\n",
        "using namespace std;\n",
        "\n",
        "class Base {\n",
        "private:\n",
        "    int value;\n",
        "public:\n",
        "   Base()\n",
        "        : value {0}  { \n",
        "            cout << \"Base no-args constructor\" << endl; \n",
        "    }\n",
        "    Base(int x) \n",
        "        : value {x} { \n",
        "            cout << \"int Base constructor\" << endl;\n",
        "    }\n",
        "    Base(const Base &other) \n",
        "        : value {other.value} {\n",
        "         cout << \"Base copy constructor\" << endl;     \n",
        "    }\n",
        "        \n",
        "    Base &operator=(const Base &rhs)  {\n",
        "    cout << \"Base operator=\" << endl;\n",
        "        if (this == &rhs)\n",
        "            return *this;\n",
        "        value = rhs.value;\n",
        "        return *this;\n",
        "    }\n",
        "            \n",
        "   ~Base(){ cout << \"Base destructor\" << endl; }\n",
        "};\n",
        "\n",
        "class Derived : public Base {\n",
        "private:\n",
        "    int doubled_value;\n",
        "public:\n",
        "    Derived() : \n",
        "        Base {}  {\n",
        "            cout << \"Derived no-args constructor \" << endl; \n",
        "    }\n",
        "    Derived(int x) \n",
        "        : Base{x} , doubled_value {x * 2} { \n",
        "            cout << \"int Derived constructor\" << endl; \n",
        "    }\n",
        "    Derived(const Derived &other)\n",
        "        : Base(other), doubled_value {other.doubled_value} {\n",
        "         cout << \"Derived copy constructor\" << endl;     \n",
        "    }\n",
        "    \n",
        "    Derived &operator=(const Derived &rhs) {\n",
        "            cout << \"Derived operator=\" << endl;\n",
        "        if (this == &rhs)\n",
        "            return *this;\n",
        "        Base::operator=(rhs);\n",
        "        doubled_value = rhs.doubled_value;\n",
        "        return *this;\n",
        "    }\n",
        "   ~Derived(){ cout << \"Derived destructor \" << endl; } \n",
        "};\n",
        "\n",
        "\n",
        "int main() {\n",
        "//    Base b {100};   // Overloaded constructor\n",
        "//    Base b1 {b};    // Copy constructor\n",
        "//    b = b1;          //   Copy assignment\n",
        "\n",
        "    Derived d {100};    // Overloaded constructor\n",
        "    Derived d1 {d};     // Copy constructor\n",
        "    d = d1;                // Copy assignment\n",
        "    \n",
        "    return 0;\n",
        "}\n",
        "\n"
      ],
      "execution_count": null,
      "outputs": [
        {
          "output_type": "stream",
          "text": [
            "Writing cons.cpp\n"
          ],
          "name": "stdout"
        }
      ]
    },
    {
      "cell_type": "code",
      "metadata": {
        "colab": {
          "base_uri": "https://localhost:8080/"
        },
        "id": "K6T5U0KOQHHu",
        "outputId": "91ff8413-b7c3-4fc5-8bc9-7465e8426ea8"
      },
      "source": [
        "%%script bash\n",
        "\n",
        "g++ cons.cpp -o cons1\n",
        "./cons1"
      ],
      "execution_count": null,
      "outputs": [
        {
          "output_type": "stream",
          "text": [
            "int Base constructor\n",
            "int Derived constructor\n",
            "Base copy constructor\n",
            "Derived copy constructor\n",
            "Derived operator=\n",
            "Base operator=\n",
            "Derived destructor \n",
            "Base destructor\n",
            "Derived destructor \n",
            "Base destructor\n"
          ],
          "name": "stdout"
        }
      ]
    },
    {
      "cell_type": "markdown",
      "metadata": {
        "id": "SpcCrq6dXDhd"
      },
      "source": [
        "## **Polymorphisim**"
      ]
    },
    {
      "cell_type": "markdown",
      "metadata": {
        "id": "Llq3CdDTXLzI"
      },
      "source": [
        "* Run time/late binding/dynamic binding\n",
        "\n",
        "> Runtime polymorphism = being able to assign different meanings to the same function at run-time\n"
      ]
    },
    {
      "cell_type": "code",
      "metadata": {
        "id": "w1sKepJmduFN"
      },
      "source": [
        "%%writefile poly.cpp\n",
        "\n",
        "\n",
        "#include <iostream>\n",
        "#include <memory>\n",
        "\n",
        "class Base {\n",
        "public:\n",
        "    void say_hello() const {\n",
        "        std::cout << \"Hello - I'm a Base class object\" << std::endl;\n",
        "    }\n",
        "};\n",
        "\n",
        "class Derived: public Base {\n",
        "public:\n",
        "    void say_hello()  const {   \n",
        "        std::cout << \"Hello - I'm a Derived class object\" << std::endl;\n",
        "    }\n",
        "};\n",
        "\n",
        "void greetings(const Base &obj) {\n",
        "    std::cout << \"Greetings: \" ;\n",
        "    obj.say_hello();\n",
        "}\n",
        "\n",
        "int main() {\n",
        "    Base b;\n",
        "    b.say_hello();\n",
        "    \n",
        "    Derived d;\n",
        "    d.say_hello();\n",
        "    \n",
        "    greetings(b); # this line prints base class function\n",
        "    greetings(d); # this line also prints base class function because derived class \"is\" inherited from base class\n",
        "    \n",
        "    Base *ptr = new Derived();\n",
        "    ptr->say_hello();\n",
        "    \n",
        "    std::unique_ptr<Base> ptr1 = std::make_unique<Derived>();\n",
        "    ptr1->say_hello();\n",
        "    \n",
        "    \n",
        "    \n",
        "   delete ptr;\n",
        "    \n",
        "    return 0;\n",
        "}\n",
        "\n"
      ],
      "execution_count": null,
      "outputs": []
    },
    {
      "cell_type": "markdown",
      "metadata": {
        "id": "oocDDdgHTsfO"
      },
      "source": [
        "### **Virtual Functions**"
      ]
    },
    {
      "cell_type": "markdown",
      "metadata": {
        "id": "QpdylQBbTyiu"
      },
      "source": [
        "* Redefined functions are bound statically\n",
        "* Overridden functions are bound dynamically\n",
        "* Virtual functions are overriden\n",
        "* Allow us to treat all objects generally as objects of the Base class"
      ]
    },
    {
      "cell_type": "code",
      "metadata": {
        "id": "sOdvWnvgV7VU"
      },
      "source": [
        "class Account {\n",
        "\n",
        "public:\n",
        "\n",
        "virtual void withdraw(double amount);\n",
        ".....\n",
        "};"
      ],
      "execution_count": null,
      "outputs": []
    },
    {
      "cell_type": "markdown",
      "metadata": {
        "id": "2uMkp8pYVUkQ"
      },
      "source": [
        "* Override the function in the Derived classes\n",
        "* Function signature and return type must match EXACTLY\n",
        "* Virtual keyword not required but is best practice\n",
        "* if you don't provide an overriden version it is inherited from it's base class"
      ]
    },
    {
      "cell_type": "code",
      "metadata": {
        "id": "mNyAOpIjF9I3"
      },
      "source": [
        "class Checking : public Account {\n",
        "    public:\n",
        "      virtual void withdraw(double amount);\n",
        "      ....\n",
        "}"
      ],
      "execution_count": null,
      "outputs": []
    },
    {
      "cell_type": "code",
      "metadata": {
        "colab": {
          "base_uri": "https://localhost:8080/"
        },
        "id": "8v1ucZrLXmkE",
        "outputId": "bfcfb287-ce87-4c77-a548-94f35546c416"
      },
      "source": [
        "%%writefile virtual.cpp\n",
        "\n",
        "// change virtual functions to normal functions and check the differences \n",
        "\n",
        "#include <iostream>\n",
        "\n",
        "class Account{\n",
        "    public:\n",
        "      virtual void withdraw(double amount){\n",
        "          std::cout << \"In Account::withdraw\" << std::endl;\n",
        "      }\n",
        "};\n",
        "\n",
        "class Checking: public Account {\n",
        "    public:\n",
        "      virtual void withdraw(double amount){\n",
        "          std::cout << \"In Checking::withdraw\" << std::endl;\n",
        "      }\n",
        "};\n",
        "\n",
        "class Savings: public Account {\n",
        "    public:\n",
        "      virtual void withdraw(double amount){\n",
        "          std::cout << \"In Savings::withdraw\" << std::endl;\n",
        "      }\n",
        "};\n",
        "\n",
        "class Trust: public Account {\n",
        "    public:\n",
        "      virtual void withdraw(double amount){\n",
        "          std::cout << \"In Trust::withdraw\" << std::endl;\n",
        "      }\n",
        "};\n",
        "\n",
        "int main(){\n",
        "    std::cout << \"\\n ===Pointers ===\" << std::endl;\n",
        "    Account *p1 = new Account();\n",
        "    Account *p2 = new Savings();\n",
        "    Account *p3 = new Checking();\n",
        "    Account *p4 = new Trust();\n",
        "\n",
        "    p1->withdraw(1000);\n",
        "    p2->withdraw(1000);\n",
        "    p3->withdraw(1000);\n",
        "    p4->withdraw(1000);\n",
        "\n",
        "    std::cout << \"\\n ===Pointers ===\" << std::endl;\n",
        "\n",
        "    std::cout << \"\\n ===Objects ===\" << std::endl;\n",
        "    Account c1;\n",
        "    Savings c2;\n",
        "    Checking c3;\n",
        "    Trust c4;\n",
        "\n",
        "    c1.withdraw(100);\n",
        "    c2.withdraw(100);\n",
        "    c3.withdraw(100);\n",
        "    c4.withdraw(100);\n",
        "\n",
        "    std::cout << \"\\n ===Objects ===\" << std::endl;\n",
        "\n",
        "    delete p1;\n",
        "    delete p2;\n",
        "    delete p3;\n",
        "    delete p4;\n",
        "\n",
        "    return 0;\n",
        "}"
      ],
      "execution_count": null,
      "outputs": [
        {
          "output_type": "stream",
          "text": [
            "Overwriting virtual.cpp\n"
          ],
          "name": "stdout"
        }
      ]
    },
    {
      "cell_type": "code",
      "metadata": {
        "colab": {
          "base_uri": "https://localhost:8080/"
        },
        "id": "vXWxaIaBZBI8",
        "outputId": "c65f7c8d-166a-4507-cdac-8db2a014e88d"
      },
      "source": [
        "%%script bash\n",
        "\n",
        "g++ virtual.cpp -o virtual\n",
        "./virtual"
      ],
      "execution_count": null,
      "outputs": [
        {
          "output_type": "stream",
          "text": [
            "\n",
            " ===Pointers ===\n",
            "In Account::withdraw\n",
            "In Savings::withdraw\n",
            "In Checking::withdraw\n",
            "In Trust::withdraw\n",
            "\n",
            " ===Pointers ===\n",
            "\n",
            " ===Objects ===\n",
            "In Account::withdraw\n",
            "In Savings::withdraw\n",
            "In Checking::withdraw\n",
            "In Trust::withdraw\n",
            "\n",
            " ===Objects ===\n"
          ],
          "name": "stdout"
        }
      ]
    },
    {
      "cell_type": "markdown",
      "metadata": {
        "id": "WMABjdMLBV3I"
      },
      "source": [
        "## **Smart Pointers**"
      ]
    },
    {
      "cell_type": "markdown",
      "metadata": {
        "id": "8XOQXMT4Ek0j"
      },
      "source": [
        "* Smart pointers are described in C++ standart library #include <memory> header file\n",
        "* Smart pointers provide automatic memory management"
      ]
    },
    {
      "cell_type": "markdown",
      "metadata": {
        "id": "x_iEpOSA0iNb"
      },
      "source": [
        "### **Unique Ptr**"
      ]
    },
    {
      "cell_type": "markdown",
      "metadata": {
        "id": "nS2g8d9K0lSN"
      },
      "source": [
        "* with unique_ptr a memory can be addressed by only one pointer"
      ]
    },
    {
      "cell_type": "code",
      "metadata": {
        "id": "tlMf7ySrxkdu"
      },
      "source": [
        "%%writefile smart.cpp\n",
        "\n",
        "#include <iostream>\n",
        "#include <memory>\n",
        "\n",
        "using namespace std;\n",
        "\n",
        "char *y;\n",
        "std::unique_ptr<string> sy = std::make_unique<string>();\n",
        "\n",
        "void UseRawPointer()\n",
        "{\n",
        "    char *x = new char[5];\n",
        "    x = \"hello\";\n",
        "    cout << x << endl;\n",
        "    y = x; // THEY POINT THE SAME ADDRESS\n",
        "}\n",
        "\n",
        "void UseSmartPointer()\n",
        "{\n",
        "    std::unique_ptr<string> sx = std::make_unique<string>();\n",
        "    *sx = \"smart hello\";\n",
        "    cout << *sx << endl;\n",
        "    sy.reset(sx.get());  // We can not use sy = sx because we use here unique_ptr\n",
        "}\n",
        "\n",
        "int main(){\n",
        "    \n",
        "    UseRawPointer();\n",
        "    cout << \"y:\" << y << endl;\n",
        "\n",
        "    UseSmartPointer();\n",
        "    cout << \"sy:\" << *sy << endl;\n",
        "\n",
        "    return 0;\n",
        "}"
      ],
      "execution_count": null,
      "outputs": []
    },
    {
      "cell_type": "code",
      "metadata": {
        "colab": {
          "base_uri": "https://localhost:8080/"
        },
        "id": "24-7hVVFzDt9",
        "outputId": "b0d548f9-0ff8-47e6-8465-5022c6c4de40"
      },
      "source": [
        "%%script bash\n",
        "\n",
        "g++ smart.cpp -o smart\n",
        "./smart"
      ],
      "execution_count": 10,
      "outputs": [
        {
          "output_type": "stream",
          "text": [
            "hello\n",
            "y:hello\n",
            "smart hello\n",
            "sy:\u0000\u0000\u0000\u0000\u0000\u0000\u0000\u0000\u0000\u0000\u0000\n"
          ],
          "name": "stdout"
        },
        {
          "output_type": "stream",
          "text": [
            "smart.cpp: In function ‘void UseRawPointer()’:\n",
            "smart.cpp:13:9: warning: ISO C++ forbids converting a string constant to ‘char*’ [-Wwrite-strings]\n",
            "     x = \"hello\";\n",
            "         ^~~~~~~\n"
          ],
          "name": "stderr"
        }
      ]
    },
    {
      "cell_type": "markdown",
      "metadata": {
        "id": "WGEa3JOm02LZ"
      },
      "source": [
        "### **Shared ptr**"
      ]
    },
    {
      "cell_type": "markdown",
      "metadata": {
        "id": "_P_K8PbX07LH"
      },
      "source": [
        "* with shared_ptr a memory can be addressed by only multiple pointers"
      ]
    },
    {
      "cell_type": "code",
      "metadata": {
        "colab": {
          "base_uri": "https://localhost:8080/"
        },
        "id": "vRBXHgS_05KN",
        "outputId": "7688cfeb-63e8-4f9f-8835-6315307042cf"
      },
      "source": [
        "%%writefile shared.cpp\n",
        "\n",
        "#include <iostream>\n",
        "#include <memory>\n",
        "\n",
        "using namespace std;\n",
        "\n",
        "char *y;\n",
        "//std::unique_ptr<string> sy = std::make_unique<string>();\n",
        "\n",
        "std::shared_ptr<string> sy = std::make_shared<string>();\n",
        "\n",
        "void UseRawPointer()\n",
        "{\n",
        "    char *x = new char[5];\n",
        "    x = \"hello\";\n",
        "    cout << x << endl;\n",
        "    y = x;  // THEY POINT THE SAME ADDRESS\n",
        "}\n",
        "\n",
        "void UseSmartPointer()\n",
        "{\n",
        "    //std::unique_ptr<string> sx = std::make_unique<string>();\n",
        " \n",
        "    std::shared_ptr<string> sx = std::make_shared<string>();\n",
        "    *sx = \"smart hello\";\n",
        "    cout << *sx << endl;\n",
        "    //sy.reset(sx.get());\n",
        "    sy = sx;\n",
        "}\n",
        "\n",
        "int main(){\n",
        "    \n",
        "    UseRawPointer();\n",
        "    cout << \"y:\" << y << endl;\n",
        "\n",
        "    UseSmartPointer();\n",
        "    cout << \"sy:\" << *sy << endl;\n",
        "\n",
        "    return 0;\n",
        "}"
      ],
      "execution_count": 11,
      "outputs": [
        {
          "output_type": "stream",
          "text": [
            "Writing shared.cpp\n"
          ],
          "name": "stdout"
        }
      ]
    },
    {
      "cell_type": "code",
      "metadata": {
        "colab": {
          "base_uri": "https://localhost:8080/"
        },
        "id": "f6mjwxTk12fY",
        "outputId": "1671450e-8ac2-47d6-ab18-3629c39e2167"
      },
      "source": [
        "%%script bash\n",
        "\n",
        "g++ shared.cpp -o shared\n",
        "./shared"
      ],
      "execution_count": 12,
      "outputs": [
        {
          "output_type": "stream",
          "text": [
            "hello\n",
            "y:hello\n",
            "smart hello\n",
            "sy:smart hello\n"
          ],
          "name": "stdout"
        },
        {
          "output_type": "stream",
          "text": [
            "shared.cpp: In function ‘void UseRawPointer()’:\n",
            "shared.cpp:15:9: warning: ISO C++ forbids converting a string constant to ‘char*’ [-Wwrite-strings]\n",
            "     x = \"hello\";\n",
            "         ^~~~~~~\n"
          ],
          "name": "stderr"
        }
      ]
    },
    {
      "cell_type": "markdown",
      "metadata": {
        "id": "JVzqnrZj2iwL"
      },
      "source": [
        "### **Weak Ptr**"
      ]
    },
    {
      "cell_type": "markdown",
      "metadata": {
        "id": "0Xm-7RgG2nJ9"
      },
      "source": [
        "* a reference pointer addresses to a shared_ptr\n",
        "* it holds the value of smart_ptr until smart_ptr is changed\n",
        "* The data at weak_ptr must be controlled with expired() and lock() methods"
      ]
    },
    {
      "cell_type": "code",
      "metadata": {
        "colab": {
          "base_uri": "https://localhost:8080/"
        },
        "id": "Y1Fg9AP23TFR",
        "outputId": "58e2615b-7d65-4969-c9b7-244afdc4c752"
      },
      "source": [
        "%%writefile weak.cpp\n",
        "\n",
        "#include <iostream>\n",
        "#include <memory>\n",
        "\n",
        "int main(){\n",
        "    \n",
        "    std::shared_ptr<int> shared1 = std::make_shared<int> ();\n",
        "    *shared1 = 1453;\n",
        "\n",
        "    std::weak_ptr<int> weak1 = shared1;\n",
        "\n",
        "    shared1.reset(new int);\n",
        "    *shared1 = 1905;\n",
        "\n",
        "    std::weak_ptr<int> weak2 = shared1;\n",
        "\n",
        "    if (auto tmp = weak1.lock())\n",
        "\n",
        "        std::cout << \"weak1: \" << *tmp << '\\n' ;\n",
        "      \n",
        "    else\n",
        "\n",
        "        std::cout << \"weak1 is expired\\n\";\n",
        "\n",
        "    if (auto tmp = weak2.lock())\n",
        "\n",
        "        std::cout << \"weak2: \" << *tmp << '\\n' ;\n",
        "      \n",
        "    else\n",
        "\n",
        "        std::cout << \"weak2 is expired\\n\";\n",
        "\n",
        "    return 0;\n",
        "\n",
        "}"
      ],
      "execution_count": 13,
      "outputs": [
        {
          "output_type": "stream",
          "text": [
            "Writing weak.cpp\n"
          ],
          "name": "stdout"
        }
      ]
    },
    {
      "cell_type": "code",
      "metadata": {
        "colab": {
          "base_uri": "https://localhost:8080/"
        },
        "id": "lfldXlot4h2l",
        "outputId": "89f60086-c07a-4e15-cbec-717c46f48c81"
      },
      "source": [
        "%%script  bash\n",
        "\n",
        "g++ weak.cpp -o weak\n",
        "./weak"
      ],
      "execution_count": 14,
      "outputs": [
        {
          "output_type": "stream",
          "text": [
            "weak1 is expired\n",
            "weak2: 1905\n"
          ],
          "name": "stdout"
        }
      ]
    }
  ]
}