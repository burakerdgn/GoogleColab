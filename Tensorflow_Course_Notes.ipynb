{
  "nbformat": 4,
  "nbformat_minor": 0,
  "metadata": {
    "colab": {
      "name": "Tensorflow_Course_Notes.ipynb",
      "provenance": [],
      "collapsed_sections": [
        "HXjWz9Zt7BcF",
        "JBbcGF8-7YGc",
        "t7ysqwBWI2Ch",
        "_IRaFagmg3gU",
        "Lb_JOIQEBEud",
        "caqsxHkcGlLR",
        "fwwcnXLUrvS6",
        "UvC97t-0hbGK",
        "0zuXvLomGeg5",
        "uD50eRwME9mF",
        "DIcoUgpRnSkO",
        "UEHt5vonnkvD",
        "YlgfJK_yHyaK",
        "hP98mIzMdl3y",
        "g67wMHPwztZK",
        "vVx5-u7-Njhf",
        "BI-eyWk4hNkx",
        "5KSk9WsvtIte",
        "PliLNVGCq4e8"
      ],
      "toc_visible": true,
      "authorship_tag": "ABX9TyNXNIB0bi/XyjkWFfUympgM",
      "include_colab_link": true
    },
    "kernelspec": {
      "name": "python3",
      "display_name": "Python 3"
    },
    "language_info": {
      "name": "python"
    },
    "accelerator": "GPU"
  },
  "cells": [
    {
      "cell_type": "markdown",
      "metadata": {
        "id": "view-in-github",
        "colab_type": "text"
      },
      "source": [
        "<a href=\"https://colab.research.google.com/github/burakerdgn/GoogleColab/blob/main/Tensorflow_Course_Notes.ipynb\" target=\"_parent\"><img src=\"https://colab.research.google.com/assets/colab-badge.svg\" alt=\"Open In Colab\"/></a>"
      ]
    },
    {
      "cell_type": "markdown",
      "metadata": {
        "id": "HXjWz9Zt7BcF"
      },
      "source": [
        "## ***Connection to Google Drive***\n"
      ]
    },
    {
      "cell_type": "code",
      "metadata": {
        "colab": {
          "base_uri": "https://localhost:8080/"
        },
        "id": "4tWTaxd6Uc2Q",
        "outputId": "75f5f0cc-ca64-42c9-b8fc-d51bec7060ff"
      },
      "source": [
        "!apt-get install -y -qq software-properties-common python-software-properties module-init-tools\n",
        "!add-apt-repository -y ppa:alessandro-strada/ppa 2>&1 > /dev/null\n",
        "!apt-get update -qq 2>&1 > /dev/null\n",
        "!apt-get -y install -qq google-drive-ocamlfuse fuse\n",
        "from google.colab import auth\n",
        "auth.authenticate_user()\n",
        "from oauth2client.client import GoogleCredentials\n",
        "creds = GoogleCredentials.get_application_default()\n",
        "import getpass\n",
        "!google-drive-ocamlfuse -headless -id={creds.client_id} -secret={creds.client_secret} < /dev/null 2>&1 | grep URL\n",
        "vcode = getpass.getpass()\n",
        "!echo {vcode} | google-drive-ocamlfuse -headless -id={creds.client_id} -secret={creds.client_secret}"
      ],
      "execution_count": null,
      "outputs": [
        {
          "output_type": "stream",
          "text": [
            "E: Package 'python-software-properties' has no installation candidate\n",
            "Selecting previously unselected package google-drive-ocamlfuse.\n",
            "(Reading database ... 160983 files and directories currently installed.)\n",
            "Preparing to unpack .../google-drive-ocamlfuse_0.7.26-0ubuntu1~ubuntu18.04.1_amd64.deb ...\n",
            "Unpacking google-drive-ocamlfuse (0.7.26-0ubuntu1~ubuntu18.04.1) ...\n",
            "Setting up google-drive-ocamlfuse (0.7.26-0ubuntu1~ubuntu18.04.1) ...\n",
            "Processing triggers for man-db (2.8.3-2ubuntu0.1) ...\n",
            "Please, open the following URL in a web browser: https://accounts.google.com/o/oauth2/auth?client_id=32555940559.apps.googleusercontent.com&redirect_uri=urn%3Aietf%3Awg%3Aoauth%3A2.0%3Aoob&scope=https%3A%2F%2Fwww.googleapis.com%2Fauth%2Fdrive&response_type=code&access_type=offline&approval_prompt=force\n",
            "··········\n",
            "Please, open the following URL in a web browser: https://accounts.google.com/o/oauth2/auth?client_id=32555940559.apps.googleusercontent.com&redirect_uri=urn%3Aietf%3Awg%3Aoauth%3A2.0%3Aoob&scope=https%3A%2F%2Fwww.googleapis.com%2Fauth%2Fdrive&response_type=code&access_type=offline&approval_prompt=force\n",
            "Please enter the verification code: Access token retrieved correctly.\n"
          ],
          "name": "stdout"
        }
      ]
    },
    {
      "cell_type": "code",
      "metadata": {
        "id": "4UQw8XSFUuDk"
      },
      "source": [
        "!mkdir -p drive\n",
        "\n"
      ],
      "execution_count": null,
      "outputs": []
    },
    {
      "cell_type": "code",
      "metadata": {
        "id": "5mfrLPu6Q3K2"
      },
      "source": [
        "!google-drive-ocamlfuse drive"
      ],
      "execution_count": null,
      "outputs": []
    },
    {
      "cell_type": "code",
      "metadata": {
        "id": "buh6cOXvU5GR"
      },
      "source": [
        "import sys\n",
        "sys.path.insert(0,'drive/Colab_workspace')"
      ],
      "execution_count": null,
      "outputs": []
    },
    {
      "cell_type": "code",
      "metadata": {
        "colab": {
          "base_uri": "https://localhost:8080/"
        },
        "id": "tLYiN3h7U9vP",
        "outputId": "2759af72-1d77-4fc1-ff95-6e7248f19384"
      },
      "source": [
        "cd drive/Colab_workspace/"
      ],
      "execution_count": null,
      "outputs": [
        {
          "output_type": "stream",
          "text": [
            "/content/drive/Colab_workspace\n"
          ],
          "name": "stdout"
        }
      ]
    },
    {
      "cell_type": "code",
      "metadata": {
        "id": "AJll6QfzbO8C"
      },
      "source": [
        "!pip install -q keras\n",
        "import keras\n"
      ],
      "execution_count": null,
      "outputs": []
    },
    {
      "cell_type": "code",
      "metadata": {
        "id": "0Op2-JL6vUOU"
      },
      "source": [
        ""
      ],
      "execution_count": null,
      "outputs": []
    },
    {
      "cell_type": "code",
      "metadata": {
        "colab": {
          "base_uri": "https://localhost:8080/"
        },
        "id": "xJIyv4uEBvjX",
        "outputId": "dd007988-1e70-4fb5-ade9-c0a2b3ea3b05"
      },
      "source": [
        "!ls"
      ],
      "execution_count": null,
      "outputs": [
        {
          "output_type": "stream",
          "text": [
            "DATA\t\t      ngrok-stable-linux-amd64.zip\n",
            "keras_deneme1.ipynb   pratik-derin-ogrenme-uygulamalari\n",
            "keras_deneme_2.ipynb  rakam_tanima_CNN_MNIST_Keras.py\n",
            "keras-mnist-tutorial  tb_logs\n",
            "ngrok\n"
          ],
          "name": "stdout"
        }
      ]
    },
    {
      "cell_type": "markdown",
      "metadata": {
        "id": "JBbcGF8-7YGc"
      },
      "source": [
        "## ***Bank Data Project***"
      ]
    },
    {
      "cell_type": "code",
      "metadata": {
        "id": "Jm9ch1WNbYUd"
      },
      "source": [
        "import numpy as np\n",
        "from numpy import genfromtxt\n",
        "data = genfromtxt('DATA/bank_note_data.txt',delimiter=',')\n",
        "data"
      ],
      "execution_count": null,
      "outputs": []
    },
    {
      "cell_type": "code",
      "metadata": {
        "id": "1q_jZabkv_J0"
      },
      "source": [
        "labels = data[:,4]\n",
        "labels"
      ],
      "execution_count": null,
      "outputs": []
    },
    {
      "cell_type": "code",
      "metadata": {
        "id": "4QFTkXf0yawz"
      },
      "source": [
        "features = data [:,0:4]\n",
        "features"
      ],
      "execution_count": null,
      "outputs": []
    },
    {
      "cell_type": "code",
      "metadata": {
        "id": "jpzbilO0yppH"
      },
      "source": [
        "X = features\n",
        "y = labels"
      ],
      "execution_count": null,
      "outputs": []
    },
    {
      "cell_type": "code",
      "metadata": {
        "id": "k49KB7e1ywRG"
      },
      "source": [
        "from sklearn.model_selection import train_test_split"
      ],
      "execution_count": null,
      "outputs": []
    },
    {
      "cell_type": "code",
      "metadata": {
        "id": "9jRgCrwuy83q"
      },
      "source": [
        "X_train, X_test, y_train, y_test = train_test_split(X, y, test_size=0.33, random_state=42)"
      ],
      "execution_count": null,
      "outputs": []
    },
    {
      "cell_type": "code",
      "metadata": {
        "id": "b_G7623-1Tvk"
      },
      "source": [
        "from sklearn.preprocessing import MinMaxScaler"
      ],
      "execution_count": null,
      "outputs": []
    },
    {
      "cell_type": "code",
      "metadata": {
        "id": "4QGUFtQa1kfI"
      },
      "source": [
        "scaler_object = MinMaxScaler()"
      ],
      "execution_count": null,
      "outputs": []
    },
    {
      "cell_type": "code",
      "metadata": {
        "id": "8jlMfPEp1uoW"
      },
      "source": [
        "scaler_object.fit(X_train)"
      ],
      "execution_count": null,
      "outputs": []
    },
    {
      "cell_type": "code",
      "metadata": {
        "id": "Z0Q-MYk_2CXb"
      },
      "source": [
        "scaled_X_train = scaler_object.transform(X_train)\n",
        "scaled_X_test = scaler_object.transform(X_test)"
      ],
      "execution_count": null,
      "outputs": []
    },
    {
      "cell_type": "code",
      "metadata": {
        "id": "IrhcXSCv2jL-"
      },
      "source": [
        "from keras.models import Sequential\n",
        "from keras.layers import Dense\n",
        "\n"
      ],
      "execution_count": null,
      "outputs": []
    },
    {
      "cell_type": "code",
      "metadata": {
        "id": "a6U2hOy6290v"
      },
      "source": [
        "model = Sequential()\n",
        "model.add(Dense(4,input_dim=4,activation='relu'))"
      ],
      "execution_count": null,
      "outputs": []
    },
    {
      "cell_type": "code",
      "metadata": {
        "id": "yTp85z_n3LdC"
      },
      "source": [
        "model.add(Dense(8,activation='relu'))\n",
        "\n",
        "model.add(Dense(1,activation='sigmoid'))"
      ],
      "execution_count": null,
      "outputs": []
    },
    {
      "cell_type": "code",
      "metadata": {
        "id": "Cg_E_pSB3uN4"
      },
      "source": [
        "model.compile(loss='binary_crossentropy',optimizer='adam',metrics=['accuracy'])"
      ],
      "execution_count": null,
      "outputs": []
    },
    {
      "cell_type": "code",
      "metadata": {
        "id": "KyV2a3oG4Cdw"
      },
      "source": [
        "model.fit(scaled_X_train,y_train,epochs=50,verbose=2)"
      ],
      "execution_count": null,
      "outputs": []
    },
    {
      "cell_type": "code",
      "metadata": {
        "id": "yk_L-Kfh4a9j"
      },
      "source": [
        " abc = model.predict_classes(scaled_X_test)"
      ],
      "execution_count": null,
      "outputs": []
    },
    {
      "cell_type": "code",
      "metadata": {
        "id": "OMjBiBaK4nXT"
      },
      "source": [
        "model.metrics_names"
      ],
      "execution_count": null,
      "outputs": []
    },
    {
      "cell_type": "code",
      "metadata": {
        "id": "91krU6gn4wDm"
      },
      "source": [
        "from sklearn.metrics import confusion_matrix,classification_report"
      ],
      "execution_count": null,
      "outputs": []
    },
    {
      "cell_type": "code",
      "metadata": {
        "id": "JA-Xz7yi47v3"
      },
      "source": [
        "confusion_matrix(y_test,model.predict_classes(scaled_X_test))"
      ],
      "execution_count": null,
      "outputs": []
    },
    {
      "cell_type": "markdown",
      "metadata": {
        "id": "t7ysqwBWI2Ch"
      },
      "source": [
        "## ***KERAS CNN WITH MNIST***\n",
        "\n",
        "---\n",
        "\n",
        "\n"
      ]
    },
    {
      "cell_type": "code",
      "metadata": {
        "id": "KVc4n-pJJQb8"
      },
      "source": [
        "from keras.datasets import mnist"
      ],
      "execution_count": null,
      "outputs": []
    },
    {
      "cell_type": "code",
      "metadata": {
        "id": "8v-9rucfJM1n"
      },
      "source": [
        "import tensorflow as tf\n",
        "print(tf.__version__)"
      ],
      "execution_count": null,
      "outputs": []
    },
    {
      "cell_type": "code",
      "metadata": {
        "id": "C9tRvKYvRtBY"
      },
      "source": [
        "(x_train,y_train),(x_test,y_test) = mnist.load_data()"
      ],
      "execution_count": null,
      "outputs": []
    },
    {
      "cell_type": "code",
      "metadata": {
        "id": "w4oPsH-yZ-rt"
      },
      "source": [
        "x_test.shape"
      ],
      "execution_count": null,
      "outputs": []
    },
    {
      "cell_type": "code",
      "metadata": {
        "id": "bmxNG0wQTRNN"
      },
      "source": [
        "import matplotlib.pyplot as plt\n",
        "%matplotlib inline"
      ],
      "execution_count": null,
      "outputs": []
    },
    {
      "cell_type": "code",
      "metadata": {
        "id": "nScHamvVTzS2"
      },
      "source": [
        "single_image = x_train[0]\n",
        "plt.imshow(single_image,cmap='gray_r')"
      ],
      "execution_count": null,
      "outputs": []
    },
    {
      "cell_type": "code",
      "metadata": {
        "id": "ij8hxshoUisA"
      },
      "source": [
        "y_train"
      ],
      "execution_count": null,
      "outputs": []
    },
    {
      "cell_type": "code",
      "metadata": {
        "id": "-Xx9WnmJUlhG"
      },
      "source": [
        "from keras.utils.np_utils import  to_categorical\n",
        "\n",
        "y_cat_test = to_categorical(y_test,10)\n",
        "y_cat_train = to_categorical(y_train,10)"
      ],
      "execution_count": null,
      "outputs": []
    },
    {
      "cell_type": "code",
      "metadata": {
        "id": "LNOYCb-kaFPf"
      },
      "source": [
        "x_train = x_train.reshape(60000,28,28,1)\n",
        "x_test = x_test.reshape(10000,28,28,1)\n",
        "x_train.shape\n"
      ],
      "execution_count": null,
      "outputs": []
    },
    {
      "cell_type": "code",
      "metadata": {
        "id": "4Ng84xdRaqgI"
      },
      "source": [
        "from keras.models import Sequential"
      ],
      "execution_count": null,
      "outputs": []
    },
    {
      "cell_type": "code",
      "metadata": {
        "id": "O_rOb0isaz31"
      },
      "source": [
        "from keras.layers import Dense,Conv2D,MaxPool2D,Flatten"
      ],
      "execution_count": null,
      "outputs": []
    },
    {
      "cell_type": "code",
      "metadata": {
        "id": "paPBbafJbDOk"
      },
      "source": [
        "model = Sequential()\n",
        "\n",
        "# CONVOLUTIONAL LAYER\n",
        "\n",
        "model.add(Conv2D(filters=32,kernel_size=(4,4),input_shape=(28,28,1),activation='relu'))\n",
        "\n",
        "# Pooling Layer\n",
        "\n",
        "model.add(MaxPool2D(pool_size=(2,2)))\n",
        "\n",
        "# Flatten  2d --> 1d\n",
        "\n",
        "model.add(Flatten())\n",
        "\n",
        "# Dense Layer\n",
        "\n",
        "model.add(Dense(128,activation='relu'))\n",
        "\n",
        "model.add(Dense(10,activation='softmax'))\n",
        "\n",
        "model.compile(loss='categorical_crossentropy',optimizer='rmsprop',metrics=['accuracy'])"
      ],
      "execution_count": null,
      "outputs": []
    },
    {
      "cell_type": "code",
      "metadata": {
        "id": "cQJCNdnoeAUj"
      },
      "source": [
        "model.summary()"
      ],
      "execution_count": null,
      "outputs": []
    },
    {
      "cell_type": "code",
      "metadata": {
        "id": "6mEn6-wlfGZs"
      },
      "source": [
        "x_train.shape"
      ],
      "execution_count": null,
      "outputs": []
    },
    {
      "cell_type": "code",
      "metadata": {
        "id": "n8E_ENGdek-W"
      },
      "source": [
        "model.fit(x_train,y_cat_train,epochs=5)"
      ],
      "execution_count": null,
      "outputs": []
    },
    {
      "cell_type": "code",
      "metadata": {
        "id": "sMb1M_Yqfmd4"
      },
      "source": [
        "x_test.shape"
      ],
      "execution_count": null,
      "outputs": []
    },
    {
      "cell_type": "code",
      "metadata": {
        "id": "9NmOyiBgfpsA"
      },
      "source": [
        "y_cat_test.shape"
      ],
      "execution_count": null,
      "outputs": []
    },
    {
      "cell_type": "code",
      "metadata": {
        "id": "cal9D7eIfRE2"
      },
      "source": [
        "model.evaluate(x_test,y_cat_test)"
      ],
      "execution_count": null,
      "outputs": []
    },
    {
      "cell_type": "code",
      "metadata": {
        "id": "5FrP4mXkf0_z"
      },
      "source": [
        "from sklearn.metrics import  classification_report"
      ],
      "execution_count": null,
      "outputs": []
    },
    {
      "cell_type": "code",
      "metadata": {
        "id": "oqaLC6ONgUKt"
      },
      "source": [
        "predictions = model.predict_classes(x_test)"
      ],
      "execution_count": null,
      "outputs": []
    },
    {
      "cell_type": "code",
      "metadata": {
        "id": "TIWjUdSsga8b"
      },
      "source": [
        "print(classification_report(y_test,predictions))"
      ],
      "execution_count": null,
      "outputs": []
    },
    {
      "cell_type": "markdown",
      "metadata": {
        "id": "_IRaFagmg3gU"
      },
      "source": [
        "## ***KERAS CNN WITH CIFAR-10***\n",
        "\n",
        "---\n",
        "\n"
      ]
    },
    {
      "cell_type": "code",
      "metadata": {
        "id": "o3eKbcVbhiSe"
      },
      "source": [
        "from keras.datasets import cifar10"
      ],
      "execution_count": null,
      "outputs": []
    },
    {
      "cell_type": "code",
      "metadata": {
        "id": "Sr5_UrVih5Q6"
      },
      "source": [
        "(x_train,y_train),(x_test,y_test) = cifar10.load_data()"
      ],
      "execution_count": null,
      "outputs": []
    },
    {
      "cell_type": "code",
      "metadata": {
        "id": "Ngr6Gu9QiL_y"
      },
      "source": [
        "x_train.shape"
      ],
      "execution_count": null,
      "outputs": []
    },
    {
      "cell_type": "code",
      "metadata": {
        "id": "pchCbtiimn5V"
      },
      "source": [
        "import matplotlib.pyplot as plt\n",
        "%matplotlib inline"
      ],
      "execution_count": null,
      "outputs": []
    },
    {
      "cell_type": "code",
      "metadata": {
        "id": "MwjFFrPMmurf"
      },
      "source": [
        "plt.imshow(x_train[12005])"
      ],
      "execution_count": null,
      "outputs": []
    },
    {
      "cell_type": "code",
      "metadata": {
        "id": "dLvAoD6EnDiA"
      },
      "source": [
        "x_train = x_train/255\n",
        "x_test = x_test/255"
      ],
      "execution_count": null,
      "outputs": []
    },
    {
      "cell_type": "code",
      "metadata": {
        "id": "r9YAsrUynThZ"
      },
      "source": [
        "x_test.shape"
      ],
      "execution_count": null,
      "outputs": []
    },
    {
      "cell_type": "code",
      "metadata": {
        "id": "DdpYhBAwnY83"
      },
      "source": [
        "y_cat_train = to_categorical(y_train,10)\n",
        "y_cat_test = to_categorical(y_test,10)"
      ],
      "execution_count": null,
      "outputs": []
    },
    {
      "cell_type": "code",
      "metadata": {
        "id": "70CmTLpEnx4L"
      },
      "source": [
        "model = Sequential()\n",
        "\n",
        "# CONVOLUTIONAL LAYER\n",
        "\n",
        "model.add(Conv2D(filters=32,kernel_size=(4,4),input_shape=(32,32,3),activation='relu'))\n",
        "\n",
        "# Pooling Layer\n",
        "\n",
        "model.add(MaxPool2D(pool_size=(2,2)))\n",
        "\n",
        "# Repeat Convolutional and pooling layer\n",
        "\n",
        "model.add(Conv2D(filters=32,kernel_size=(4,4),input_shape=(32,32,3),activation='relu'))\n",
        "model.add(MaxPool2D(pool_size=(2,2)))\n",
        "\n",
        "# Flatten  2d --> 1d\n",
        "\n",
        "model.add(Flatten())\n",
        "\n",
        "# Dense Layer (Neuron number muust be 2^x)\n",
        "\n",
        "model.add(Dense(256,activation='relu'))\n",
        "\n",
        "model.add(Dense(10,activation='softmax'))\n",
        "\n",
        "model.compile(loss='categorical_crossentropy',optimizer='rmsprop',metrics=['accuracy'])"
      ],
      "execution_count": null,
      "outputs": []
    },
    {
      "cell_type": "code",
      "metadata": {
        "id": "M-9SO5WMpic9"
      },
      "source": [
        "model.summary()"
      ],
      "execution_count": null,
      "outputs": []
    },
    {
      "cell_type": "code",
      "metadata": {
        "id": "qMpCHNDdppQ0"
      },
      "source": [
        "model.fit(x_train,y_cat_train,verbose=1,epochs=10,batch_size=25)"
      ],
      "execution_count": null,
      "outputs": []
    },
    {
      "cell_type": "code",
      "metadata": {
        "id": "OyddQoc3tZMj"
      },
      "source": [
        "model.evaluate(x_test,y_cat_test,batch_size=1)"
      ],
      "execution_count": null,
      "outputs": []
    },
    {
      "cell_type": "code",
      "metadata": {
        "id": "VfPiQAPSuPeT"
      },
      "source": [
        "from sklearn.metrics import classification_report\n",
        "\n",
        "predictions = model.predict_classes(x_test)\n",
        "\n",
        "print(classification_report(y_test,predictions))"
      ],
      "execution_count": null,
      "outputs": []
    },
    {
      "cell_type": "markdown",
      "metadata": {
        "id": "Lb_JOIQEBEud"
      },
      "source": [
        "## ***Fashion MNIST Project***\n",
        "\n",
        "---\n",
        "\n"
      ]
    },
    {
      "cell_type": "markdown",
      "metadata": {
        "id": "0S_z59PNCBNn"
      },
      "source": [
        "**Load Data**"
      ]
    },
    {
      "cell_type": "code",
      "metadata": {
        "id": "TbeeDPD2CAfF"
      },
      "source": [
        "from keras.datasets import fashion_mnist\n",
        "(x_train,y_train),(x_test,y_test) = fashion_mnist.load_data()"
      ],
      "execution_count": null,
      "outputs": []
    },
    {
      "cell_type": "markdown",
      "metadata": {
        "id": "uIu0snbUCouA"
      },
      "source": [
        "**Visualize the Data**"
      ]
    },
    {
      "cell_type": "code",
      "metadata": {
        "colab": {
          "base_uri": "https://localhost:8080/",
          "height": 282
        },
        "id": "vPF0xe8vBR2-",
        "outputId": "77d43202-de41-4c1e-e9d2-3284f1144eca"
      },
      "source": [
        "import matplotlib.pyplot as plt\n",
        "%matplotlib inline\n",
        "single_image = x_train[0]\n",
        "plt.imshow(single_image,cmap='gray')\n"
      ],
      "execution_count": null,
      "outputs": [
        {
          "output_type": "execute_result",
          "data": {
            "text/plain": [
              "<matplotlib.image.AxesImage at 0x7f4e482a71d0>"
            ]
          },
          "metadata": {
            "tags": []
          },
          "execution_count": 83
        },
        {
          "output_type": "display_data",
          "data": {
            "image/png": "[encoded data removed]",
            "text/plain": [
              "<Figure size 432x288 with 1 Axes>"
            ]
          },
          "metadata": {
            "tags": [],
            "needs_background": "light"
          }
        }
      ]
    },
    {
      "cell_type": "markdown",
      "metadata": {
        "id": "ifcVS_QODaKl"
      },
      "source": [
        "**Preprocessing the Data (Normalize the X train and X test by dividing by the max value of the image arrays**"
      ]
    },
    {
      "cell_type": "code",
      "metadata": {
        "id": "aCztgfCFDgeH"
      },
      "source": [
        "x_train = x_train/x_train.max()\n",
        "x_test = x_test/x_test.max()"
      ],
      "execution_count": null,
      "outputs": []
    },
    {
      "cell_type": "markdown",
      "metadata": {
        "id": "Mwo0AQ9DFDls"
      },
      "source": [
        "**Add 4. dimension to X arrays**\n"
      ]
    },
    {
      "cell_type": "code",
      "metadata": {
        "id": "nLOMdCqnFC7s"
      },
      "source": [
        "x_train = x_train.reshape(60000,28,28,1)\n",
        "x_test = x_test.reshape(10000,28,28,1)"
      ],
      "execution_count": null,
      "outputs": []
    },
    {
      "cell_type": "markdown",
      "metadata": {
        "id": "2VMnXhpTGNXF"
      },
      "source": [
        "**Convert Y arrays into one-hot encoded for categorical analysis by Keras**"
      ]
    },
    {
      "cell_type": "code",
      "metadata": {
        "id": "DvMpaO1yGa09"
      },
      "source": [
        "from keras.utils.np_utils import  to_categorical\n",
        "\n",
        "y_cat_test = to_categorical(y_test,10)\n",
        "y_cat_train = to_categorical(y_train,10)"
      ],
      "execution_count": null,
      "outputs": []
    },
    {
      "cell_type": "markdown",
      "metadata": {
        "id": "caqsxHkcGlLR"
      },
      "source": [
        "### **Build the Model**"
      ]
    },
    {
      "cell_type": "code",
      "metadata": {
        "id": "hNobWumOHCUp"
      },
      "source": [
        "from keras.models import Sequential\n",
        "from keras.layers import Dense,Conv2D,MaxPool2D,Flatten\n"
      ],
      "execution_count": null,
      "outputs": []
    },
    {
      "cell_type": "code",
      "metadata": {
        "id": "zQeZpKc_HRAx"
      },
      "source": [
        "model = Sequential()\n",
        "\n",
        "# CONVOLUTIONAL LAYER\n",
        "\n",
        "model.add(Conv2D(filters=32,kernel_size=(4,4),input_shape=(28,28,1),activation='relu'))\n",
        "\n",
        "# Pooling Layer\n",
        "\n",
        "model.add(MaxPool2D(pool_size=(2,2)))\n",
        "\n",
        "# Flatten  2d --> 1d\n",
        "\n",
        "model.add(Flatten())\n",
        "\n",
        "# Dense Layer\n",
        "\n",
        "model.add(Dense(128,activation='relu'))   # 128 --> Neurons' number (optional for any value which is 2^x)\n",
        "\n",
        "model.add(Dense(10,activation='softmax')) # 10 --> (class number)\n",
        "\n",
        "model.compile(loss='categorical_crossentropy',optimizer='rmsprop',metrics=['accuracy'])"
      ],
      "execution_count": null,
      "outputs": []
    },
    {
      "cell_type": "code",
      "metadata": {
        "colab": {
          "base_uri": "https://localhost:8080/"
        },
        "id": "BSQ--Rz3H4mZ",
        "outputId": "1a3c7657-aaf7-4654-d06c-0e8c98d2a719"
      },
      "source": [
        "model.summary()"
      ],
      "execution_count": null,
      "outputs": [
        {
          "output_type": "stream",
          "text": [
            "Model: \"sequential_1\"\n",
            "_________________________________________________________________\n",
            "Layer (type)                 Output Shape              Param #   \n",
            "=================================================================\n",
            "conv2d_1 (Conv2D)            (None, 25, 25, 32)        544       \n",
            "_________________________________________________________________\n",
            "max_pooling2d_1 (MaxPooling2 (None, 12, 12, 32)        0         \n",
            "_________________________________________________________________\n",
            "flatten_1 (Flatten)          (None, 4608)              0         \n",
            "_________________________________________________________________\n",
            "dense_2 (Dense)              (None, 128)               589952    \n",
            "_________________________________________________________________\n",
            "dense_3 (Dense)              (None, 10)                1290      \n",
            "=================================================================\n",
            "Total params: 591,786\n",
            "Trainable params: 591,786\n",
            "Non-trainable params: 0\n",
            "_________________________________________________________________\n"
          ],
          "name": "stdout"
        }
      ]
    },
    {
      "cell_type": "markdown",
      "metadata": {
        "id": "U1_nwa4JISME"
      },
      "source": [
        "**Train the set**"
      ]
    },
    {
      "cell_type": "code",
      "metadata": {
        "colab": {
          "base_uri": "https://localhost:8080/"
        },
        "id": "bAojtyW8IBZd",
        "outputId": "d00166fd-0c16-4396-a3b4-2ffc91a2ca28"
      },
      "source": [
        "model.fit(x_train,y_cat_train,epochs=5)"
      ],
      "execution_count": null,
      "outputs": [
        {
          "output_type": "stream",
          "text": [
            "Epoch 1/5\n",
            "1875/1875 [==============================] - 5s 3ms/step - loss: 0.5360 - accuracy: 0.8101\n",
            "Epoch 2/5\n",
            "1875/1875 [==============================] - 5s 3ms/step - loss: 0.2856 - accuracy: 0.8980\n",
            "Epoch 3/5\n",
            "1875/1875 [==============================] - 5s 3ms/step - loss: 0.2402 - accuracy: 0.9145\n",
            "Epoch 4/5\n",
            "1875/1875 [==============================] - 5s 2ms/step - loss: 0.2129 - accuracy: 0.9252\n",
            "Epoch 5/5\n",
            "1875/1875 [==============================] - 5s 2ms/step - loss: 0.1964 - accuracy: 0.9292\n"
          ],
          "name": "stdout"
        },
        {
          "output_type": "execute_result",
          "data": {
            "text/plain": [
              "<tensorflow.python.keras.callbacks.History at 0x7f4e4822cd90>"
            ]
          },
          "metadata": {
            "tags": []
          },
          "execution_count": 90
        }
      ]
    },
    {
      "cell_type": "code",
      "metadata": {
        "colab": {
          "base_uri": "https://localhost:8080/"
        },
        "id": "UVwNmbgBIxwr",
        "outputId": "54a84733-6846-4996-a67c-92cef30ab710"
      },
      "source": [
        "model.evaluate(x_test,y_cat_test)"
      ],
      "execution_count": null,
      "outputs": [
        {
          "output_type": "stream",
          "text": [
            "313/313 [==============================] - 1s 2ms/step - loss: 0.2718 - accuracy: 0.9064\n"
          ],
          "name": "stdout"
        },
        {
          "output_type": "execute_result",
          "data": {
            "text/plain": [
              "[0.2718176245689392, 0.9064000248908997]"
            ]
          },
          "metadata": {
            "tags": []
          },
          "execution_count": 91
        }
      ]
    },
    {
      "cell_type": "code",
      "metadata": {
        "colab": {
          "base_uri": "https://localhost:8080/"
        },
        "id": "ZcI8N0KLJOmk",
        "outputId": "424c6017-20ef-4620-97e3-8778fb964b8b"
      },
      "source": [
        "from sklearn.metrics import classification_report\n",
        "\n",
        "predictions = model.predict_classes(x_test)\n",
        "\n",
        "print(classification_report(y_test,predictions))"
      ],
      "execution_count": null,
      "outputs": [
        {
          "output_type": "stream",
          "text": [
            "/usr/local/lib/python3.7/dist-packages/tensorflow/python/keras/engine/sequential.py:450: UserWarning: `model.predict_classes()` is deprecated and will be removed after 2021-01-01. Please use instead:* `np.argmax(model.predict(x), axis=-1)`,   if your model does multi-class classification   (e.g. if it uses a `softmax` last-layer activation).* `(model.predict(x) > 0.5).astype(\"int32\")`,   if your model does binary classification   (e.g. if it uses a `sigmoid` last-layer activation).\n",
            "  warnings.warn('`model.predict_classes()` is deprecated and '\n"
          ],
          "name": "stderr"
        },
        {
          "output_type": "stream",
          "text": [
            "              precision    recall  f1-score   support\n",
            "\n",
            "           0       0.83      0.87      0.85      1000\n",
            "           1       0.99      0.98      0.99      1000\n",
            "           2       0.83      0.86      0.85      1000\n",
            "           3       0.95      0.87      0.91      1000\n",
            "           4       0.84      0.84      0.84      1000\n",
            "           5       0.99      0.97      0.98      1000\n",
            "           6       0.74      0.74      0.74      1000\n",
            "           7       0.95      0.98      0.96      1000\n",
            "           8       0.98      0.98      0.98      1000\n",
            "           9       0.97      0.97      0.97      1000\n",
            "\n",
            "    accuracy                           0.91     10000\n",
            "   macro avg       0.91      0.91      0.91     10000\n",
            "weighted avg       0.91      0.91      0.91     10000\n",
            "\n"
          ],
          "name": "stdout"
        }
      ]
    },
    {
      "cell_type": "code",
      "metadata": {
        "colab": {
          "base_uri": "https://localhost:8080/"
        },
        "id": "wdnR01L7RMrK",
        "outputId": "61b871b4-f556-427d-f3e4-4fb3d086f555"
      },
      "source": [
        "x_test.shape"
      ],
      "execution_count": null,
      "outputs": [
        {
          "output_type": "execute_result",
          "data": {
            "text/plain": [
              "(10000, 28, 28, 1)"
            ]
          },
          "metadata": {
            "tags": []
          },
          "execution_count": 108
        }
      ]
    },
    {
      "cell_type": "code",
      "metadata": {
        "colab": {
          "base_uri": "https://localhost:8080/"
        },
        "id": "YNLt6KgxJcY0",
        "outputId": "e7494dc3-34cd-4a03-ef32-ff69f3f0b737"
      },
      "source": [
        "import numpy as np\n",
        "from keras.preprocessing import image\n",
        "\n",
        "one_image = x_test[6:2:2]\n",
        "one_image.shape"
      ],
      "execution_count": null,
      "outputs": [
        {
          "output_type": "execute_result",
          "data": {
            "text/plain": [
              "(0, 28, 28, 1)"
            ]
          },
          "metadata": {
            "tags": []
          },
          "execution_count": 120
        }
      ]
    },
    {
      "cell_type": "markdown",
      "metadata": {
        "id": "H6ddcvtAni2g"
      },
      "source": [
        "**Test Single Image**"
      ]
    },
    {
      "cell_type": "code",
      "metadata": {
        "colab": {
          "base_uri": "https://localhost:8080/",
          "height": 282
        },
        "id": "VJQ9TT9cZziB",
        "outputId": "ce4f87c4-4f13-471a-9dc5-e6716f277728"
      },
      "source": [
        "array1 =  x_test[8420,:,:,0]\n",
        "plt.imshow(array1,cmap='gray')"
      ],
      "execution_count": null,
      "outputs": [
        {
          "output_type": "execute_result",
          "data": {
            "text/plain": [
              "<matplotlib.image.AxesImage at 0x7f4e45b4cc10>"
            ]
          },
          "metadata": {
            "tags": []
          },
          "execution_count": 229
        },
        {
          "output_type": "display_data",
          "data": {
            "image/png": "[encoded data removed]",
            "text/plain": [
              "<Figure size 432x288 with 1 Axes>"
            ]
          },
          "metadata": {
            "tags": [],
            "needs_background": "light"
          }
        }
      ]
    },
    {
      "cell_type": "code",
      "metadata": {
        "colab": {
          "base_uri": "https://localhost:8080/"
        },
        "id": "X6CZlLTymN2W",
        "outputId": "720b6617-9ed9-4759-b560-feab5073c695"
      },
      "source": [
        "array1 = np.expand_dims(array1,axis=(0,3))\n",
        "array1.shape"
      ],
      "execution_count": null,
      "outputs": [
        {
          "output_type": "execute_result",
          "data": {
            "text/plain": [
              "(1, 28, 28, 1)"
            ]
          },
          "metadata": {
            "tags": []
          },
          "execution_count": 230
        }
      ]
    },
    {
      "cell_type": "code",
      "metadata": {
        "colab": {
          "base_uri": "https://localhost:8080/"
        },
        "id": "Jx80pM1lmg1y",
        "outputId": "696deb69-9ba1-4b45-f7ec-acaf1e97ce9b"
      },
      "source": [
        "model.predict_classes(array1)"
      ],
      "execution_count": null,
      "outputs": [
        {
          "output_type": "stream",
          "text": [
            "/usr/local/lib/python3.7/dist-packages/tensorflow/python/keras/engine/sequential.py:450: UserWarning: `model.predict_classes()` is deprecated and will be removed after 2021-01-01. Please use instead:* `np.argmax(model.predict(x), axis=-1)`,   if your model does multi-class classification   (e.g. if it uses a `softmax` last-layer activation).* `(model.predict(x) > 0.5).astype(\"int32\")`,   if your model does binary classification   (e.g. if it uses a `sigmoid` last-layer activation).\n",
            "  warnings.warn('`model.predict_classes()` is deprecated and '\n"
          ],
          "name": "stderr"
        },
        {
          "output_type": "execute_result",
          "data": {
            "text/plain": [
              "array([0])"
            ]
          },
          "metadata": {
            "tags": []
          },
          "execution_count": 231
        }
      ]
    },
    {
      "cell_type": "markdown",
      "metadata": {
        "id": "fwwcnXLUrvS6"
      },
      "source": [
        "# ***YOLO PROJECT***"
      ]
    },
    {
      "cell_type": "code",
      "metadata": {
        "colab": {
          "base_uri": "https://localhost:8080/"
        },
        "id": "TL0sofUoR3xS",
        "outputId": "9d5529ff-90b0-4e9f-f8ac-97cc8c381bfa"
      },
      "source": [
        "cd DATA/06-YOLOv3/"
      ],
      "execution_count": null,
      "outputs": [
        {
          "output_type": "stream",
          "text": [
            "/content/drive/Colab_workspace/DATA/06-YOLOv3\n"
          ],
          "name": "stdout"
        }
      ]
    },
    {
      "cell_type": "code",
      "metadata": {
        "id": "jhoyb2hsRW1S"
      },
      "source": [
        "import os\n",
        "import time\n",
        "import cv2\n",
        "import numpy as np\n",
        "from model.yolo_model import YOLO"
      ],
      "execution_count": null,
      "outputs": []
    },
    {
      "cell_type": "code",
      "metadata": {
        "id": "CbIqX40LTRTV"
      },
      "source": [
        "def process_image(img):\n",
        "\n",
        "      image = cv2.resize(img, (416, 416),\n",
        "                          interpolation=cv2.INTER_CUBIC)\n",
        "      image = np.array(image, dtype='float32')\n",
        "      image /= 255.\n",
        "      image = np.expand_dims(image, axis=0)\n",
        "      return image"
      ],
      "execution_count": null,
      "outputs": []
    },
    {
      "cell_type": "code",
      "metadata": {
        "id": "8lNfBkQcUNeK"
      },
      "source": [
        "def get_classes(file):\n",
        "\n",
        "        with open(file) as f:\n",
        "           class_names = f.readlines()\n",
        "        class_names = [c.strip() for c in class_names]\n",
        "\n",
        "        return class_names"
      ],
      "execution_count": null,
      "outputs": []
    },
    {
      "cell_type": "code",
      "metadata": {
        "id": "uBoBD-gDUsMQ"
      },
      "source": [
        "def draw(image, boxes, scores, classes, all_classes):\n",
        "   \n",
        "        for box, score, cl in zip(boxes, scores, classes):\n",
        "            x, y, w, h = box\n",
        "   \n",
        "            top = max(0, np.floor(x + 0.5).astype(int))\n",
        "            left = max(0, np.floor(y + 0.5).astype(int))\n",
        "            right = min(image.shape[1], np.floor(x + w + 0.5).astype(int))\n",
        "            bottom = min(image.shape[0], np.floor(y + h + 0.5).astype(int))\n",
        "    \n",
        "            cv2.rectangle(image, (top, left), (right, bottom), (255, 0, 0), 2)\n",
        "            cv2.putText(image, '{0} {1:.2f}'.format(all_classes[cl], score),\n",
        "                       (top, left - 6),\n",
        "                        cv2.FONT_HERSHEY_SIMPLEX,\n",
        "                        0.6, (0, 0, 255), 1,\n",
        "                        cv2.LINE_AA)\n",
        "    \n",
        "            print('class: {0}, score: {1:.2f}'.format(all_classes[cl], score))\n",
        "            print('box coordinate x,y,w,h: {0}'.format(box))\n",
        "    \n",
        "        print()"
      ],
      "execution_count": null,
      "outputs": []
    },
    {
      "cell_type": "code",
      "metadata": {
        "id": "84Olxt2oVsK7"
      },
      "source": [
        "def detect_image(image, yolo, all_classes):\n",
        "   \n",
        "        pimage = process_image(image)\n",
        "  \n",
        "        start = time.time()\n",
        "        boxes, classes, scores = yolo.predict(pimage, image.shape)\n",
        "        end = time.time()\n",
        "   \n",
        "        print('time: {0:.2f}s'.format(end - start))\n",
        "    \n",
        "        if boxes is not None:\n",
        "            draw(image, boxes, scores, classes, all_classes)\n",
        "    \n",
        "        return image"
      ],
      "execution_count": null,
      "outputs": []
    },
    {
      "cell_type": "code",
      "metadata": {
        "id": "JcT0TfF9WnJ3"
      },
      "source": [
        " def detect_video(video, yolo, all_classes):\n",
        " \n",
        "        video_path = os.path.join(\"videos\", \"test\", video)\n",
        "        camera = cv2.VideoCapture(video_path)\n",
        "        cv2.namedWindow(\"detection\", cv2.WINDOW_AUTOSIZE)\n",
        "  \n",
        "        # Prepare for saving the detected video\\n\",\n",
        "        sz = (int(camera.get(cv2.CAP_PROP_FRAME_WIDTH)),\n",
        "            int(camera.get(cv2.CAP_PROP_FRAME_HEIGHT)))\n",
        "        fourcc = cv2.VideoWriter_fourcc(*'mpeg')\n",
        " \n",
        "        vout = cv2.VideoWriter()\n",
        "        vout.open(os.path.join(\"videos\", \"res\", video), fourcc, 20, sz, True)\n",
        "    \n",
        "        while True:\n",
        "            res, frame = camera.read()\n",
        "    \n",
        "            if not res:\n",
        "                break\n",
        "  \n",
        "            image = detect_image(frame, yolo, all_classes)\n",
        "            cv2.imshow(\"detection\", image)\n",
        "  \n",
        "            # Save the video frame by frame\n",
        "            vout.write(image)\n",
        "    \n",
        "            if cv2.waitKey(110) & 0xff == 27:\n",
        "                    break\n",
        "  \n",
        "        vout.release()  \n",
        "        camera.release()\n",
        "    "
      ],
      "execution_count": null,
      "outputs": []
    },
    {
      "cell_type": "code",
      "metadata": {
        "colab": {
          "base_uri": "https://localhost:8080/"
        },
        "id": "jKSgYi_6XmAr",
        "outputId": "fde48e0c-ce7c-4d9a-c8f8-e845de8681f8"
      },
      "source": [
        "yolo = YOLO(0.6,0.5)\n",
        "file = 'data/coco_classes.txt'\n",
        "all_classes = get_classes(file)"
      ],
      "execution_count": null,
      "outputs": [
        {
          "output_type": "stream",
          "text": [
            "WARNING:tensorflow:No training configuration found in the save file, so the model was *not* compiled. Compile it manually.\n"
          ],
          "name": "stdout"
        }
      ]
    },
    {
      "cell_type": "markdown",
      "metadata": {
        "id": "5c97s-5qYLql"
      },
      "source": [
        "***Detecting Images***"
      ]
    },
    {
      "cell_type": "code",
      "metadata": {
        "colab": {
          "base_uri": "https://localhost:8080/"
        },
        "id": "VhtaApigYRvL",
        "outputId": "0bf420ae-a4d0-41b1-e175-5e9b11c97795"
      },
      "source": [
        "f = 'images/photo1.jpg'\n",
        "image = cv2.imread(f)\n",
        "image = detect_image(image, yolo, all_classes)\n",
        "cv2.imwrite('images/res/photo1_detected.jpg',image)\n"
      ],
      "execution_count": null,
      "outputs": [
        {
          "output_type": "stream",
          "text": [
            "time: 31.14s\n",
            "class: person, score: 0.99\n",
            "box coordinate x,y,w,h: [203.84439826  66.64711142 100.21853447 210.87221336]\n",
            "class: person, score: 0.88\n",
            "box coordinate x,y,w,h: [422.88118601  86.06504011  53.96313965 148.27685761]\n",
            "class: person, score: 0.70\n",
            "box coordinate x,y,w,h: [387.61651516  80.25743079  52.08951235 160.3105607 ]\n",
            "class: car, score: 1.00\n",
            "box coordinate x,y,w,h: [ -6.70309365  89.40106821 216.0769105  138.94352341]\n",
            "\n"
          ],
          "name": "stdout"
        },
        {
          "output_type": "execute_result",
          "data": {
            "text/plain": [
              "True"
            ]
          },
          "metadata": {
            "tags": []
          },
          "execution_count": 38
        }
      ]
    },
    {
      "cell_type": "markdown",
      "metadata": {
        "id": "HKKMT6dubE-d"
      },
      "source": [
        "***Detect Video***"
      ]
    },
    {
      "cell_type": "code",
      "metadata": {
        "id": "1EKxoVu0bIAM"
      },
      "source": [
        "## detect video one at a time in videos/test folder\n",
        "# video = 'library1.mp4'\n",
        "#detect_video(video,yolo, all_classes)"
      ],
      "execution_count": null,
      "outputs": []
    },
    {
      "cell_type": "markdown",
      "metadata": {
        "id": "UvC97t-0hbGK"
      },
      "source": [
        "# **CapStone Project**"
      ]
    },
    {
      "cell_type": "code",
      "metadata": {
        "id": "nAiYD7t2hkIT"
      },
      "source": [
        "import cv2\n",
        "import numpy as np\n",
        "\n",
        "from sklearn.metrics import pairwise"
      ],
      "execution_count": null,
      "outputs": []
    },
    {
      "cell_type": "code",
      "metadata": {
        "id": "tYcPLo2pjegd"
      },
      "source": [
        "background = None\n",
        "\n",
        "accumulated_weight = 0.5\n",
        "\n",
        "roi_top = 20\n",
        "roi_bottom = 300\n",
        "roi_right = 300\n",
        "roi_left = 600\n"
      ],
      "execution_count": null,
      "outputs": []
    },
    {
      "cell_type": "code",
      "metadata": {
        "id": "VklN2meWjyFy"
      },
      "source": [
        "def calc_accum_avg(frame,accumulated_weight):\n",
        "\n",
        "  global background\n",
        "\n",
        "  if background is none:\n",
        "    background = frame.copy().astype('float')\n",
        "    return None\n",
        "  \n",
        "  cv2.accumulateWeighted(frame,background,accumulated_weight)"
      ],
      "execution_count": null,
      "outputs": []
    },
    {
      "cell_type": "code",
      "metadata": {
        "id": "LH8qeo51k4H0"
      },
      "source": [
        "def segment(frame,threshold=25):\n",
        "\n",
        "  diff = cv2.absdiff(background.astype('uint8'),frame)\n",
        "\n",
        "  ret,thresholded = cv2.threshold(diff,threshold_min,255,cv2.THRESH_BINARY)\n",
        "\n",
        "  image,contours,hierarchy = cv2.findContours(thresholded.copy(),cv2.RETR_EXTERNAL,cv2.CHAIN_APPROX_SIMPLE)\n",
        "\n",
        "  if len(contours) == 0:\n",
        "    return None\n",
        "\n",
        "  else:\n",
        "     hand_segment = max(contours,key=cv2.contourArea)\n",
        "\n",
        "     return(thresholded,hand_segment)"
      ],
      "execution_count": null,
      "outputs": []
    },
    {
      "cell_type": "code",
      "metadata": {
        "id": "oIqhycVnmTSp"
      },
      "source": [
        "def count_fingers(thresholded,hand_segment):\n",
        "\n",
        "  conv_hull =cv2.convexHull(hand_segment)\n",
        "\n",
        "  top = tuple(conv_hull[conv_hull[:,:,1].argmin()[0]])\n",
        "  bottom = tuple(conv_hull[conv_hull[:,:,1].argmax()[0]])\n",
        "  left = tuple(conv_hull[conv_hull[:,:,0].argmin()[0]])\n",
        "  right = tuple(conv_hull[conv_hull[:,:,0].argmax()[0]])\n",
        "\n",
        "  cX = (left[0] + right[0]) // 2\n",
        "  cY = (top[1] + bottom[1]) // 2\n",
        "\n",
        "  distance = pairwase.euclidean_distances([cX,cY], Y=[left,right,top,bottom])[0]\n",
        "\n",
        "  max_distance = distance.max()\n",
        "\n",
        "  radius = int(0.9*max_distancce)\n",
        "  circumfrence = (2*np.pi*radius)\n",
        "\n",
        "  circular_roi = np.zeros(thresholded[:,2],dtype='uint8')\n",
        "\n",
        "  cv2.circle(circular_roi,(cX,cY),radius,255,10)\n",
        "\n",
        "  circular_roi = cv2.bitwise_and(thresholded, thresholded, mask=circular_roi)\n",
        "\n",
        "  image, contours, hierarchy = cv2.findContours(circular_roi.copy(), cv2.RETR_EXTERNAL, cv2.CHAIN_APPROX_NONE)\n",
        "\n",
        "  count = 0\n",
        "\n",
        "  for cnt in contours:\n",
        " \n",
        "          (x, y, w, h) = cv2.boundingRect(cnt)\n",
        "  \n",
        "          out_of_wrist = ((cY + (cY * 0.25)) > (y + h))\n",
        "          # 2. Number of points along the contour does not exceed 25% of the circumference of the circular ROI (otherwise we're counting points off the hand)\\n\",\n",
        "          limit_points = ((circumference * 0.25) > cnt.shape[0]) \n",
        "           \n",
        "          if  out_of_wrist and limit_points:\n",
        "                count += 1\n",
        "    \n",
        "  return count\n"
      ],
      "execution_count": null,
      "outputs": []
    },
    {
      "cell_type": "code",
      "metadata": {
        "colab": {
          "base_uri": "https://localhost:8080/",
          "height": 231
        },
        "id": "zPIIUZwXs_Vr",
        "outputId": "9303a31a-74d9-42b9-eea5-2d53ba3f1b0c"
      },
      "source": [
        "#cam = cv2.VideoCapture(0)\n",
        "\n",
        "num_frames = 0\n",
        "\n",
        "while True:\n",
        "   \n",
        "        ret, frame = cam.read()\n",
        "  \n",
        "        frame = cv2.flip(frame, 1)\n",
        "    \n",
        "        frame_copy = frame.copy()\n",
        "   \n",
        "        gray = cv2.cvtColor(roi, cv2.COLOR_BGR2GRAY)\n",
        "        gray = cv2.GaussianBlur(gray, (7, 7), 0)\n",
        "\n",
        "        if num_frames < 60:\n",
        "           calc_accum_avg(gray, accumulated_weight)\n",
        "\n",
        "           if num_frames <= 59:\n",
        "                cv2.putText(frame_copy, \"WAIT! GETTING BACKGROUND AVG.\", (200, 400), cv2.FONT_HERSHEY_SIMPLEX, 1, (0,0,255), 2)\n",
        "                cv2.imshow(\"Finger Count\",frame_copy)\n",
        "        else:\n",
        "            hand = segment(gray)\n",
        "  \n",
        "            if hand is not None:\n",
        "\n",
        "                thresholded, hand_segment = hand\n",
        "  \n",
        "                cv2.drawContours(frame_copy, [hand_segment + (roi_right, roi_top)], -1, (255, 0, 0),1)\n",
        " \n",
        "                fingers = count_fingers(thresholded, hand_segment)\n",
        "  \n",
        "                cv2.putText(frame_copy, str(fingers), (70, 45), cv2.FONT_HERSHEY_SIMPLEX, 1, (0,0,255), 2)\n",
        "\n",
        "                cv2.imshow(\"Thesholded\", thresholded)\n",
        "\n",
        "\n",
        "        cv2.rectangle(frame_copy, (roi_left, roi_top), (roi_right, roi_bottom), (0,0,255), 5)\n",
        "        num_frames += 1\n",
        "\n",
        "        cv2.imshow(\"Finger Count\", frame_copy)\n",
        "\n",
        "        k = cv2.waitKey(1) & 0xFF\n",
        "\n",
        "        if k == 27:\n",
        "            break\n",
        "\n",
        "cam.release()\n",
        "cv2.destroyAllWindows()\n"
      ],
      "execution_count": null,
      "outputs": [
        {
          "output_type": "error",
          "ename": "AttributeError",
          "evalue": "ignored",
          "traceback": [
            "\u001b[0;31m---------------------------------------------------------------------------\u001b[0m",
            "\u001b[0;31mAttributeError\u001b[0m                            Traceback (most recent call last)",
            "\u001b[0;32m<ipython-input-60-60f57b13acc4>\u001b[0m in \u001b[0;36m<module>\u001b[0;34m()\u001b[0m\n\u001b[1;32m      9\u001b[0m         \u001b[0mframe\u001b[0m \u001b[0;34m=\u001b[0m \u001b[0mcv2\u001b[0m\u001b[0;34m.\u001b[0m\u001b[0mflip\u001b[0m\u001b[0;34m(\u001b[0m\u001b[0mframe\u001b[0m\u001b[0;34m,\u001b[0m \u001b[0;36m1\u001b[0m\u001b[0;34m)\u001b[0m\u001b[0;34m\u001b[0m\u001b[0;34m\u001b[0m\u001b[0m\n\u001b[1;32m     10\u001b[0m \u001b[0;34m\u001b[0m\u001b[0m\n\u001b[0;32m---> 11\u001b[0;31m         \u001b[0mframe_copy\u001b[0m \u001b[0;34m=\u001b[0m \u001b[0mframe\u001b[0m\u001b[0;34m.\u001b[0m\u001b[0mcopy\u001b[0m\u001b[0;34m(\u001b[0m\u001b[0;34m)\u001b[0m\u001b[0;34m\u001b[0m\u001b[0;34m\u001b[0m\u001b[0m\n\u001b[0m\u001b[1;32m     12\u001b[0m \u001b[0;34m\u001b[0m\u001b[0m\n\u001b[1;32m     13\u001b[0m         \u001b[0mgray\u001b[0m \u001b[0;34m=\u001b[0m \u001b[0mcv2\u001b[0m\u001b[0;34m.\u001b[0m\u001b[0mcvtColor\u001b[0m\u001b[0;34m(\u001b[0m\u001b[0mroi\u001b[0m\u001b[0;34m,\u001b[0m \u001b[0mcv2\u001b[0m\u001b[0;34m.\u001b[0m\u001b[0mCOLOR_BGR2GRAY\u001b[0m\u001b[0;34m)\u001b[0m\u001b[0;34m\u001b[0m\u001b[0;34m\u001b[0m\u001b[0m\n",
            "\u001b[0;31mAttributeError\u001b[0m: 'NoneType' object has no attribute 'copy'"
          ]
        }
      ]
    },
    {
      "cell_type": "markdown",
      "metadata": {
        "id": "kRJ3vqjPmk8n"
      },
      "source": [
        ""
      ]
    },
    {
      "cell_type": "markdown",
      "metadata": {
        "id": "0zuXvLomGeg5"
      },
      "source": [
        "# **Build own model**"
      ]
    },
    {
      "cell_type": "code",
      "metadata": {
        "id": "_LoNbHC5Gevr"
      },
      "source": [
        ""
      ],
      "execution_count": null,
      "outputs": []
    },
    {
      "cell_type": "code",
      "metadata": {
        "id": "9b8MIUBn2siG"
      },
      "source": [
        "# import libraries\n",
        "import numpy as np\n",
        "import matplotlib.pyplot as plt\n",
        "import tensorflow as tf\n"
      ],
      "execution_count": null,
      "outputs": []
    },
    {
      "cell_type": "code",
      "metadata": {
        "id": "wQOyMwCQ3R_m"
      },
      "source": [
        "# Define Linear Regression Model\n",
        "class LinearRegression(tf.keras.Model):\n",
        "  def __init__(self,num_inputs, num_outputs):\n",
        "    super(LinearRegression,self).__init__()\n",
        "    self.W = tf.Variable(\n",
        "        tf.random_normal_initializer()((num_inputs, num_outputs)))\n",
        "    self.b = tf.Variable(tf.zeros(num_outputs))\n",
        "    self.params = [self.W, self.b]\n",
        "\n",
        "  def call(self, inputs):\n",
        "    return tf.matmul(inputs, self.W) + self.b"
      ],
      "execution_count": null,
      "outputs": []
    },
    {
      "cell_type": "code",
      "metadata": {
        "id": "x27UzJWV4KRB"
      },
      "source": [
        "# Create a dataset\n",
        "N = 100\n",
        "D = 1\n",
        "K = 1\n",
        "X = np.random.random((N,D)) * 2 - 1\n",
        "w = np.random.randn(D,K)\n",
        "b = np.random.randn()\n",
        "Y = X.dot(w) + b + np.random.randn(N,1) * 0.1"
      ],
      "execution_count": null,
      "outputs": []
    },
    {
      "cell_type": "code",
      "metadata": {
        "colab": {
          "base_uri": "https://localhost:8080/",
          "height": 283
        },
        "id": "hgu8Kvk84uGX",
        "outputId": "e5a6c9f5-0e20-4931-f3e2-c40e6fffef83"
      },
      "source": [
        "plt.scatter(X,Y)"
      ],
      "execution_count": null,
      "outputs": [
        {
          "output_type": "execute_result",
          "data": {
            "text/plain": [
              "<matplotlib.collections.PathCollection at 0x7f86b7936e50>"
            ]
          },
          "metadata": {
            "tags": []
          },
          "execution_count": 6
        },
        {
          "output_type": "display_data",
          "data": {
            "image/png": "[encoded data removed]",
            "text/plain": [
              "<Figure size 432x288 with 1 Axes>"
            ]
          },
          "metadata": {
            "tags": [],
            "needs_background": "light"
          }
        }
      ]
    },
    {
      "cell_type": "code",
      "metadata": {
        "id": "8yb_hHGP5BJf"
      },
      "source": [
        "# Cast type, otherwise Tensorflow will complain\n",
        "X = X.astype(np.float32)\n",
        "Y = Y.astype(np.float32)"
      ],
      "execution_count": null,
      "outputs": []
    },
    {
      "cell_type": "code",
      "metadata": {
        "id": "Xp4nRpuX5NTH"
      },
      "source": [
        "# Define the loss\n",
        "def get_loss(model, inputs, targets):\n",
        "  predictions = model(inputs)\n",
        "  error = targets - predictions\n",
        "  return tf.reduce_mean(tf.square(error))"
      ],
      "execution_count": null,
      "outputs": []
    },
    {
      "cell_type": "code",
      "metadata": {
        "id": "XN1P04lF5gYX"
      },
      "source": [
        "# Gradient function\n",
        "def get_grad(model, inputs, targets):\n",
        "  with tf.GradientTape() as tape:\n",
        "    loss_value = get_loss(model, inputs, targets)\n",
        "\n",
        "  # return gradient\n",
        "  return tape.gradient(loss_value, model.params)"
      ],
      "execution_count": null,
      "outputs": []
    },
    {
      "cell_type": "code",
      "metadata": {
        "colab": {
          "base_uri": "https://localhost:8080/"
        },
        "id": "5vceRk5-5_J_",
        "outputId": "05158954-b401-484f-c740-eafba54e2283"
      },
      "source": [
        "# Create and train the model\n",
        "model = LinearRegression(D,K)\n",
        "\n",
        "# Print the params before training\n",
        "print(\"Initial params:\")\n",
        "print(model.W)\n",
        "print(model.b)"
      ],
      "execution_count": null,
      "outputs": [
        {
          "output_type": "stream",
          "text": [
            "Initial params:\n",
            "<tf.Variable 'Variable:0' shape=(1, 1) dtype=float32, numpy=array([[0.07751474]], dtype=float32)>\n",
            "<tf.Variable 'Variable:0' shape=(1,) dtype=float32, numpy=array([0.], dtype=float32)>\n"
          ],
          "name": "stdout"
        }
      ]
    },
    {
      "cell_type": "code",
      "metadata": {
        "id": "ZmC0gU3M6Qno"
      },
      "source": [
        "# Store the losses here\n",
        "losses = []\n",
        "\n",
        "# Create an optimizer\n",
        "optimizer = tf.keras.optimizers.SGD(learning_rate=0.2)\n",
        "\n",
        "# Run the training loop\n",
        "for i in range(100):\n",
        "  # Get gradients\n",
        "  grads = get_grad(model,X,Y)\n",
        "\n",
        "  # Do one step of gradient descent: param <- param - learning_rate * grad\n",
        "  optimizer.apply_gradients(zip(grads, model.params))\n",
        "\n",
        "  # Store the loss\n",
        "  loss = get_loss(model, X ,Y)\n",
        "  losses.append(loss)"
      ],
      "execution_count": null,
      "outputs": []
    },
    {
      "cell_type": "code",
      "metadata": {
        "colab": {
          "base_uri": "https://localhost:8080/",
          "height": 283
        },
        "id": "ZigsdVae68We",
        "outputId": "04c42e00-a241-4c56-b7d9-9b4737e851ad"
      },
      "source": [
        "plt.plot(losses)"
      ],
      "execution_count": null,
      "outputs": [
        {
          "output_type": "execute_result",
          "data": {
            "text/plain": [
              "[<matplotlib.lines.Line2D at 0x7f86b825ffd0>]"
            ]
          },
          "metadata": {
            "tags": []
          },
          "execution_count": 13
        },
        {
          "output_type": "display_data",
          "data": {
            "image/png": "[encoded data removed]",
            "text/plain": [
              "<Figure size 432x288 with 1 Axes>"
            ]
          },
          "metadata": {
            "tags": [],
            "needs_background": "light"
          }
        }
      ]
    },
    {
      "cell_type": "code",
      "metadata": {
        "colab": {
          "base_uri": "https://localhost:8080/",
          "height": 283
        },
        "id": "s5ga26wz6_Vf",
        "outputId": "1c0a69eb-d9e8-420d-eed4-a3e5bfe517ea"
      },
      "source": [
        "x_axis = np.linspace(X.min(), X.max(), 100)\n",
        "y_axis = model.predict(x_axis.reshape(-1,1)).flatten()\n",
        "\n",
        "plt.scatter(X,Y)\n",
        "plt.plot(x_axis, y_axis)"
      ],
      "execution_count": null,
      "outputs": [
        {
          "output_type": "execute_result",
          "data": {
            "text/plain": [
              "[<matplotlib.lines.Line2D at 0x7f86b3702990>]"
            ]
          },
          "metadata": {
            "tags": []
          },
          "execution_count": 14
        },
        {
          "output_type": "display_data",
          "data": {
            "image/png": "[encoded data removed]",
            "text/plain": [
              "<Figure size 432x288 with 1 Axes>"
            ]
          },
          "metadata": {
            "tags": [],
            "needs_background": "light"
          }
        }
      ]
    },
    {
      "cell_type": "code",
      "metadata": {
        "colab": {
          "base_uri": "https://localhost:8080/"
        },
        "id": "kdBuhb6h7WRw",
        "outputId": "dbce8232-98d3-4042-bc22-92388eb4b9aa"
      },
      "source": [
        "print(\"Predicted params:\")\n",
        "print(model.W)\n",
        "print(model.b)"
      ],
      "execution_count": null,
      "outputs": [
        {
          "output_type": "stream",
          "text": [
            "Predicted params:\n",
            "<tf.Variable 'Variable:0' shape=(1, 1) dtype=float32, numpy=array([[0.34155968]], dtype=float32)>\n",
            "<tf.Variable 'Variable:0' shape=(1,) dtype=float32, numpy=array([0.56357706], dtype=float32)>\n"
          ],
          "name": "stdout"
        }
      ]
    },
    {
      "cell_type": "code",
      "metadata": {
        "colab": {
          "base_uri": "https://localhost:8080/"
        },
        "id": "uSC-JpbE7do3",
        "outputId": "bc50da47-5ea4-4cea-a903-a8011b0c1514"
      },
      "source": [
        "print(\"True params:\")\n",
        "w,b"
      ],
      "execution_count": null,
      "outputs": [
        {
          "output_type": "stream",
          "text": [
            "True params:\n"
          ],
          "name": "stdout"
        },
        {
          "output_type": "execute_result",
          "data": {
            "text/plain": [
              "(array([[0.33849858]]), 0.5746444925776516)"
            ]
          },
          "metadata": {
            "tags": []
          },
          "execution_count": 16
        }
      ]
    },
    {
      "cell_type": "markdown",
      "metadata": {
        "id": "E_yNHV93GbFm"
      },
      "source": [
        "## **Mean Square Error**"
      ]
    },
    {
      "cell_type": "markdown",
      "metadata": {
        "id": "9hXEnFxIGobp"
      },
      "source": [
        "Linear regression'da noktalarin hepsine esit uzaklikta olucak sekilde cekilen cizginin hesaplanmasi icin kullanilan formul"
      ]
    },
    {
      "cell_type": "markdown",
      "metadata": {
        "id": "JxMqyTQjTTiL"
      },
      "source": [
        "## **Binary Cross-Entropy**"
      ]
    },
    {
      "cell_type": "markdown",
      "metadata": {
        "id": "wFWMsJoeTg7q"
      },
      "source": [
        "The correct loss function to use for binary classification.  Eger 1 ve 0 li bir siniflandirma yapilacaksa bu function kullanilir"
      ]
    },
    {
      "cell_type": "markdown",
      "metadata": {
        "id": "h8YfHtHHTvH3"
      },
      "source": [
        "## **Categorical Cross Entropy**"
      ]
    },
    {
      "cell_type": "markdown",
      "metadata": {
        "id": "nO2Dn2uBTzm5"
      },
      "source": [
        "Coklu siniflandir icin kullanilan loss function cesidi"
      ]
    },
    {
      "cell_type": "markdown",
      "metadata": {
        "id": "EqQE5k8AZDqK"
      },
      "source": [
        "## **Gradient Descent**"
      ]
    },
    {
      "cell_type": "markdown",
      "metadata": {
        "id": "5AYtKs6tZIRl"
      },
      "source": [
        "* For models(such as linear regression) we come up with with a cost / loss function\n",
        "\n",
        "* We want to minimize the cost(L) with respect to the parameters (w)\n",
        "\n",
        "* **Gradient Descent -> Dereceli azalma** anlamina gelir, 2. dereceden denklemlerin turevleri bize denklemin olusturdugu scope un egrisini verirken, denklemin turevini 0 a esitleyip , 2. dereceden denklemin max ve min noktalari bulanabilir. Gradient Descent te 2. dereceden buyuk denklemlerin cozumu icin kullanilan tekniktir. \n",
        "\n",
        "* **Hyperparameters** = Learning rateleri kucuk tutularak, denklemin min noktasina ulasilmaya calisilir. Fakat learning rateler buyuk alinirsa scope ta min noktasi atlanarak karsi tarafa gecilebilir\n",
        "\n",
        "* **Epochs** = Minimum loss function bulunurken , iterative deneme sayisi\n",
        "\n",
        "  \n",
        "\n",
        "\n"
      ]
    },
    {
      "cell_type": "markdown",
      "metadata": {
        "id": "0Cfx3tz4Acz8"
      },
      "source": [
        "## **Stochastic Gradient Descent**"
      ]
    },
    {
      "cell_type": "markdown",
      "metadata": {
        "id": "nrp-AFfuAhrC"
      },
      "source": [
        "* SGD, daha hizli train etmek icin eldeki verilerden random ornekler cekildiginde kullanilir. Ex. Batch size!!!"
      ]
    },
    {
      "cell_type": "markdown",
      "metadata": {
        "id": "xRrV8TUIB_8V"
      },
      "source": [
        "## **Momentum**"
      ]
    },
    {
      "cell_type": "markdown",
      "metadata": {
        "id": "a5ZE_efvCLkH"
      },
      "source": [
        "* Gradient Descent uygulanirken, islemin ara noktalarda sikismamasi ve daha hizli sonuca varmak icin kullanilan yontem\n",
        "\n",
        "* https://www.quora.com/What-does-momentum-mean-in-neural-networks\n",
        "\n"
      ]
    },
    {
      "cell_type": "markdown",
      "metadata": {
        "id": "uD50eRwME9mF"
      },
      "source": [
        "## **Variable and Adaptive Learning Rates**"
      ]
    },
    {
      "cell_type": "markdown",
      "metadata": {
        "id": "fWM53nBAFDD6"
      },
      "source": [
        "* **Step Decay** = Belli sayida epochs'tan sonra learning rate'in belli oranda dusurulmesi\n",
        "\n",
        "* **Exponential Decay** = Learning Rate exponential sekilde surekli azaliyor\n",
        "\n",
        "* **AdaGrad** = Adaptive Learning Rate Techniques. Her adimda Learning Rate Degisir\n",
        "    * **Cache** = Her neural vectorun ayni zamanda bir cache vektoru vardir. Gradient'e dogru orantili olarak degisir. Yüksek gradient olan yerlerde cache artar learning rate duser.\n",
        "* **RMSProp** = AdaGrad tekniginde learning rate cok hizli bir sekilde 0 a yaklasiyor cunku cache cok hizli buyuyor.Bu buyumeyi kontrol altina almak icin cache denklemine decay rate eklenerek cache'in hizli büyümesi kontrol altina aliniyor\n"
      ]
    },
    {
      "cell_type": "markdown",
      "metadata": {
        "id": "j1de2S7COwKz"
      },
      "source": [
        "## **Adam**"
      ]
    },
    {
      "cell_type": "markdown",
      "metadata": {
        "id": "sHhQRlGZOzhn"
      },
      "source": [
        "* **Adam** = Adaptive Moment Estimation, bir baska gradient descent modify etme yontemi\n",
        "    * Cok kullanilmasinin sebebi default settings halinde bile iyi sonuclar vermesi. Learning rate ve momentum parameter ayarlamasina gerek yok\n",
        "    * RMSprop'un ileri versiyonu\n",
        "    * Geoffrey Hinton'in phd ogrencisi Jimmy Ba tarafindan gelistirildi\n",
        "    \n"
      ]
    },
    {
      "cell_type": "code",
      "metadata": {
        "id": "MwC5Q0j8nQFF"
      },
      "source": [
        ""
      ],
      "execution_count": null,
      "outputs": []
    },
    {
      "cell_type": "markdown",
      "metadata": {
        "id": "DIcoUgpRnSkO"
      },
      "source": [
        "# **GAN**"
      ]
    },
    {
      "cell_type": "code",
      "metadata": {
        "id": "gd0aWluf_FuV"
      },
      "source": [
        "# Inputs\n",
        "\n",
        "from tensorflow.keras.layers import Input, Dense, LeakyReLU, Dropout, BatchNormalization\n",
        "from tensorflow.keras.models import Model\n",
        "from tensorflow.keras.optimizers import SGD, Adam\n",
        "\n",
        "import tensorflow as tf\n",
        "import numpy as np\n",
        "import pandas as pd\n",
        "import matplotlib.pyplot as plt\n",
        "import sys, os"
      ],
      "execution_count": null,
      "outputs": []
    },
    {
      "cell_type": "code",
      "metadata": {
        "colab": {
          "base_uri": "https://localhost:8080/"
        },
        "id": "F1KhwZu-AScq",
        "outputId": "8888eccf-1141-4c12-ff7b-80c374a1f2f3"
      },
      "source": [
        "!pip install keras"
      ],
      "execution_count": null,
      "outputs": [
        {
          "output_type": "stream",
          "text": [
            "Requirement already satisfied: keras in /usr/local/lib/python3.7/dist-packages (2.4.3)\n",
            "Requirement already satisfied: numpy>=1.9.1 in /usr/local/lib/python3.7/dist-packages (from keras) (1.19.5)\n",
            "Requirement already satisfied: pyyaml in /usr/local/lib/python3.7/dist-packages (from keras) (3.13)\n",
            "Requirement already satisfied: h5py in /usr/local/lib/python3.7/dist-packages (from keras) (2.10.0)\n",
            "Requirement already satisfied: scipy>=0.14 in /usr/local/lib/python3.7/dist-packages (from keras) (1.4.1)\n",
            "Requirement already satisfied: six in /usr/local/lib/python3.7/dist-packages (from h5py->keras) (1.15.0)\n"
          ],
          "name": "stdout"
        }
      ]
    },
    {
      "cell_type": "code",
      "metadata": {
        "colab": {
          "base_uri": "https://localhost:8080/"
        },
        "id": "nSdHA94y_w21",
        "outputId": "c14a3cd1-b024-4dd0-ebfb-c6b1d14fe945"
      },
      "source": [
        "# Load in the data\n",
        "mnist = tf.keras.datasets.mnist\n",
        "\n",
        "(x_train,y_train),(x_test,y_test) = mnist.load_data()\n",
        "\n",
        "# map inputs to (-1,+1) for better training\n",
        "x_train, x_test = x_train / 255.0*2-1, x_test / 255.0*2-1\n",
        "print(\"x_train.shape:\",x_train.shape)"
      ],
      "execution_count": null,
      "outputs": [
        {
          "output_type": "stream",
          "text": [
            "x_train.shape: (60000, 28, 28)\n"
          ],
          "name": "stdout"
        }
      ]
    },
    {
      "cell_type": "code",
      "metadata": {
        "id": "2nuAlWhkAeLk"
      },
      "source": [
        "# Flatten the data\n",
        "N, H, W = x_train.shape\n",
        "D = H * W\n",
        "x_train = x_train.reshape(-1,D)\n",
        "x_test = x_test.reshape(-1,D)"
      ],
      "execution_count": null,
      "outputs": []
    },
    {
      "cell_type": "code",
      "metadata": {
        "id": "_5Y1e0yHAxwk"
      },
      "source": [
        "# Dimensionality of the laten space\n",
        "latent_dim = 100"
      ],
      "execution_count": null,
      "outputs": []
    },
    {
      "cell_type": "code",
      "metadata": {
        "id": "MkCVkxtPVG-S"
      },
      "source": [
        "# Get the generator model\n",
        "def build_generator(latent_dim):\n",
        "  i = Input(shape=(latent_dim))\n",
        "  x = Dense(256,activation=LeakyReLU(alpha=0.2))(i)\n",
        "  x = BatchNormalization(momentum=0.7)(x)\n",
        "  x = Dense(512, activation=LeakyReLU(alpha=0.2))(x)\n",
        "  x = BatchNormalization(momentum=0.7)(x)\n",
        "  x = Dense(1024, activation=LeakyReLU(alpha=0.2))(x)\n",
        "  x = BatchNormalization(momentum=0.7)(x)\n",
        "  x = Dense(D, activation='tanh')(x)\n",
        "\n",
        "  model = Model(i,x)\n",
        "  return model"
      ],
      "execution_count": null,
      "outputs": []
    },
    {
      "cell_type": "code",
      "metadata": {
        "id": "JWJCqjdYW4B0"
      },
      "source": [
        "# Get the discriminator model\n",
        "def build_discriminator(img_size):\n",
        "  i = Input(shape=(img_size,))\n",
        "  x = Dense(512, activation=LeakyReLU(alpha=0.2))(i)\n",
        "  x = Dense(256, activation=LeakyReLU(alpha=0.2))(x)\n",
        "  x = Dense(1, activation='sigmoid')(x)\n",
        "  model = Model(i,x)\n",
        "  return model"
      ],
      "execution_count": null,
      "outputs": []
    },
    {
      "cell_type": "code",
      "metadata": {
        "id": "zrPqBQOXXpAj"
      },
      "source": [
        "# Compile both models in preparation for training\n",
        "\n",
        "#Build and compile the discriminator\n",
        "discriminator = build_discriminator(D)\n",
        "discriminator.compile(loss='binary_crossentropy',optimizer=Adam(0.0002, 0.5),metrics=['accuracy'])\n",
        "\n",
        "# Build and compile the combined model\n",
        "generator = build_generator(latent_dim)\n",
        "\n",
        "#Create an Input to represent noise sample from latent space\n",
        "z = Input(shape=(latent_dim,))\n",
        "\n",
        "#Pass noise through generator to get an image\n",
        "img = generator(z)\n",
        "\n",
        "#Make sure only the generator is trained\n",
        "discriminator.trainable = False\n",
        "\n",
        "#The true output is fake, but we label them real! (niye amk??)\n",
        "fake_pred = discriminator(img)\n",
        "\n",
        "#Create the combined model object\n",
        "combined_model = Model(z,fake_pred)\n",
        "\n",
        "#Compile the combined model\n",
        "combined_model.compile(loss='binary_crossentropy',optimizer=Adam(0.0002, 0.5))"
      ],
      "execution_count": null,
      "outputs": []
    },
    {
      "cell_type": "code",
      "metadata": {
        "id": "1xJVenpqdGp-"
      },
      "source": [
        "# Train the GAN\n",
        "\n",
        "#Config\n",
        "batch_size = 32\n",
        "epochs = 30000\n",
        "sample_period = 200 # every `sample_period` steps generate and save some data\n",
        "\n",
        "\n",
        "# Create batch labels to use when calling train_on_batch\n",
        "ones = np.ones(batch_size)\n",
        "zeros = np.zeros(batch_size)\n",
        "\n",
        "# Store the losses\n",
        "d_losses = []\n",
        "g_losses = []\n",
        "\n",
        "# Create a folder to store generated images\n",
        "if not os.path.exists('gan_images'):\n",
        "  os.makedirs('gan_images')"
      ],
      "execution_count": null,
      "outputs": []
    },
    {
      "cell_type": "code",
      "metadata": {
        "id": "wS9w46pUep2t"
      },
      "source": [
        "# A function to generate a grid of random samples from the generator\n",
        "# and save them to a file\n",
        "def sample_images(epoch):\n",
        "  rows, cols = 5, 5\n",
        "  noise = np.random.randn(rows * cols, latent_dim)\n",
        "  imgs = generator.predict(noise)\n",
        "\n",
        "  # Rescale images 0 - 1\n",
        "  imgs = 0.5 * imgs + 0.5\n",
        "\n",
        "  fig, axs = plt.subplots(rows, cols)\n",
        "  idx = 0\n",
        "  for i in range(rows):\n",
        "    for j in range(cols):\n",
        "      axs[i,j].imshow(imgs[idx].reshape(H, W), cmap='gray')\n",
        "      axs[i,j].axis('off')\n",
        "      idx += 1\n",
        "  fig.savefig(\"gan_images/%d.png\" % epoch)\n",
        "  plt.close()"
      ],
      "execution_count": null,
      "outputs": []
    },
    {
      "cell_type": "code",
      "metadata": {
        "id": "bxxFf3F4fb-u"
      },
      "source": [
        "# Main training loop\n",
        "for epoch in range(epochs):\n",
        "  ###########################\n",
        "  ### Train discriminator ###\n",
        "  ###########################\n",
        "  \n",
        "  # Select a random batch of images\n",
        "  idx = np.random.randint(0, x_train.shape[0], batch_size)\n",
        "  real_imgs = x_train[idx]\n",
        "  \n",
        "  # Generate fake images\n",
        "  noise = np.random.randn(batch_size, latent_dim)\n",
        "  fake_imgs = generator.predict(noise)\n",
        "  \n",
        "  # Train the discriminator\n",
        "  # both loss and accuracy are returned\n",
        "  d_loss_real, d_acc_real = discriminator.train_on_batch(real_imgs, ones)\n",
        "  d_loss_fake, d_acc_fake = discriminator.train_on_batch(fake_imgs, zeros)\n",
        "  d_loss = 0.5 * (d_loss_real + d_loss_fake)\n",
        "  d_acc  = 0.5 * (d_acc_real + d_acc_fake)\n",
        "  \n",
        "  \n",
        "  #######################\n",
        "  ### Train generator ###\n",
        "  #######################\n",
        "  \n",
        "  noise = np.random.randn(batch_size, latent_dim)\n",
        "  g_loss = combined_model.train_on_batch(noise, ones)\n",
        "  \n",
        "  # do it again!\n",
        "  noise = np.random.randn(batch_size, latent_dim)\n",
        "  g_loss = combined_model.train_on_batch(noise, ones)\n",
        "  \n",
        "  # Save the losses\n",
        "  d_losses.append(d_loss)\n",
        "  g_losses.append(g_loss)\n",
        "  \n",
        "  if epoch % 100 == 0:\n",
        "    print(f\"epoch: {epoch+1}/{epochs}, d_loss: {d_loss:.2f}, \\\n",
        "      d_acc: {d_acc:.2f}, g_loss: {g_loss:.2f}\")\n",
        "  \n",
        "  if epoch % sample_period == 0:\n",
        "    sample_images(epoch)"
      ],
      "execution_count": null,
      "outputs": []
    },
    {
      "cell_type": "code",
      "metadata": {
        "colab": {
          "base_uri": "https://localhost:8080/",
          "height": 282
        },
        "id": "3qgm9noYtmvi",
        "outputId": "35ac5676-69f3-4562-c863-4d7cb7fc235d"
      },
      "source": [
        "plt.plot(g_losses, label='g_losses')\n",
        "plt.plot(d_losses, label='d_losses')\n",
        "plt.legend()"
      ],
      "execution_count": null,
      "outputs": [
        {
          "output_type": "execute_result",
          "data": {
            "text/plain": [
              "<matplotlib.legend.Legend at 0x7febea2aded0>"
            ]
          },
          "metadata": {
            "tags": []
          },
          "execution_count": 15
        },
        {
          "output_type": "display_data",
          "data": {
            "image/png": "[encoded data removed]",
            "text/plain": [
              "<Figure size 432x288 with 1 Axes>"
            ]
          },
          "metadata": {
            "tags": [],
            "needs_background": "light"
          }
        }
      ]
    },
    {
      "cell_type": "code",
      "metadata": {
        "colab": {
          "base_uri": "https://localhost:8080/"
        },
        "id": "oHttLR1PtoEK",
        "outputId": "889afbf0-2a44-44bb-9f53-c1e3f8d99dca"
      },
      "source": [
        "!ls gan_images"
      ],
      "execution_count": null,
      "outputs": [
        {
          "output_type": "stream",
          "text": [
            "0.png\t   13800.png  17800.png  21600.png  25600.png  29600.png  6600.png\n",
            "10000.png  14000.png  18000.png  21800.png  25800.png  29800.png  6800.png\n",
            "1000.png   1400.png   1800.png\t 22000.png  26000.png  3000.png   7000.png\n",
            "10200.png  14200.png  18200.png  2200.png   2600.png   3200.png   7200.png\n",
            "10400.png  14400.png  18400.png  22200.png  26200.png  3400.png   7400.png\n",
            "10600.png  14600.png  18600.png  22400.png  26400.png  3600.png   7600.png\n",
            "10800.png  14800.png  18800.png  22600.png  26600.png  3800.png   7800.png\n",
            "11000.png  15000.png  19000.png  22800.png  26800.png  4000.png   8000.png\n",
            "11200.png  15200.png  19200.png  23000.png  27000.png  400.png\t  800.png\n",
            "11400.png  15400.png  19400.png  23200.png  27200.png  4200.png   8200.png\n",
            "11600.png  15600.png  19600.png  23400.png  27400.png  4400.png   8400.png\n",
            "11800.png  15800.png  19800.png  23600.png  27600.png  4600.png   8600.png\n",
            "12000.png  16000.png  20000.png  23800.png  27800.png  4800.png   8800.png\n",
            "1200.png   1600.png   2000.png\t 24000.png  28000.png  5000.png   9000.png\n",
            "12200.png  16200.png  200.png\t 2400.png   2800.png   5200.png   9200.png\n",
            "12400.png  16400.png  20200.png  24200.png  28200.png  5400.png   9400.png\n",
            "12600.png  16600.png  20400.png  24400.png  28400.png  5600.png   9600.png\n",
            "12800.png  16800.png  20600.png  24600.png  28600.png  5800.png   9800.png\n",
            "13000.png  17000.png  20800.png  24800.png  28800.png  6000.png\n",
            "13200.png  17200.png  21000.png  25000.png  29000.png  600.png\n",
            "13400.png  17400.png  21200.png  25200.png  29200.png  6200.png\n",
            "13600.png  17600.png  21400.png  25400.png  29400.png  6400.png\n"
          ],
          "name": "stdout"
        }
      ]
    },
    {
      "cell_type": "code",
      "metadata": {
        "colab": {
          "base_uri": "https://localhost:8080/",
          "height": 286
        },
        "id": "XwVK8sChtqmq",
        "outputId": "2332c23b-edd9-4786-c7c8-570e14d81006"
      },
      "source": [
        "from skimage.io import imread\n",
        "a = imread('gan_images/400.png')\n",
        "plt.imshow(a)"
      ],
      "execution_count": null,
      "outputs": [
        {
          "output_type": "execute_result",
          "data": {
            "text/plain": [
              "<matplotlib.image.AxesImage at 0x7febe954bd10>"
            ]
          },
          "metadata": {
            "tags": []
          },
          "execution_count": 25
        },
        {
          "output_type": "display_data",
          "data": {
            "image/png": "[encoded data removed]",
            "text/plain": [
              "<Figure size 432x288 with 1 Axes>"
            ]
          },
          "metadata": {
            "tags": [],
            "needs_background": "light"
          }
        }
      ]
    },
    {
      "cell_type": "code",
      "metadata": {
        "colab": {
          "base_uri": "https://localhost:8080/",
          "height": 286
        },
        "id": "dlsJUTy8txza",
        "outputId": "f4204b3d-79d7-4046-d5c5-3353c62ec684"
      },
      "source": [
        "a = imread('gan_images/800.png')\n",
        "plt.imshow(a)"
      ],
      "execution_count": null,
      "outputs": [
        {
          "output_type": "execute_result",
          "data": {
            "text/plain": [
              "<matplotlib.image.AxesImage at 0x7febe94c19d0>"
            ]
          },
          "metadata": {
            "tags": []
          },
          "execution_count": 26
        },
        {
          "output_type": "display_data",
          "data": {
            "image/png": "[encoded data removed]",
            "text/plain": [
              "<Figure size 432x288 with 1 Axes>"
            ]
          },
          "metadata": {
            "tags": [],
            "needs_background": "light"
          }
        }
      ]
    },
    {
      "cell_type": "markdown",
      "metadata": {
        "id": "UEHt5vonnkvD"
      },
      "source": [
        "# **Linear Classification**"
      ]
    },
    {
      "cell_type": "code",
      "metadata": {
        "id": "80YQ1j2tnqLM"
      },
      "source": [
        ""
      ],
      "execution_count": null,
      "outputs": []
    },
    {
      "cell_type": "code",
      "metadata": {
        "colab": {
          "base_uri": "https://localhost:8080/"
        },
        "id": "VtsHhCh_GRde",
        "outputId": "e1840537-33c1-4ca0-d6cb-8e35c4b50441"
      },
      "source": [
        "!apt-get install -y -qq software-properties-common python-software-properties module-init-tools\n",
        "!add-apt-repository -y ppa:alessandro-strada/ppa 2>&1 > /dev/null\n",
        "!apt-get update -qq 2>&1 > /dev/null\n",
        "!apt-get -y install -qq google-drive-ocamlfuse fuse\n",
        "from google.colab import auth\n",
        "auth.authenticate_user()\n",
        "from oauth2client.client import GoogleCredentials\n",
        "creds = GoogleCredentials.get_application_default()\n",
        "import getpass\n",
        "!google-drive-ocamlfuse -headless -id={creds.client_id} -secret={creds.client_secret} < /dev/null 2>&1 | grep URL\n",
        "vcode = getpass.getpass()\n",
        "!echo {vcode} | google-drive-ocamlfuse -headless -id={creds.client_id} -secret={creds.client_secret}"
      ],
      "execution_count": null,
      "outputs": [
        {
          "output_type": "stream",
          "text": [
            "E: Package 'python-software-properties' has no installation candidate\n",
            "Selecting previously unselected package google-drive-ocamlfuse.\n",
            "(Reading database ... 160983 files and directories currently installed.)\n",
            "Preparing to unpack .../google-drive-ocamlfuse_0.7.26-0ubuntu1~ubuntu18.04.1_amd64.deb ...\n",
            "Unpacking google-drive-ocamlfuse (0.7.26-0ubuntu1~ubuntu18.04.1) ...\n",
            "Setting up google-drive-ocamlfuse (0.7.26-0ubuntu1~ubuntu18.04.1) ...\n",
            "Processing triggers for man-db (2.8.3-2ubuntu0.1) ...\n",
            "Please, open the following URL in a web browser: https://accounts.google.com/o/oauth2/auth?client_id=32555940559.apps.googleusercontent.com&redirect_uri=urn%3Aietf%3Awg%3Aoauth%3A2.0%3Aoob&scope=https%3A%2F%2Fwww.googleapis.com%2Fauth%2Fdrive&response_type=code&access_type=offline&approval_prompt=force\n",
            "··········\n",
            "Please, open the following URL in a web browser: https://accounts.google.com/o/oauth2/auth?client_id=32555940559.apps.googleusercontent.com&redirect_uri=urn%3Aietf%3Awg%3Aoauth%3A2.0%3Aoob&scope=https%3A%2F%2Fwww.googleapis.com%2Fauth%2Fdrive&response_type=code&access_type=offline&approval_prompt=force\n",
            "Please enter the verification code: Access token retrieved correctly.\n"
          ],
          "name": "stdout"
        }
      ]
    },
    {
      "cell_type": "code",
      "metadata": {
        "id": "7-LW1tamG0VN"
      },
      "source": [
        "!mkdir -p drive\n",
        "!google-drive-ocamlfuse drive\n",
        "import sys\n",
        "sys.path.insert(0,'drive/Colab_workspace/TF_Lazyprogrammer_Lesson')"
      ],
      "execution_count": null,
      "outputs": []
    },
    {
      "cell_type": "code",
      "metadata": {
        "colab": {
          "base_uri": "https://localhost:8080/"
        },
        "id": "gG2EJt56HFuM",
        "outputId": "42f2f053-04c2-4a79-f623-e83feaf3613e"
      },
      "source": [
        "cd drive/Colab_workspace/TF_Lazyprogrammer_Lesson"
      ],
      "execution_count": null,
      "outputs": [
        {
          "output_type": "stream",
          "text": [
            "/content/drive/Colab_workspace/TF_Lazyprogrammer_Lesson\n"
          ],
          "name": "stdout"
        }
      ]
    },
    {
      "cell_type": "markdown",
      "metadata": {
        "id": "YlgfJK_yHyaK"
      },
      "source": [
        "## ***Classification example (Linear Classification)***"
      ]
    },
    {
      "cell_type": "code",
      "metadata": {
        "colab": {
          "base_uri": "https://localhost:8080/"
        },
        "id": "iAXwA3BYHMM-",
        "outputId": "0055b429-a2bf-4e59-bb90-05e571947b7b"
      },
      "source": [
        "import tensorflow as tf\n",
        "print(tf.__version__)"
      ],
      "execution_count": null,
      "outputs": [
        {
          "output_type": "stream",
          "text": [
            "2.4.1\n"
          ],
          "name": "stdout"
        }
      ]
    },
    {
      "cell_type": "code",
      "metadata": {
        "id": "sHH3MbfJRrIG"
      },
      "source": [
        "from sklearn.datasets import load_breast_cancer"
      ],
      "execution_count": null,
      "outputs": []
    },
    {
      "cell_type": "code",
      "metadata": {
        "id": "Q1slny3sHPkG"
      },
      "source": [
        "data = load_breast_cancer()"
      ],
      "execution_count": null,
      "outputs": []
    },
    {
      "cell_type": "code",
      "metadata": {
        "colab": {
          "base_uri": "https://localhost:8080/"
        },
        "id": "YJ6Sf7qQHW2o",
        "outputId": "dd05f698-0bb7-43db-a528-3e1cbe4ee47e"
      },
      "source": [
        "type(data)"
      ],
      "execution_count": null,
      "outputs": [
        {
          "output_type": "execute_result",
          "data": {
            "text/plain": [
              "sklearn.utils.Bunch"
            ]
          },
          "metadata": {
            "tags": []
          },
          "execution_count": 4
        }
      ]
    },
    {
      "cell_type": "code",
      "metadata": {
        "colab": {
          "base_uri": "https://localhost:8080/"
        },
        "id": "TnShbP8vHayQ",
        "outputId": "5d14f6d7-94ab-431d-ae58-b07efb1c5b7a"
      },
      "source": [
        "data.keys()"
      ],
      "execution_count": null,
      "outputs": [
        {
          "output_type": "execute_result",
          "data": {
            "text/plain": [
              "dict_keys(['data', 'target', 'target_names', 'DESCR', 'feature_names', 'filename'])"
            ]
          },
          "metadata": {
            "tags": []
          },
          "execution_count": 5
        }
      ]
    },
    {
      "cell_type": "code",
      "metadata": {
        "colab": {
          "base_uri": "https://localhost:8080/"
        },
        "id": "mRpKMNUcHt1D",
        "outputId": "48eddf0f-8a3e-4c1b-ef27-d54754dc9e8e"
      },
      "source": [
        "data.data.shape"
      ],
      "execution_count": null,
      "outputs": [
        {
          "output_type": "execute_result",
          "data": {
            "text/plain": [
              "(569, 30)"
            ]
          },
          "metadata": {
            "tags": []
          },
          "execution_count": 6
        }
      ]
    },
    {
      "cell_type": "code",
      "metadata": {
        "colab": {
          "base_uri": "https://localhost:8080/"
        },
        "id": "sMVEZd4TIMvJ",
        "outputId": "6610e161-c365-4fb1-f12a-cb47bc1b67fb"
      },
      "source": [
        "data.target"
      ],
      "execution_count": null,
      "outputs": [
        {
          "output_type": "execute_result",
          "data": {
            "text/plain": [
              "array([0, 0, 0, 0, 0, 0, 0, 0, 0, 0, 0, 0, 0, 0, 0, 0, 0, 0, 0, 1, 1, 1,\n",
              "       0, 0, 0, 0, 0, 0, 0, 0, 0, 0, 0, 0, 0, 0, 0, 1, 0, 0, 0, 0, 0, 0,\n",
              "       0, 0, 1, 0, 1, 1, 1, 1, 1, 0, 0, 1, 0, 0, 1, 1, 1, 1, 0, 1, 0, 0,\n",
              "       1, 1, 1, 1, 0, 1, 0, 0, 1, 0, 1, 0, 0, 1, 1, 1, 0, 0, 1, 0, 0, 0,\n",
              "       1, 1, 1, 0, 1, 1, 0, 0, 1, 1, 1, 0, 0, 1, 1, 1, 1, 0, 1, 1, 0, 1,\n",
              "       1, 1, 1, 1, 1, 1, 1, 0, 0, 0, 1, 0, 0, 1, 1, 1, 0, 0, 1, 0, 1, 0,\n",
              "       0, 1, 0, 0, 1, 1, 0, 1, 1, 0, 1, 1, 1, 1, 0, 1, 1, 1, 1, 1, 1, 1,\n",
              "       1, 1, 0, 1, 1, 1, 1, 0, 0, 1, 0, 1, 1, 0, 0, 1, 1, 0, 0, 1, 1, 1,\n",
              "       1, 0, 1, 1, 0, 0, 0, 1, 0, 1, 0, 1, 1, 1, 0, 1, 1, 0, 0, 1, 0, 0,\n",
              "       0, 0, 1, 0, 0, 0, 1, 0, 1, 0, 1, 1, 0, 1, 0, 0, 0, 0, 1, 1, 0, 0,\n",
              "       1, 1, 1, 0, 1, 1, 1, 1, 1, 0, 0, 1, 1, 0, 1, 1, 0, 0, 1, 0, 1, 1,\n",
              "       1, 1, 0, 1, 1, 1, 1, 1, 0, 1, 0, 0, 0, 0, 0, 0, 0, 0, 0, 0, 0, 0,\n",
              "       0, 0, 1, 1, 1, 1, 1, 1, 0, 1, 0, 1, 1, 0, 1, 1, 0, 1, 0, 0, 1, 1,\n",
              "       1, 1, 1, 1, 1, 1, 1, 1, 1, 1, 1, 0, 1, 1, 0, 1, 0, 1, 1, 1, 1, 1,\n",
              "       1, 1, 1, 1, 1, 1, 1, 1, 1, 0, 1, 1, 1, 0, 1, 0, 1, 1, 1, 1, 0, 0,\n",
              "       0, 1, 1, 1, 1, 0, 1, 0, 1, 0, 1, 1, 1, 0, 1, 1, 1, 1, 1, 1, 1, 0,\n",
              "       0, 0, 1, 1, 1, 1, 1, 1, 1, 1, 1, 1, 1, 0, 0, 1, 0, 0, 0, 1, 0, 0,\n",
              "       1, 1, 1, 1, 1, 0, 1, 1, 1, 1, 1, 0, 1, 1, 1, 0, 1, 1, 0, 0, 1, 1,\n",
              "       1, 1, 1, 1, 0, 1, 1, 1, 1, 1, 1, 1, 0, 1, 1, 1, 1, 1, 0, 1, 1, 0,\n",
              "       1, 1, 1, 1, 1, 1, 1, 1, 1, 1, 1, 1, 0, 1, 0, 0, 1, 0, 1, 1, 1, 1,\n",
              "       1, 0, 1, 1, 0, 1, 0, 1, 1, 0, 1, 0, 1, 1, 1, 1, 1, 1, 1, 1, 0, 0,\n",
              "       1, 1, 1, 1, 1, 1, 0, 1, 1, 1, 1, 1, 1, 1, 1, 1, 1, 0, 1, 1, 1, 1,\n",
              "       1, 1, 1, 0, 1, 0, 1, 1, 0, 1, 1, 1, 1, 1, 0, 0, 1, 0, 1, 0, 1, 1,\n",
              "       1, 1, 1, 0, 1, 1, 0, 1, 0, 1, 0, 0, 1, 1, 1, 0, 1, 1, 1, 1, 1, 1,\n",
              "       1, 1, 1, 1, 1, 0, 1, 0, 0, 1, 1, 1, 1, 1, 1, 1, 1, 1, 1, 1, 1, 1,\n",
              "       1, 1, 1, 1, 1, 1, 1, 1, 1, 1, 1, 1, 0, 0, 0, 0, 0, 0, 1])"
            ]
          },
          "metadata": {
            "tags": []
          },
          "execution_count": 7
        }
      ]
    },
    {
      "cell_type": "code",
      "metadata": {
        "colab": {
          "base_uri": "https://localhost:8080/"
        },
        "id": "B6p94IzqIciJ",
        "outputId": "1db71586-c2b6-4aa5-dc1e-56ee6a10e3c1"
      },
      "source": [
        "data.target_names"
      ],
      "execution_count": null,
      "outputs": [
        {
          "output_type": "execute_result",
          "data": {
            "text/plain": [
              "array(['malignant', 'benign'], dtype='<U9')"
            ]
          },
          "metadata": {
            "tags": []
          },
          "execution_count": 8
        }
      ]
    },
    {
      "cell_type": "code",
      "metadata": {
        "id": "24v9RQRhIivZ"
      },
      "source": [
        "from sklearn.model_selection import train_test_split\n",
        "\n",
        "#split the data into train and test sets\n",
        "X_train, X_test, y_train, y_test = train_test_split(data.data, data.target, test_size=0.33)"
      ],
      "execution_count": null,
      "outputs": []
    },
    {
      "cell_type": "code",
      "metadata": {
        "id": "PaYSjXM2JLlr"
      },
      "source": [
        "N,D = X_train.shape"
      ],
      "execution_count": null,
      "outputs": []
    },
    {
      "cell_type": "code",
      "metadata": {
        "id": "Lh_QFHBTJWXi"
      },
      "source": [
        "from sklearn.preprocessing import StandardScaler\n",
        "\n",
        "scaler = StandardScaler()\n",
        "X_train = scaler.fit_transform(X_train)\n",
        "X_test = scaler.transform(X_test)"
      ],
      "execution_count": null,
      "outputs": []
    },
    {
      "cell_type": "code",
      "metadata": {
        "id": "U7VSUIrvJ1jh"
      },
      "source": [
        "# Build the model\n",
        "model = tf.keras.models.Sequential([tf.keras.layers.Input(shape=(D,)),tf.keras.layers.Dense(1,activation='sigmoid')])\n",
        "\n",
        "## Alternatively model creating\n",
        "# model = tf.keras.models.Sequential()\n",
        "# model.add(tf.keras.layers.Dense(1,input_shape=(D,),activation='sigmoid'))\n",
        "\n",
        "model.compile(optimizer='adam' , loss='binary_crossentropy', metrics=['accuracy'])\n",
        "\n",
        "#Train model\n",
        "r = model.fit(X_train,y_train, validation_data =(X_test,y_test), epochs=50)\n",
        "\n",
        "#Evaluate the model-evaluate() returns loss and accuracy\n",
        "print(\"Train score:\", model.evaluate(X_train,y_train))\n",
        "print(\"Test score:\", model.evaluate(X_test,y_test))"
      ],
      "execution_count": null,
      "outputs": []
    },
    {
      "cell_type": "code",
      "metadata": {
        "id": "RRirpm_CMgBU"
      },
      "source": [
        "import matplotlib.pyplot as plt\n",
        "plt.plot(r.history['loss'],label = 'loss')\n",
        "plt.plot(r.history['val_loss'],label = 'val_loss')\n",
        "plt.legend()"
      ],
      "execution_count": null,
      "outputs": []
    },
    {
      "cell_type": "code",
      "metadata": {
        "id": "thyffzNCNX6J"
      },
      "source": [
        "plt.plot(r.history['accuracy'],label = 'acc')\n",
        "plt.plot(r.history['val_accuracy'],label = 'val_acc')\n",
        "plt.legend()"
      ],
      "execution_count": null,
      "outputs": []
    },
    {
      "cell_type": "markdown",
      "metadata": {
        "id": "hP98mIzMdl3y"
      },
      "source": [
        "## ***Making Precition***"
      ]
    },
    {
      "cell_type": "code",
      "metadata": {
        "id": "26dKP2aydrhG"
      },
      "source": [
        "#Making Predictions\n",
        "P = model.predict(X_test)\n",
        "print(P) #they are output of the sigmoid, interpreted as probabilities p(y = 1 | x)"
      ],
      "execution_count": null,
      "outputs": []
    },
    {
      "cell_type": "code",
      "metadata": {
        "id": "iwzCOCinvl_7"
      },
      "source": [
        "# Round to get the actual predictions\n",
        "# Note: has to be flattened since the targets are size (N,) while the predictions are size (N,1) = target 1D array oldugu icin, flatten foksiyonus kullanilmali\n",
        "import numpy as np\n",
        "P = np.round(P).flatten()\n",
        "print(P)"
      ],
      "execution_count": null,
      "outputs": []
    },
    {
      "cell_type": "code",
      "metadata": {
        "colab": {
          "base_uri": "https://localhost:8080/"
        },
        "id": "mEEeW2rswceV",
        "outputId": "91ed0359-a274-492d-bfe3-ca3af3a37a5f"
      },
      "source": [
        "# Calculate the acuuracy, compare it to evaluate() output\n",
        "print(\"Manually calculated accuracy:\", np.mean(P == y_test))\n",
        "print(\"Evaluate output:\", model.evaluate(X_test, y_test))"
      ],
      "execution_count": null,
      "outputs": [
        {
          "output_type": "stream",
          "text": [
            "Manually calculated accuracy: 0.9840425531914894\n",
            "6/6 [==============================] - 0s 3ms/step - loss: 0.1196 - accuracy: 0.9840\n",
            "Evaluate output: [0.11961333453655243, 0.9840425252914429]\n"
          ],
          "name": "stdout"
        }
      ]
    },
    {
      "cell_type": "markdown",
      "metadata": {
        "id": "g67wMHPwztZK"
      },
      "source": [
        "## **Saving and loading a Model**"
      ]
    },
    {
      "cell_type": "code",
      "metadata": {
        "id": "4SrWLTOgw5Vc"
      },
      "source": [
        "# let's now save our model to a file\n",
        "model.save('linearclass.h5')"
      ],
      "execution_count": null,
      "outputs": []
    },
    {
      "cell_type": "code",
      "metadata": {
        "colab": {
          "base_uri": "https://localhost:8080/"
        },
        "id": "ze2GxDexw6vh",
        "outputId": "645f1dd6-daea-4e77-91c4-82858ac99d65"
      },
      "source": [
        "# Check that model file exists\n",
        "!ls -lh"
      ],
      "execution_count": null,
      "outputs": [
        {
          "output_type": "stream",
          "text": [
            "total 40K\n",
            "-rw-r--r-- 1 root root  19K Apr 21 09:41 linearclass.h5\n",
            "-rw-r--r-- 1 root root 2.3K Apr 21 07:18 moore.csv\n",
            "-rw-r--r-- 1 root root 2.3K Apr 21 09:29 moore.csv.1\n",
            "-rw-r--r-- 1 root root 2.3K Apr 21 09:29 moore.csv.2\n",
            "-rw-r--r-- 1 root root 2.3K Apr 21 09:30 moore.csv.3\n",
            "drwxr-xr-x 1 root root 4.0K Apr  7 13:36 sample_data\n"
          ],
          "name": "stdout"
        }
      ]
    },
    {
      "cell_type": "code",
      "metadata": {
        "colab": {
          "base_uri": "https://localhost:8080/"
        },
        "id": "SXODhZHBw6tS",
        "outputId": "7cae34a1-370c-4ba0-cd77-6500fb114370"
      },
      "source": [
        "# Load model\n",
        "model = tf.keras.models.load_model('linearclass.h5')\n",
        "print(model.layers)\n",
        "model.evaluate(X_test,y_test)"
      ],
      "execution_count": null,
      "outputs": [
        {
          "output_type": "stream",
          "text": [
            "[<tensorflow.python.keras.layers.core.Dense object at 0x7f1483d90250>]\n",
            "6/6 [==============================] - 0s 2ms/step - loss: 0.1196 - accuracy: 0.9840\n"
          ],
          "name": "stdout"
        },
        {
          "output_type": "execute_result",
          "data": {
            "text/plain": [
              "[0.11961333453655243, 0.9840425252914429]"
            ]
          },
          "metadata": {
            "tags": []
          },
          "execution_count": 20
        }
      ]
    },
    {
      "cell_type": "code",
      "metadata": {
        "id": "Iv8Tsdeyw6qb"
      },
      "source": [
        ""
      ],
      "execution_count": null,
      "outputs": []
    },
    {
      "cell_type": "code",
      "metadata": {
        "id": "cCvDdVWIw6nk"
      },
      "source": [
        ""
      ],
      "execution_count": null,
      "outputs": []
    },
    {
      "cell_type": "code",
      "metadata": {
        "id": "tWqOpHKfw6h-"
      },
      "source": [
        ""
      ],
      "execution_count": null,
      "outputs": []
    },
    {
      "cell_type": "code",
      "metadata": {
        "id": "h2i1MLhfw6Xh"
      },
      "source": [
        ""
      ],
      "execution_count": null,
      "outputs": []
    },
    {
      "cell_type": "markdown",
      "metadata": {
        "id": "vVx5-u7-Njhf"
      },
      "source": [
        "## **Moore law prove (Linear Regression)** "
      ]
    },
    {
      "cell_type": "code",
      "metadata": {
        "id": "YZmBjl-mNiJL"
      },
      "source": [
        "import tensorflow as tf\n",
        "import pandas as pd\n",
        "import numpy as np\n",
        "import matplotlib.pyplot as plt\n"
      ],
      "execution_count": null,
      "outputs": []
    },
    {
      "cell_type": "code",
      "metadata": {
        "colab": {
          "base_uri": "https://localhost:8080/"
        },
        "id": "nREAEuXLTA12",
        "outputId": "ae1f6b38-6010-4c58-a11e-bbc78e4ee718"
      },
      "source": [
        "!wget https://raw.githubusercontent.com/lazyprogrammer/machine_learning_examples/master/tf2.0/moore.csv"
      ],
      "execution_count": null,
      "outputs": [
        {
          "output_type": "stream",
          "text": [
            "--2021-04-21 09:30:17--  https://raw.githubusercontent.com/lazyprogrammer/machine_learning_examples/master/tf2.0/moore.csv\n",
            "Resolving raw.githubusercontent.com (raw.githubusercontent.com)... 185.199.110.133, 185.199.111.133, 185.199.108.133, ...\n",
            "Connecting to raw.githubusercontent.com (raw.githubusercontent.com)|185.199.110.133|:443... connected.\n",
            "HTTP request sent, awaiting response... 200 OK\n",
            "Length: 2302 (2.2K) [text/plain]\n",
            "Saving to: ‘moore.csv.3’\n",
            "\n",
            "\rmoore.csv.3           0%[                    ]       0  --.-KB/s               \rmoore.csv.3         100%[===================>]   2.25K  --.-KB/s    in 0s      \n",
            "\n",
            "2021-04-21 09:30:17 (48.9 MB/s) - ‘moore.csv.3’ saved [2302/2302]\n",
            "\n"
          ],
          "name": "stdout"
        }
      ]
    },
    {
      "cell_type": "code",
      "metadata": {
        "id": "EXBDe1yXTTfx"
      },
      "source": [
        "#Load data\n",
        "data = pd.read_csv('moore.csv',header=None).values\n",
        "X = data[:,0].reshape(-1,1)\n",
        "Y = data[:,1]"
      ],
      "execution_count": null,
      "outputs": []
    },
    {
      "cell_type": "code",
      "metadata": {
        "id": "W1kVQn1BTsOI"
      },
      "source": [
        "plt.scatter(X,Y) # This is exponential data"
      ],
      "execution_count": null,
      "outputs": []
    },
    {
      "cell_type": "code",
      "metadata": {
        "id": "B5GN8C9NT4Rc"
      },
      "source": [
        "# Since we want a linear model, let's take the log\n",
        "Y = np.log(Y)\n",
        "plt.scatter(X,Y)\n",
        "# that's better"
      ],
      "execution_count": null,
      "outputs": []
    },
    {
      "cell_type": "code",
      "metadata": {
        "id": "6c2J_06_Ud9J"
      },
      "source": [
        "# Let's also center the X data so the values are not loo large\n",
        "# We could scale it too but then we'd have to reverse the transformation later\n",
        "X = X - X.mean()"
      ],
      "execution_count": null,
      "outputs": []
    },
    {
      "cell_type": "code",
      "metadata": {
        "id": "CvRHHLmqU4R2"
      },
      "source": [
        "# Now create our Tensorflow model\n",
        "\n",
        "model = tf.keras.models.Sequential([tf.keras.layers.Input(shape=(1,)),tf.keras.layers.Dense(1)])\n",
        "\n",
        "model.compile(optimizer=tf.keras.optimizers.SGD(0.001,0.9), loss ='mse')\n",
        "#model.compile(optimizer='adam', loss='mse')\n",
        "\n",
        "# learning rate scheduler\n",
        "def schedule(epoch, Ir): #lr = learning rate\n",
        "  if epoch >= 50:\n",
        "    return 0.0001\n",
        "  return 0.001\n",
        "\n",
        "scheduler = tf.keras.callbacks.LearningRateScheduler(schedule)\n",
        "\n",
        "#Train model\n",
        "\n",
        "r=model.fit(X,Y, epochs=200, callbacks=[scheduler])\n",
        "\n"
      ],
      "execution_count": null,
      "outputs": []
    },
    {
      "cell_type": "code",
      "metadata": {
        "id": "r_pPejmCatp_"
      },
      "source": [
        "# Plot the loss\n",
        "plt.plot(r.history['loss'],label='loss')"
      ],
      "execution_count": null,
      "outputs": []
    },
    {
      "cell_type": "code",
      "metadata": {
        "id": "5uypI9PWcf93"
      },
      "source": [
        "a = model.layers[0].get_weights()[0][0,0]"
      ],
      "execution_count": null,
      "outputs": []
    },
    {
      "cell_type": "code",
      "metadata": {
        "colab": {
          "base_uri": "https://localhost:8080/"
        },
        "id": "oIKpsd69cr9n",
        "outputId": "25c249de-e5e9-4d1a-ab7e-af1652e82561"
      },
      "source": [
        "print(\"Time to double:\",np.log(2)/a)"
      ],
      "execution_count": null,
      "outputs": [
        {
          "output_type": "stream",
          "text": [
            "Time to double: 2.041643512260215\n"
          ],
          "name": "stdout"
        }
      ]
    },
    {
      "cell_type": "code",
      "metadata": {
        "colab": {
          "base_uri": "https://localhost:8080/",
          "height": 282
        },
        "id": "Ooc6Rtehxfai",
        "outputId": "b6ae5867-6578-4a3f-fc22-c04db841edfa"
      },
      "source": [
        "# Make sure the line fits our data\n",
        "Yhat = model.predict(X).flatten()\n",
        "plt.scatter(X,Y)\n",
        "plt.plot(X, Yhat)"
      ],
      "execution_count": null,
      "outputs": [
        {
          "output_type": "execute_result",
          "data": {
            "text/plain": [
              "[<matplotlib.lines.Line2D at 0x7f0d93bb1b10>]"
            ]
          },
          "metadata": {
            "tags": []
          },
          "execution_count": 18
        },
        {
          "output_type": "display_data",
          "data": {
            "image/png": "[encoded data removed]",
            "text/plain": [
              "<Figure size 432x288 with 1 Axes>"
            ]
          },
          "metadata": {
            "tags": [],
            "needs_background": "light"
          }
        }
      ]
    },
    {
      "cell_type": "code",
      "metadata": {
        "colab": {
          "base_uri": "https://localhost:8080/"
        },
        "id": "OtZxsim0xfXs",
        "outputId": "1ab673c2-e381-4736-85c0-21ae164ba36d"
      },
      "source": [
        "# Manuel calculation\n",
        "# Get the weights\n",
        "w,b = model.layers[0].get_weights()\n",
        "\n",
        "# Reshape X because we flattened it again earlier\n",
        "X = X.reshape(-1,1)\n",
        "\n",
        "# (N x 1) x (1 x 1) + (1) ---> (N x 1)\n",
        "Yhat2 = (X.dot(w) + b).flatten()\n",
        "\n",
        "#Do not use == for floationg points\n",
        "np.allclose(Yhat, Yhat2)"
      ],
      "execution_count": null,
      "outputs": [
        {
          "output_type": "execute_result",
          "data": {
            "text/plain": [
              "True"
            ]
          },
          "metadata": {
            "tags": []
          },
          "execution_count": 19
        }
      ]
    },
    {
      "cell_type": "code",
      "metadata": {
        "id": "BZxnB7JVxfUM"
      },
      "source": [
        ""
      ],
      "execution_count": null,
      "outputs": []
    },
    {
      "cell_type": "code",
      "metadata": {
        "id": "47UbbGSzxfRN"
      },
      "source": [
        ""
      ],
      "execution_count": null,
      "outputs": []
    },
    {
      "cell_type": "code",
      "metadata": {
        "id": "2-kbAJ-6xeb0"
      },
      "source": [
        ""
      ],
      "execution_count": null,
      "outputs": []
    },
    {
      "cell_type": "markdown",
      "metadata": {
        "id": "BI-eyWk4hNkx"
      },
      "source": [
        "# ***Open Camera***"
      ]
    },
    {
      "cell_type": "code",
      "metadata": {
        "id": "RuSe_MYXg4PJ"
      },
      "source": [
        "from IPython.display import display, Javascript\n",
        "from google.colab.output import eval_js\n",
        "from base64 import b64decode\n",
        "\n",
        "def take_photo(filename='photo.jpg', quality=0.8):\n",
        "  js = Javascript('''\n",
        "    async function takePhoto(quality) {\n",
        "      const div = document.createElement('div');\n",
        "      const capture = document.createElement('button');\n",
        "      capture.textContent = 'Capture';\n",
        "      div.appendChild(capture);\n",
        "\n",
        "      const video = document.createElement('video');\n",
        "      video.style.display = 'block';\n",
        "      const stream = await navigator.mediaDevices.getUserMedia({video: true});\n",
        "\n",
        "      document.body.appendChild(div);\n",
        "      div.appendChild(video);\n",
        "      video.srcObject = stream;\n",
        "      await video.play();\n",
        "\n",
        "      // Resize the output to fit the video element.\n",
        "      google.colab.output.setIframeHeight(document.documentElement.scrollHeight, true);\n",
        "\n",
        "      // Wait for Capture to be clicked.\n",
        "      await new Promise((resolve) => capture.onclick = resolve);\n",
        "\n",
        "      const canvas = document.createElement('canvas');\n",
        "      canvas.width = video.videoWidth;\n",
        "      canvas.height = video.videoHeight;\n",
        "      canvas.getContext('2d').drawImage(video, 0, 0);\n",
        "      stream.getVideoTracks()[0].stop();\n",
        "      div.remove();\n",
        "      return canvas.toDataURL('image/jpeg', quality);\n",
        "    }\n",
        "    ''')\n",
        "  display(js)\n",
        "  data = eval_js('takePhoto({})'.format(quality))\n",
        "  binary = b64decode(data.split(',')[1])\n",
        "  with open(filename, 'wb') as f:\n",
        "    f.write(binary)\n",
        "  return filename"
      ],
      "execution_count": null,
      "outputs": []
    },
    {
      "cell_type": "code",
      "metadata": {
        "id": "GMJHTAteg4PQ"
      },
      "source": [
        "from IPython.display import Image\n",
        "try:\n",
        "  filename = take_photo()\n",
        "  print('Saved to {}'.format(filename))\n",
        "  \n",
        "  # Show the image which was just taken.\n",
        "  display(Image(filename))\n",
        "except Exception as err:\n",
        "  # Errors will be thrown if the user does not have a webcam or if they do not\n",
        "  # grant the page permission to access it.\n",
        "  print(str(err))"
      ],
      "execution_count": null,
      "outputs": []
    },
    {
      "cell_type": "markdown",
      "metadata": {
        "id": "Gc00Hw5BoaZU"
      },
      "source": [
        "# **NLP(Natural_Language_Processing)**"
      ]
    },
    {
      "cell_type": "markdown",
      "metadata": {
        "id": "SHUAu0I70hgn"
      },
      "source": [
        "## **Text Preprocessing**"
      ]
    },
    {
      "cell_type": "code",
      "metadata": {
        "id": "f61F0hgTw1D3"
      },
      "source": [
        "from tensorflow.keras.preprocessing.text import Tokenizer\n",
        "from tensorflow.keras.preprocessing.sequence import pad_sequences"
      ],
      "execution_count": null,
      "outputs": []
    },
    {
      "cell_type": "code",
      "metadata": {
        "id": "GWqn1wlsxaok"
      },
      "source": [
        "# Just a simple test\n",
        "sentences = [\"I like eggs and ham\",\n",
        "             \"I love chocolate and bunnies\",\n",
        "             \"I hate onions.\"]"
      ],
      "execution_count": null,
      "outputs": []
    },
    {
      "cell_type": "code",
      "metadata": {
        "id": "0ugeHyqOxqUz"
      },
      "source": [
        "MAX_VOCAB_SIZE = 20000\n",
        "tokenizer = Tokenizer(num_words=MAX_VOCAB_SIZE)\n",
        "tokenizer.fit_on_texts(sentences)\n",
        "sequences = tokenizer.texts_to_sequences(sentences)"
      ],
      "execution_count": null,
      "outputs": []
    },
    {
      "cell_type": "code",
      "metadata": {
        "colab": {
          "base_uri": "https://localhost:8080/"
        },
        "id": "aav_aCp9yFgL",
        "outputId": "272fb3d7-9d4f-4419-b425-56d846beac73"
      },
      "source": [
        "print(sequences)"
      ],
      "execution_count": null,
      "outputs": [
        {
          "output_type": "stream",
          "text": [
            "[[1, 3, 4, 2, 5], [1, 6, 7, 2, 8], [1, 9, 10]]\n"
          ],
          "name": "stdout"
        }
      ]
    },
    {
      "cell_type": "code",
      "metadata": {
        "colab": {
          "base_uri": "https://localhost:8080/"
        },
        "id": "UIYkXAq1yIAT",
        "outputId": "c7630c30-06f8-4409-9694-3d767a53eb21"
      },
      "source": [
        "#how to get the word to index mapping\n",
        "tokenizer.word_index"
      ],
      "execution_count": null,
      "outputs": [
        {
          "output_type": "execute_result",
          "data": {
            "text/plain": [
              "{'and': 2,\n",
              " 'bunnies': 8,\n",
              " 'chocolate': 7,\n",
              " 'eggs': 4,\n",
              " 'ham': 5,\n",
              " 'hate': 9,\n",
              " 'i': 1,\n",
              " 'like': 3,\n",
              " 'love': 6,\n",
              " 'onions': 10}"
            ]
          },
          "metadata": {
            "tags": []
          },
          "execution_count": 5
        }
      ]
    },
    {
      "cell_type": "code",
      "metadata": {
        "colab": {
          "base_uri": "https://localhost:8080/"
        },
        "id": "jFzk6Su2yQDr",
        "outputId": "44048283-75ae-4257-8f78-dde668c44f86"
      },
      "source": [
        "# use the defaults\n",
        "data = pad_sequences(sequences) # padding = bütün cümleleri ayni uzunluga getir --> kisa olanlarin sonuna veya basina 0 eklenir\n",
        "print(data)"
      ],
      "execution_count": null,
      "outputs": [
        {
          "output_type": "stream",
          "text": [
            "[[ 1  3  4  2  5]\n",
            " [ 1  6  7  2  8]\n",
            " [ 0  0  1  9 10]]\n"
          ],
          "name": "stdout"
        }
      ]
    },
    {
      "cell_type": "code",
      "metadata": {
        "colab": {
          "base_uri": "https://localhost:8080/"
        },
        "id": "1M-64mEDzu6l",
        "outputId": "736c3ebd-077c-4080-cd2f-af7d1266114c"
      },
      "source": [
        "MAX_SEQUENCE_LENGTH = 5\n",
        "data = pad_sequences(sequences, maxlen= MAX_SEQUENCE_LENGTH)\n",
        "print(data)"
      ],
      "execution_count": null,
      "outputs": [
        {
          "output_type": "stream",
          "text": [
            "[[ 1  3  4  2  5]\n",
            " [ 1  6  7  2  8]\n",
            " [ 0  0  1  9 10]]\n"
          ],
          "name": "stdout"
        }
      ]
    },
    {
      "cell_type": "code",
      "metadata": {
        "colab": {
          "base_uri": "https://localhost:8080/"
        },
        "id": "-JaewZ3Tz84D",
        "outputId": "a4e9c021-7819-466e-d9c3-3673e1a7007d"
      },
      "source": [
        "data = pad_sequences(sequences, maxlen= MAX_SEQUENCE_LENGTH, padding='post')\n",
        "print(data)"
      ],
      "execution_count": null,
      "outputs": [
        {
          "output_type": "stream",
          "text": [
            "[[ 1  3  4  2  5]\n",
            " [ 1  6  7  2  8]\n",
            " [ 1  9 10  0  0]]\n"
          ],
          "name": "stdout"
        }
      ]
    },
    {
      "cell_type": "code",
      "metadata": {
        "colab": {
          "base_uri": "https://localhost:8080/"
        },
        "id": "1fSx4KC80JPj",
        "outputId": "9be1195a-1b8d-41a6-9e24-06834893457e"
      },
      "source": [
        "# truncation --> kelimeleri kisaltma\n",
        "data = pad_sequences(sequences, maxlen=4)\n",
        "print(data)"
      ],
      "execution_count": null,
      "outputs": [
        {
          "output_type": "stream",
          "text": [
            "[[ 3  4  2  5]\n",
            " [ 6  7  2  8]\n",
            " [ 0  1  9 10]]\n"
          ],
          "name": "stdout"
        }
      ]
    },
    {
      "cell_type": "markdown",
      "metadata": {
        "id": "fTihc0lH05Fy"
      },
      "source": [
        "## **Spam Detector with RNN**"
      ]
    },
    {
      "cell_type": "code",
      "metadata": {
        "id": "UVADDCdh1Bb8"
      },
      "source": [
        "import numpy as np\n",
        "import pandas as pd\n",
        "import matplotlib.pyplot as plt\n",
        "from sklearn.model_selection import train_test_split\n",
        "\n",
        "from tensorflow.keras.preprocessing.text import Tokenizer\n",
        "from tensorflow.keras.preprocessing.sequence import pad_sequences\n",
        "from tensorflow.keras.layers import Dense, Input, GlobalMaxPooling1D\n",
        "from tensorflow.keras.layers import LSTM, Embedding\n",
        "from tensorflow.keras.models import Model"
      ],
      "execution_count": null,
      "outputs": []
    },
    {
      "cell_type": "code",
      "metadata": {
        "colab": {
          "base_uri": "https://localhost:8080/"
        },
        "id": "GfnhLL0z2j4s",
        "outputId": "e7fc0137-b392-4155-8170-19f4c516fb30"
      },
      "source": [
        "# Unfortunately this URL doesn't work directly with pd.read_csv\n",
        "!wget -nc https://lazyprogrammer.me/course_files/spam.csv"
      ],
      "execution_count": null,
      "outputs": [
        {
          "output_type": "stream",
          "text": [
            "--2021-04-27 10:21:15--  https://lazyprogrammer.me/course_files/spam.csv\n",
            "Resolving lazyprogrammer.me (lazyprogrammer.me)... 172.67.213.166, 104.21.23.210, 2606:4700:3031::6815:17d2, ...\n",
            "Connecting to lazyprogrammer.me (lazyprogrammer.me)|172.67.213.166|:443... connected.\n",
            "HTTP request sent, awaiting response... 200 OK\n",
            "Length: 503663 (492K) [text/csv]\n",
            "Saving to: ‘spam.csv’\n",
            "\n",
            "spam.csv            100%[===================>] 491.86K  --.-KB/s    in 0.05s   \n",
            "\n",
            "2021-04-27 10:21:16 (10.3 MB/s) - ‘spam.csv’ saved [503663/503663]\n",
            "\n"
          ],
          "name": "stdout"
        }
      ]
    },
    {
      "cell_type": "code",
      "metadata": {
        "colab": {
          "base_uri": "https://localhost:8080/"
        },
        "id": "xor4Vodq2qJm",
        "outputId": "e1ae7b03-1526-41b1-ec66-27d2b56409ef"
      },
      "source": [
        "!head spam.csv"
      ],
      "execution_count": null,
      "outputs": [
        {
          "output_type": "stream",
          "text": [
            "v1,v2,,,\r\n",
            "ham,\"Go until jurong point, crazy.. Available only in bugis n great world la e buffet... Cine there got amore wat...\",,,\r\n",
            "ham,Ok lar... Joking wif u oni...,,,\r\n",
            "spam,Free entry in 2 a wkly comp to win FA Cup final tkts 21st May 2005. Text FA to 87121 to receive entry question(std txt rate)T&C's apply 08452810075over18's,,,\r\n",
            "ham,U dun say so early hor... U c already then say...,,,\r\n",
            "ham,\"Nah I don't think he goes to usf, he lives around here though\",,,\r\n",
            "spam,\"FreeMsg Hey there darling it's been 3 week's now and no word back! I'd like some fun you up for it still? Tb ok! XxX std chgs to send, �1.50 to rcv\",,,\r\n",
            "ham,Even my brother is not like to speak with me. They treat me like aids patent.,,,\r\n",
            "ham,As per your request 'Melle Melle (Oru Minnaminunginte Nurungu Vettam)' has been set as your callertune for all Callers. Press *9 to copy your friends Callertune,,,\r\n",
            "spam,WINNER!! As a valued network customer you have been selected to receivea �900 prize reward! To claim call 09061701461. Claim code KL341. Valid 12 hours only.,,,\r\n"
          ],
          "name": "stdout"
        }
      ]
    },
    {
      "cell_type": "code",
      "metadata": {
        "id": "HvqazbEX2sku"
      },
      "source": [
        "df = pd.read_csv('spam.csv', encoding='ISO-8859-1')"
      ],
      "execution_count": null,
      "outputs": []
    },
    {
      "cell_type": "code",
      "metadata": {
        "colab": {
          "base_uri": "https://localhost:8080/",
          "height": 204
        },
        "id": "aJVOKBGg2w_s",
        "outputId": "389c0a7f-51de-4ee4-d06d-29d3137b20c4"
      },
      "source": [
        "df.head()"
      ],
      "execution_count": null,
      "outputs": [
        {
          "output_type": "execute_result",
          "data": {
            "text/html": [
              "<div>\n",
              "<style scoped>\n",
              "    .dataframe tbody tr th:only-of-type {\n",
              "        vertical-align: middle;\n",
              "    }\n",
              "\n",
              "    .dataframe tbody tr th {\n",
              "        vertical-align: top;\n",
              "    }\n",
              "\n",
              "    .dataframe thead th {\n",
              "        text-align: right;\n",
              "    }\n",
              "</style>\n",
              "<table border=\"1\" class=\"dataframe\">\n",
              "  <thead>\n",
              "    <tr style=\"text-align: right;\">\n",
              "      <th></th>\n",
              "      <th>v1</th>\n",
              "      <th>v2</th>\n",
              "      <th>Unnamed: 2</th>\n",
              "      <th>Unnamed: 3</th>\n",
              "      <th>Unnamed: 4</th>\n",
              "    </tr>\n",
              "  </thead>\n",
              "  <tbody>\n",
              "    <tr>\n",
              "      <th>0</th>\n",
              "      <td>ham</td>\n",
              "      <td>Go until jurong point, crazy.. Available only ...</td>\n",
              "      <td>NaN</td>\n",
              "      <td>NaN</td>\n",
              "      <td>NaN</td>\n",
              "    </tr>\n",
              "    <tr>\n",
              "      <th>1</th>\n",
              "      <td>ham</td>\n",
              "      <td>Ok lar... Joking wif u oni...</td>\n",
              "      <td>NaN</td>\n",
              "      <td>NaN</td>\n",
              "      <td>NaN</td>\n",
              "    </tr>\n",
              "    <tr>\n",
              "      <th>2</th>\n",
              "      <td>spam</td>\n",
              "      <td>Free entry in 2 a wkly comp to win FA Cup fina...</td>\n",
              "      <td>NaN</td>\n",
              "      <td>NaN</td>\n",
              "      <td>NaN</td>\n",
              "    </tr>\n",
              "    <tr>\n",
              "      <th>3</th>\n",
              "      <td>ham</td>\n",
              "      <td>U dun say so early hor... U c already then say...</td>\n",
              "      <td>NaN</td>\n",
              "      <td>NaN</td>\n",
              "      <td>NaN</td>\n",
              "    </tr>\n",
              "    <tr>\n",
              "      <th>4</th>\n",
              "      <td>ham</td>\n",
              "      <td>Nah I don't think he goes to usf, he lives aro...</td>\n",
              "      <td>NaN</td>\n",
              "      <td>NaN</td>\n",
              "      <td>NaN</td>\n",
              "    </tr>\n",
              "  </tbody>\n",
              "</table>\n",
              "</div>"
            ],
            "text/plain": [
              "     v1  ... Unnamed: 4\n",
              "0   ham  ...        NaN\n",
              "1   ham  ...        NaN\n",
              "2  spam  ...        NaN\n",
              "3   ham  ...        NaN\n",
              "4   ham  ...        NaN\n",
              "\n",
              "[5 rows x 5 columns]"
            ]
          },
          "metadata": {
            "tags": []
          },
          "execution_count": 5
        }
      ]
    },
    {
      "cell_type": "code",
      "metadata": {
        "colab": {
          "base_uri": "https://localhost:8080/",
          "height": 204
        },
        "id": "62fh6fgy25kU",
        "outputId": "f70f8f67-76b9-4137-f92e-500e070c7c30"
      },
      "source": [
        "# drop unnecessary columns\n",
        "df = df.drop([\"Unnamed: 2\", \"Unnamed: 3\", \"Unnamed: 4\"], axis=1)\n",
        "df.head()"
      ],
      "execution_count": null,
      "outputs": [
        {
          "output_type": "execute_result",
          "data": {
            "text/html": [
              "<div>\n",
              "<style scoped>\n",
              "    .dataframe tbody tr th:only-of-type {\n",
              "        vertical-align: middle;\n",
              "    }\n",
              "\n",
              "    .dataframe tbody tr th {\n",
              "        vertical-align: top;\n",
              "    }\n",
              "\n",
              "    .dataframe thead th {\n",
              "        text-align: right;\n",
              "    }\n",
              "</style>\n",
              "<table border=\"1\" class=\"dataframe\">\n",
              "  <thead>\n",
              "    <tr style=\"text-align: right;\">\n",
              "      <th></th>\n",
              "      <th>v1</th>\n",
              "      <th>v2</th>\n",
              "    </tr>\n",
              "  </thead>\n",
              "  <tbody>\n",
              "    <tr>\n",
              "      <th>0</th>\n",
              "      <td>ham</td>\n",
              "      <td>Go until jurong point, crazy.. Available only ...</td>\n",
              "    </tr>\n",
              "    <tr>\n",
              "      <th>1</th>\n",
              "      <td>ham</td>\n",
              "      <td>Ok lar... Joking wif u oni...</td>\n",
              "    </tr>\n",
              "    <tr>\n",
              "      <th>2</th>\n",
              "      <td>spam</td>\n",
              "      <td>Free entry in 2 a wkly comp to win FA Cup fina...</td>\n",
              "    </tr>\n",
              "    <tr>\n",
              "      <th>3</th>\n",
              "      <td>ham</td>\n",
              "      <td>U dun say so early hor... U c already then say...</td>\n",
              "    </tr>\n",
              "    <tr>\n",
              "      <th>4</th>\n",
              "      <td>ham</td>\n",
              "      <td>Nah I don't think he goes to usf, he lives aro...</td>\n",
              "    </tr>\n",
              "  </tbody>\n",
              "</table>\n",
              "</div>"
            ],
            "text/plain": [
              "     v1                                                 v2\n",
              "0   ham  Go until jurong point, crazy.. Available only ...\n",
              "1   ham                      Ok lar... Joking wif u oni...\n",
              "2  spam  Free entry in 2 a wkly comp to win FA Cup fina...\n",
              "3   ham  U dun say so early hor... U c already then say...\n",
              "4   ham  Nah I don't think he goes to usf, he lives aro..."
            ]
          },
          "metadata": {
            "tags": []
          },
          "execution_count": 6
        }
      ]
    },
    {
      "cell_type": "code",
      "metadata": {
        "id": "sc5AXZi33A4l"
      },
      "source": [
        "# rename columns to something better\n",
        "df.columns = ['labels', 'data']"
      ],
      "execution_count": null,
      "outputs": []
    },
    {
      "cell_type": "code",
      "metadata": {
        "colab": {
          "base_uri": "https://localhost:8080/",
          "height": 204
        },
        "id": "zZXi6qYZ3FhN",
        "outputId": "55af036f-95e5-4a49-e080-a618657bb7aa"
      },
      "source": [
        "df.head()"
      ],
      "execution_count": null,
      "outputs": [
        {
          "output_type": "execute_result",
          "data": {
            "text/html": [
              "<div>\n",
              "<style scoped>\n",
              "    .dataframe tbody tr th:only-of-type {\n",
              "        vertical-align: middle;\n",
              "    }\n",
              "\n",
              "    .dataframe tbody tr th {\n",
              "        vertical-align: top;\n",
              "    }\n",
              "\n",
              "    .dataframe thead th {\n",
              "        text-align: right;\n",
              "    }\n",
              "</style>\n",
              "<table border=\"1\" class=\"dataframe\">\n",
              "  <thead>\n",
              "    <tr style=\"text-align: right;\">\n",
              "      <th></th>\n",
              "      <th>labels</th>\n",
              "      <th>data</th>\n",
              "    </tr>\n",
              "  </thead>\n",
              "  <tbody>\n",
              "    <tr>\n",
              "      <th>0</th>\n",
              "      <td>ham</td>\n",
              "      <td>Go until jurong point, crazy.. Available only ...</td>\n",
              "    </tr>\n",
              "    <tr>\n",
              "      <th>1</th>\n",
              "      <td>ham</td>\n",
              "      <td>Ok lar... Joking wif u oni...</td>\n",
              "    </tr>\n",
              "    <tr>\n",
              "      <th>2</th>\n",
              "      <td>spam</td>\n",
              "      <td>Free entry in 2 a wkly comp to win FA Cup fina...</td>\n",
              "    </tr>\n",
              "    <tr>\n",
              "      <th>3</th>\n",
              "      <td>ham</td>\n",
              "      <td>U dun say so early hor... U c already then say...</td>\n",
              "    </tr>\n",
              "    <tr>\n",
              "      <th>4</th>\n",
              "      <td>ham</td>\n",
              "      <td>Nah I don't think he goes to usf, he lives aro...</td>\n",
              "    </tr>\n",
              "  </tbody>\n",
              "</table>\n",
              "</div>"
            ],
            "text/plain": [
              "  labels                                               data\n",
              "0    ham  Go until jurong point, crazy.. Available only ...\n",
              "1    ham                      Ok lar... Joking wif u oni...\n",
              "2   spam  Free entry in 2 a wkly comp to win FA Cup fina...\n",
              "3    ham  U dun say so early hor... U c already then say...\n",
              "4    ham  Nah I don't think he goes to usf, he lives aro..."
            ]
          },
          "metadata": {
            "tags": []
          },
          "execution_count": 8
        }
      ]
    },
    {
      "cell_type": "code",
      "metadata": {
        "id": "y8IXssrA3JK1"
      },
      "source": [
        "# create binary labels\n",
        "df['b_labels'] = df['labels'].map({'ham': 0, 'spam': 1})\n",
        "Y = df['b_labels'].values"
      ],
      "execution_count": null,
      "outputs": []
    },
    {
      "cell_type": "code",
      "metadata": {
        "colab": {
          "base_uri": "https://localhost:8080/",
          "height": 204
        },
        "id": "utPW-iOx3fr8",
        "outputId": "1df1a462-9ce4-407e-83b7-99d22597c3e1"
      },
      "source": [
        "df.head()"
      ],
      "execution_count": null,
      "outputs": [
        {
          "output_type": "execute_result",
          "data": {
            "text/html": [
              "<div>\n",
              "<style scoped>\n",
              "    .dataframe tbody tr th:only-of-type {\n",
              "        vertical-align: middle;\n",
              "    }\n",
              "\n",
              "    .dataframe tbody tr th {\n",
              "        vertical-align: top;\n",
              "    }\n",
              "\n",
              "    .dataframe thead th {\n",
              "        text-align: right;\n",
              "    }\n",
              "</style>\n",
              "<table border=\"1\" class=\"dataframe\">\n",
              "  <thead>\n",
              "    <tr style=\"text-align: right;\">\n",
              "      <th></th>\n",
              "      <th>labels</th>\n",
              "      <th>data</th>\n",
              "      <th>b_labels</th>\n",
              "    </tr>\n",
              "  </thead>\n",
              "  <tbody>\n",
              "    <tr>\n",
              "      <th>0</th>\n",
              "      <td>ham</td>\n",
              "      <td>Go until jurong point, crazy.. Available only ...</td>\n",
              "      <td>0</td>\n",
              "    </tr>\n",
              "    <tr>\n",
              "      <th>1</th>\n",
              "      <td>ham</td>\n",
              "      <td>Ok lar... Joking wif u oni...</td>\n",
              "      <td>0</td>\n",
              "    </tr>\n",
              "    <tr>\n",
              "      <th>2</th>\n",
              "      <td>spam</td>\n",
              "      <td>Free entry in 2 a wkly comp to win FA Cup fina...</td>\n",
              "      <td>1</td>\n",
              "    </tr>\n",
              "    <tr>\n",
              "      <th>3</th>\n",
              "      <td>ham</td>\n",
              "      <td>U dun say so early hor... U c already then say...</td>\n",
              "      <td>0</td>\n",
              "    </tr>\n",
              "    <tr>\n",
              "      <th>4</th>\n",
              "      <td>ham</td>\n",
              "      <td>Nah I don't think he goes to usf, he lives aro...</td>\n",
              "      <td>0</td>\n",
              "    </tr>\n",
              "  </tbody>\n",
              "</table>\n",
              "</div>"
            ],
            "text/plain": [
              "  labels                                               data  b_labels\n",
              "0    ham  Go until jurong point, crazy.. Available only ...         0\n",
              "1    ham                      Ok lar... Joking wif u oni...         0\n",
              "2   spam  Free entry in 2 a wkly comp to win FA Cup fina...         1\n",
              "3    ham  U dun say so early hor... U c already then say...         0\n",
              "4    ham  Nah I don't think he goes to usf, he lives aro...         0"
            ]
          },
          "metadata": {
            "tags": []
          },
          "execution_count": 10
        }
      ]
    },
    {
      "cell_type": "code",
      "metadata": {
        "id": "DSLfoa3j3iIV"
      },
      "source": [
        "# split up the data\n",
        "df_train, df_test, Ytrain, Ytest = train_test_split(df['data'], Y, test_size=0.33)"
      ],
      "execution_count": null,
      "outputs": []
    },
    {
      "cell_type": "code",
      "metadata": {
        "id": "FG3esov73k9s"
      },
      "source": [
        "# Convert sentences to sequences\n",
        "MAX_VOCAB_SIZE = 20000\n",
        "tokenizer = Tokenizer(num_words=MAX_VOCAB_SIZE)\n",
        "tokenizer.fit_on_texts(df_train)\n",
        "sequences_train = tokenizer.texts_to_sequences(df_train)\n",
        "sequences_test = tokenizer.texts_to_sequences(df_test)"
      ],
      "execution_count": null,
      "outputs": []
    },
    {
      "cell_type": "code",
      "metadata": {
        "colab": {
          "base_uri": "https://localhost:8080/"
        },
        "id": "tRrgMv-03nie",
        "outputId": "c0d7c065-a238-4fcb-e0b4-121176be9895"
      },
      "source": [
        "# get word -> integer mapping\n",
        "word2idx = tokenizer.word_index\n",
        "V = len(word2idx)\n",
        "print('Found %s unique tokens.' % V)"
      ],
      "execution_count": null,
      "outputs": [
        {
          "output_type": "stream",
          "text": [
            "Found 7273 unique tokens.\n"
          ],
          "name": "stdout"
        }
      ]
    },
    {
      "cell_type": "code",
      "metadata": {
        "colab": {
          "base_uri": "https://localhost:8080/"
        },
        "id": "mgJd3NJ43qTt",
        "outputId": "04cd6420-f36c-4c4c-ed1b-545aef702e02"
      },
      "source": [
        "# pad sequences so that we get a N x T matrix\n",
        "data_train = pad_sequences(sequences_train)\n",
        "print('Shape of data train tensor:', data_train.shape)\n",
        "\n",
        "# get sequence length\n",
        "T = data_train.shape[1]"
      ],
      "execution_count": null,
      "outputs": [
        {
          "output_type": "stream",
          "text": [
            "Shape of data train tensor: (3733, 189)\n"
          ],
          "name": "stdout"
        }
      ]
    },
    {
      "cell_type": "code",
      "metadata": {
        "colab": {
          "base_uri": "https://localhost:8080/"
        },
        "id": "B1SdzLLg3s2F",
        "outputId": "de134492-7477-43d2-a855-e088c8596a42"
      },
      "source": [
        "data_test = pad_sequences(sequences_test, maxlen=T)\n",
        "print('Shape of data test tensor:', data_test.shape)"
      ],
      "execution_count": null,
      "outputs": [
        {
          "output_type": "stream",
          "text": [
            "Shape of data test tensor: (1839, 189)\n"
          ],
          "name": "stdout"
        }
      ]
    },
    {
      "cell_type": "code",
      "metadata": {
        "id": "XAXXllMX3xXs"
      },
      "source": [
        "# Create the model\n",
        "\n",
        "# We get to choose embedding dimensionality\n",
        "D = 20\n",
        "\n",
        "# Hidden state dimensionality\n",
        "M = 15\n",
        "\n",
        "# Note: we actually want to the size of the embedding to (V + 1) x D,\n",
        "# because the first index starts from 1 and not 0.\n",
        "# Thus, if the final index of the embedding matrix is V,\n",
        "# then it actually must have size V + 1.\n",
        "\n",
        "i = Input(shape=(T,))\n",
        "x = Embedding(V + 1, D)(i)\n",
        "x = LSTM(M, return_sequences=True)(x)\n",
        "x = GlobalMaxPooling1D()(x)\n",
        "x = Dense(1, activation='sigmoid')(x)\n",
        "\n",
        "model = Model(i, x)"
      ],
      "execution_count": null,
      "outputs": []
    },
    {
      "cell_type": "code",
      "metadata": {
        "colab": {
          "base_uri": "https://localhost:8080/"
        },
        "id": "ffz8KThs3771",
        "outputId": "86467176-1ce0-48fd-f28f-1a1c82191bea"
      },
      "source": [
        "# Compile and fit\n",
        "model.compile(\n",
        "  loss='binary_crossentropy',\n",
        "  optimizer='adam',\n",
        "  metrics=['accuracy']\n",
        ")\n",
        "\n",
        "\n",
        "print('Training model...')\n",
        "r = model.fit(\n",
        "  data_train,\n",
        "  Ytrain,\n",
        "  epochs=10,\n",
        "  validation_data=(data_test, Ytest)\n",
        ")"
      ],
      "execution_count": null,
      "outputs": [
        {
          "output_type": "stream",
          "text": [
            "Training model...\n",
            "Epoch 1/10\n",
            "117/117 [==============================] - 12s 84ms/step - loss: 0.5525 - accuracy: 0.8622 - val_loss: 0.3905 - val_accuracy: 0.8662\n",
            "Epoch 2/10\n",
            "117/117 [==============================] - 9s 78ms/step - loss: 0.3972 - accuracy: 0.8606 - val_loss: 0.3594 - val_accuracy: 0.8662\n",
            "Epoch 3/10\n",
            "117/117 [==============================] - 9s 77ms/step - loss: 0.3300 - accuracy: 0.8647 - val_loss: 0.2109 - val_accuracy: 0.8662\n",
            "Epoch 4/10\n",
            "117/117 [==============================] - 9s 77ms/step - loss: 0.1637 - accuracy: 0.9381 - val_loss: 0.1313 - val_accuracy: 0.9728\n",
            "Epoch 5/10\n",
            "117/117 [==============================] - 9s 77ms/step - loss: 0.1039 - accuracy: 0.9874 - val_loss: 0.1009 - val_accuracy: 0.9744\n",
            "Epoch 6/10\n",
            "117/117 [==============================] - 9s 78ms/step - loss: 0.0633 - accuracy: 0.9931 - val_loss: 0.0748 - val_accuracy: 0.9821\n",
            "Epoch 7/10\n",
            "117/117 [==============================] - 9s 78ms/step - loss: 0.0484 - accuracy: 0.9945 - val_loss: 0.0659 - val_accuracy: 0.9815\n",
            "Epoch 8/10\n",
            "117/117 [==============================] - 9s 79ms/step - loss: 0.0333 - accuracy: 0.9968 - val_loss: 0.0610 - val_accuracy: 0.9815\n",
            "Epoch 9/10\n",
            "117/117 [==============================] - 9s 77ms/step - loss: 0.0226 - accuracy: 0.9973 - val_loss: 0.0569 - val_accuracy: 0.9842\n",
            "Epoch 10/10\n",
            "117/117 [==============================] - 9s 78ms/step - loss: 0.0160 - accuracy: 0.9992 - val_loss: 0.0549 - val_accuracy: 0.9859\n"
          ],
          "name": "stdout"
        }
      ]
    },
    {
      "cell_type": "code",
      "metadata": {
        "colab": {
          "base_uri": "https://localhost:8080/",
          "height": 282
        },
        "id": "DDu-N8RrC-g2",
        "outputId": "6c940171-90eb-4854-aacd-8676946e2fb9"
      },
      "source": [
        "# Plot loss per iteration\n",
        "import matplotlib.pyplot as plt\n",
        "plt.plot(r.history['loss'], label='loss')\n",
        "plt.plot(r.history['val_loss'], label='val_loss')\n",
        "plt.legend()"
      ],
      "execution_count": null,
      "outputs": [
        {
          "output_type": "execute_result",
          "data": {
            "text/plain": [
              "<matplotlib.legend.Legend at 0x7f6819073450>"
            ]
          },
          "metadata": {
            "tags": []
          },
          "execution_count": 18
        },
        {
          "output_type": "display_data",
          "data": {
            "image/png": "[encoded data removed]",
            "text/plain": [
              "<Figure size 432x288 with 1 Axes>"
            ]
          },
          "metadata": {
            "tags": [],
            "needs_background": "light"
          }
        }
      ]
    },
    {
      "cell_type": "code",
      "metadata": {
        "id": "I32MiU01DC8Z",
        "colab": {
          "base_uri": "https://localhost:8080/",
          "height": 282
        },
        "outputId": "0583962e-82b5-44c6-fc76-abf31311f30a"
      },
      "source": [
        "# Plot accuracy per iteration\n",
        "plt.plot(r.history['accuracy'], label='acc')\n",
        "plt.plot(r.history['val_accuracy'], label='val_acc')\n",
        "plt.legend()"
      ],
      "execution_count": null,
      "outputs": [
        {
          "output_type": "execute_result",
          "data": {
            "text/plain": [
              "<matplotlib.legend.Legend at 0x7f681a051c10>"
            ]
          },
          "metadata": {
            "tags": []
          },
          "execution_count": 19
        },
        {
          "output_type": "display_data",
          "data": {
            "image/png": "[encoded data removed]",
            "text/plain": [
              "<Figure size 432x288 with 1 Axes>"
            ]
          },
          "metadata": {
            "tags": [],
            "needs_background": "light"
          }
        }
      ]
    },
    {
      "cell_type": "code",
      "metadata": {
        "id": "nTqz5oXyoojA"
      },
      "source": [
        ""
      ],
      "execution_count": null,
      "outputs": []
    },
    {
      "cell_type": "markdown",
      "metadata": {
        "id": "vrroNoMcqaH-"
      },
      "source": [
        "# **RNN (Recurrent_Neural_Network)**"
      ]
    },
    {
      "cell_type": "code",
      "metadata": {
        "id": "jU9n_W6NqhGB"
      },
      "source": [
        ""
      ],
      "execution_count": null,
      "outputs": []
    },
    {
      "cell_type": "code",
      "metadata": {
        "id": "4A2tteHQQXj5",
        "colab": {
          "base_uri": "https://localhost:8080/"
        },
        "outputId": "e00d6c57-9068-4f05-e2a6-76dce6f6413c"
      },
      "source": [
        " import tensorflow as tf\n",
        " print(tf.__version__)"
      ],
      "execution_count": null,
      "outputs": [
        {
          "output_type": "stream",
          "text": [
            "2.4.1\n"
          ],
          "name": "stdout"
        }
      ]
    },
    {
      "cell_type": "code",
      "metadata": {
        "id": "8VWbq0-ar4tW"
      },
      "source": [
        "from tensorflow.keras.layers import Input,Dense\n",
        "from tensorflow.keras.models import Model\n",
        "from tensorflow.keras.optimizers import SGD,Adam\n",
        "\n",
        "import numpy as np\n",
        "import pandas as pd\n",
        "import matplotlib.pyplot as plt\n"
      ],
      "execution_count": null,
      "outputs": []
    },
    {
      "cell_type": "markdown",
      "metadata": {
        "id": "5KSk9WsvtIte"
      },
      "source": [
        "## **Autoregressive Linear Model**"
      ]
    },
    {
      "cell_type": "markdown",
      "metadata": {
        "id": "OSLlqTS7EplZ"
      },
      "source": [
        "### **Create sentetic dataset and forecast**"
      ]
    },
    {
      "cell_type": "code",
      "metadata": {
        "colab": {
          "base_uri": "https://localhost:8080/",
          "height": 265
        },
        "id": "16wW6tFTtGfP",
        "outputId": "5a3b274a-0bcd-4b7f-def7-701fe2694405"
      },
      "source": [
        "series = np.sin(0.1*np.arange(200)) + np.random.randn(200)*0.1\n",
        "\n",
        "# plot it\n",
        "plt.plot(series)\n",
        "plt.show()"
      ],
      "execution_count": null,
      "outputs": [
        {
          "output_type": "display_data",
          "data": {
            "image/png": "[encoded data removed]",
            "text/plain": [
              "<Figure size 432x288 with 1 Axes>"
            ]
          },
          "metadata": {
            "tags": [],
            "needs_background": "light"
          }
        }
      ]
    },
    {
      "cell_type": "code",
      "metadata": {
        "colab": {
          "base_uri": "https://localhost:8080/"
        },
        "id": "XEK7jt4PteJ-",
        "outputId": "32c4174b-d37b-4826-d297-cb9eb98b5950"
      },
      "source": [
        "# build the dataset\n",
        "T = 10  # we are gonna predict the next value by using last T values(now it is 10) values\n",
        "X = []\n",
        "Y = []\n",
        "for t in range(len(series)-T):\n",
        "  x = series[t:t+T]\n",
        "  X.append(x)\n",
        "  y = series[t+T]\n",
        "  Y.append(y)\n",
        "\n",
        "X = np.array(X).reshape(-1, T)\n",
        "Y = np.array(Y)\n",
        "N = len(X)\n",
        "print(\"X.shape\", X.shape, \"Y.shape\", Y.shape)"
      ],
      "execution_count": null,
      "outputs": [
        {
          "output_type": "stream",
          "text": [
            "X.shape (190, 10) Y.shape (190,)\n"
          ],
          "name": "stdout"
        }
      ]
    },
    {
      "cell_type": "code",
      "metadata": {
        "id": "QlCxRqUJ0NyH"
      },
      "source": [
        "i = Input(shape=(T,))\n",
        "x = Dense(1)(i)\n",
        "model = Model(i,x)\n",
        "model.compile(loss='mse',optimizer=Adam(lr=0.1),)\n",
        "\n",
        "# train the RNN\n",
        "\n",
        "r = model.fit(X[:-N//2], Y[:-N//2],epochs=80,validation_data=(X[-N//2:], Y[-N//2:]),)"
      ],
      "execution_count": null,
      "outputs": []
    },
    {
      "cell_type": "code",
      "metadata": {
        "colab": {
          "base_uri": "https://localhost:8080/",
          "height": 282
        },
        "id": "xvqvrGb11yin",
        "outputId": "80efc359-4f42-467b-cfc6-a9ac206cc3b3"
      },
      "source": [
        "# Plot loss per iteration\n",
        "import matplotlib.pyplot as plt\n",
        "plt.plot(r.history['loss'], label='loss')\n",
        "plt.plot(r.history['val_loss'], label='val_loss')\n",
        "plt.legend()"
      ],
      "execution_count": null,
      "outputs": [
        {
          "output_type": "execute_result",
          "data": {
            "text/plain": [
              "<matplotlib.legend.Legend at 0x7f6d22a6dd90>"
            ]
          },
          "metadata": {
            "tags": []
          },
          "execution_count": 14
        },
        {
          "output_type": "display_data",
          "data": {
            "image/png": "[encoded data removed]",
            "text/plain": [
              "<Figure size 432x288 with 1 Axes>"
            ]
          },
          "metadata": {
            "tags": [],
            "needs_background": "light"
          }
        }
      ]
    },
    {
      "cell_type": "code",
      "metadata": {
        "id": "afbvuypX7vrb"
      },
      "source": [
        "# Forecast future values (use only self-predictions for making future predictions)\n",
        "\n",
        "validation_target = Y[-N//2:]\n",
        "validation_predictions = []\n",
        "\n",
        "# first validation input\n",
        "last_x = X[-N//2] # 1-D array of length T\n",
        "\n",
        "while len(validation_predictions) < len(validation_target):\n",
        "  p = model.predict(last_x.reshape(1, -1))[0,0] # 1x1 array -> scalar\n",
        "  \n",
        "  # update the predictions list\n",
        "  validation_predictions.append(p)\n",
        "  \n",
        "  # make the new input\n",
        "  last_x = np.roll(last_x, -1)\n",
        "  last_x[-1] = p"
      ],
      "execution_count": null,
      "outputs": []
    },
    {
      "cell_type": "code",
      "metadata": {
        "colab": {
          "base_uri": "https://localhost:8080/",
          "height": 282
        },
        "id": "TY6vJpN_7yI6",
        "outputId": "1298d743-8719-44a5-dd16-f068bdd3080b"
      },
      "source": [
        "plt.plot(validation_target, label='forecast target')\n",
        "plt.plot(validation_predictions, label='forecast prediction')\n",
        "plt.legend()"
      ],
      "execution_count": null,
      "outputs": [
        {
          "output_type": "execute_result",
          "data": {
            "text/plain": [
              "<matplotlib.legend.Legend at 0x7f6d21796a50>"
            ]
          },
          "metadata": {
            "tags": []
          },
          "execution_count": 16
        },
        {
          "output_type": "display_data",
          "data": {
            "image/png": "[encoded data removed]",
            "text/plain": [
              "<Figure size 432x288 with 1 Axes>"
            ]
          },
          "metadata": {
            "tags": [],
            "needs_background": "light"
          }
        }
      ]
    },
    {
      "cell_type": "markdown",
      "metadata": {
        "id": "rGwh1Esx9rQ-"
      },
      "source": [
        ""
      ]
    },
    {
      "cell_type": "markdown",
      "metadata": {
        "id": "JfMLXeO2MEDS"
      },
      "source": [
        "## **Recurrent Neural Network**"
      ]
    },
    {
      "cell_type": "code",
      "metadata": {
        "id": "KCFlPQSwMWMG"
      },
      "source": [
        ""
      ],
      "execution_count": null,
      "outputs": []
    },
    {
      "cell_type": "markdown",
      "metadata": {
        "id": "PliLNVGCq4e8"
      },
      "source": [
        "# **Transfer Learning**"
      ]
    },
    {
      "cell_type": "code",
      "metadata": {
        "id": "Uia1aGEbraCg"
      },
      "source": [
        ""
      ],
      "execution_count": null,
      "outputs": []
    },
    {
      "cell_type": "code",
      "metadata": {
        "id": "jKvngfeJH6tj"
      },
      "source": [
        "# Inputs\n",
        "\n",
        "from tensorflow.keras.layers import Input,Dense,Flatten\n",
        "from tensorflow.keras.applications.vgg16 import  VGG16 as PretrainedModel, preprocess_input\n",
        "from tensorflow.keras.models import  Model\n",
        "from tensorflow.keras.optimizers import SGD, Adam\n",
        "from tensorflow.keras.preprocessing import image\n",
        "from tensorflow.keras.preprocessing.image import ImageDataGenerator\n",
        "\n",
        "from glob import glob\n",
        "\n",
        "import numpy as np\n",
        "import pandas as pd\n",
        "import matplotlib.pyplot as plt\n",
        "import sys,os"
      ],
      "execution_count": null,
      "outputs": []
    },
    {
      "cell_type": "code",
      "metadata": {
        "colab": {
          "base_uri": "https://localhost:8080/"
        },
        "id": "T8-C_hJpK4PB",
        "outputId": "76623372-6b80-49d7-bb23-c2cd9d18d706"
      },
      "source": [
        "!wget -nc https://lazyprogrammer.me/course_files/Food-5K.zip"
      ],
      "execution_count": null,
      "outputs": [
        {
          "output_type": "stream",
          "text": [
            "--2021-04-28 06:28:45--  https://lazyprogrammer.me/course_files/Food-5K.zip\n",
            "Resolving lazyprogrammer.me (lazyprogrammer.me)... 172.67.213.166, 104.21.23.210, 2606:4700:3031::6815:17d2, ...\n",
            "Connecting to lazyprogrammer.me (lazyprogrammer.me)|172.67.213.166|:443... connected.\n",
            "HTTP request sent, awaiting response... 200 OK\n",
            "Length: 447001986 (426M) [application/zip]\n",
            "Saving to: ‘Food-5K.zip’\n",
            "\n",
            "Food-5K.zip         100%[===================>] 426.29M  24.4MB/s    in 22s     \n",
            "\n",
            "2021-04-28 06:29:08 (19.1 MB/s) - ‘Food-5K.zip’ saved [447001986/447001986]\n",
            "\n"
          ],
          "name": "stdout"
        }
      ]
    },
    {
      "cell_type": "code",
      "metadata": {
        "id": "cSylH53OLdtA"
      },
      "source": [
        "!unzip -qq -o Food-5K.zip"
      ],
      "execution_count": null,
      "outputs": []
    },
    {
      "cell_type": "code",
      "metadata": {
        "colab": {
          "base_uri": "https://localhost:8080/"
        },
        "id": "h0xjHSwnLi9I",
        "outputId": "229dae14-9be3-4e91-acdf-72b65554364f"
      },
      "source": [
        "!ls"
      ],
      "execution_count": null,
      "outputs": [
        {
          "output_type": "stream",
          "text": [
            "Food-5K  Food-5K.zip  __MACOSX\tsample_data\n"
          ],
          "name": "stdout"
        }
      ]
    },
    {
      "cell_type": "code",
      "metadata": {
        "id": "N6ovmZBLLk2A"
      },
      "source": [
        "!ls Food-5K/training"
      ],
      "execution_count": null,
      "outputs": []
    },
    {
      "cell_type": "code",
      "metadata": {
        "id": "FFnFe6hQLr8_"
      },
      "source": [
        "!mv Food-5K/* ."
      ],
      "execution_count": null,
      "outputs": []
    },
    {
      "cell_type": "code",
      "metadata": {
        "colab": {
          "base_uri": "https://localhost:8080/",
          "height": 269
        },
        "id": "m_Mheh_iLw0R",
        "outputId": "a06536fe-8534-4376-b0ae-7636d8a3e62d"
      },
      "source": [
        "plt.imshow(image.load_img('training/0_828.jpg'))\n",
        "plt.show()"
      ],
      "execution_count": null,
      "outputs": [
        {
          "output_type": "display_data",
          "data": {
            "image/png": "[encoded data removed]",
            "text/plain": [
              "<Figure size 432x288 with 1 Axes>"
            ]
          },
          "metadata": {
            "tags": [],
            "needs_background": "light"
          }
        }
      ]
    },
    {
      "cell_type": "code",
      "metadata": {
        "id": "gwALuAhbL_W_"
      },
      "source": [
        "!mkdir data"
      ],
      "execution_count": null,
      "outputs": []
    },
    {
      "cell_type": "code",
      "metadata": {
        "id": "pT3K5EMfME6H"
      },
      "source": [
        "#Make directories to store the data Keras-style\n",
        "!mkdir data/train\n",
        "!mkdir data/test\n",
        "!mkdir data/train/nonfood\n",
        "!mkdir data/train/food\n",
        "!mkdir data/test/nonfood\n",
        "!mkdir data/test/food\n"
      ],
      "execution_count": null,
      "outputs": []
    },
    {
      "cell_type": "code",
      "metadata": {
        "id": "7_ufLzkVMix4"
      },
      "source": [
        "#Move the images\n",
        "#Note: we will consider 'training' to be the train set\n",
        "#       'validation' folder will be the test set\n",
        "#       ignore the 'evaluation' set\n",
        "!mv training/0*.jpg data/train/nonfood\n",
        "!mv training/1*.jpg data/train/food\n",
        "!mv validation/0*.jpg data/test/nonfood\n",
        "!mv validation/1*.jpg data/test/food\n"
      ],
      "execution_count": null,
      "outputs": []
    },
    {
      "cell_type": "code",
      "metadata": {
        "id": "9wFoHR2uN6Yq"
      },
      "source": [
        "train_path = 'data/train'\n",
        "valid_path = 'data/test'"
      ],
      "execution_count": null,
      "outputs": []
    },
    {
      "cell_type": "code",
      "metadata": {
        "id": "ALR-q6oHSWRb"
      },
      "source": [
        "IMAGE_SIZE = [200, 200]"
      ],
      "execution_count": null,
      "outputs": []
    },
    {
      "cell_type": "code",
      "metadata": {
        "id": "So56Gzd4SdPa"
      },
      "source": [
        "image_files = glob(train_path + '/*/*.jpg')\n",
        "valid_image_files = glob(valid_path + '/*/*.jpg')"
      ],
      "execution_count": null,
      "outputs": []
    },
    {
      "cell_type": "code",
      "metadata": {
        "colab": {
          "base_uri": "https://localhost:8080/"
        },
        "id": "40e6xyl9Sofh",
        "outputId": "a3953b71-8096-4162-b737-ca22cb6045d3"
      },
      "source": [
        "# useful for getting number of classes\n",
        "folders = glob(train_path + '/*')\n",
        "folders"
      ],
      "execution_count": null,
      "outputs": [
        {
          "output_type": "execute_result",
          "data": {
            "text/plain": [
              "['data/train/nonfood', 'data/train/food']"
            ]
          },
          "metadata": {
            "tags": []
          },
          "execution_count": 17
        }
      ]
    },
    {
      "cell_type": "code",
      "metadata": {
        "colab": {
          "base_uri": "https://localhost:8080/",
          "height": 269
        },
        "id": "S28e9zR0SsSJ",
        "outputId": "7d76b233-2944-4d18-9470-c8616c981096"
      },
      "source": [
        "plt.imshow(image.load_img(np.random.choice(image_files)))\n",
        "plt.show()"
      ],
      "execution_count": null,
      "outputs": [
        {
          "output_type": "display_data",
          "data": {
            "image/png": "[encoded data removed]",
            "text/plain": [
              "<Figure size 432x288 with 1 Axes>"
            ]
          },
          "metadata": {
            "tags": [],
            "needs_background": "light"
          }
        }
      ]
    },
    {
      "cell_type": "code",
      "metadata": {
        "colab": {
          "base_uri": "https://localhost:8080/"
        },
        "id": "aiYAESa9S3Hy",
        "outputId": "c633bbe9-8df9-4382-951d-7b1c9d053559"
      },
      "source": [
        "ptm = PretrainedModel(\n",
        "    input_shape=IMAGE_SIZE + [3],\n",
        "    weights='imagenet',\n",
        "    include_top=False)"
      ],
      "execution_count": null,
      "outputs": [
        {
          "output_type": "stream",
          "text": [
            "Downloading data from https://storage.googleapis.com/tensorflow/keras-applications/vgg16/vgg16_weights_tf_dim_ordering_tf_kernels_notop.h5\n",
            "58892288/58889256 [==============================] - 0s 0us/step\n"
          ],
          "name": "stdout"
        }
      ]
    },
    {
      "cell_type": "code",
      "metadata": {
        "id": "5ERDRXoiTEH6"
      },
      "source": [
        "ptm.trainable = False"
      ],
      "execution_count": null,
      "outputs": []
    },
    {
      "cell_type": "code",
      "metadata": {
        "id": "GolLSbbRTI9x"
      },
      "source": [
        "# map the data into feature vectors\n",
        "\n",
        "# Keras image data generator returns classes one-hot encoded\n",
        "\n",
        "K = len(folders) # number of classes\n",
        "x = Flatten()(ptm.output)\n",
        "x = Dense(K,activation='softmax')(x)"
      ],
      "execution_count": null,
      "outputs": []
    },
    {
      "cell_type": "code",
      "metadata": {
        "id": "fWGt5uHMTz_b"
      },
      "source": [
        "# create a model object\n",
        "model = Model(inputs=ptm.input, outputs=x)"
      ],
      "execution_count": null,
      "outputs": []
    },
    {
      "cell_type": "code",
      "metadata": {
        "id": "5TkWLHHAT9Ta"
      },
      "source": [
        "model.summary()"
      ],
      "execution_count": null,
      "outputs": []
    },
    {
      "cell_type": "code",
      "metadata": {
        "id": "DUrfyYNAT_QJ"
      },
      "source": [
        "# create an instance of ImageDataGenerator\n",
        "\n",
        "gen_train = ImageDataGenerator(rotation_range=20,\n",
        "                               width_shift_range = 0.1,\n",
        "                               height_shift_range = 0.1,\n",
        "                               shear_range=0.1,\n",
        "                               zoom_range=0.2,\n",
        "                               horizontal_flip=True,\n",
        "                               preprocessing_function=preprocess_input)\n",
        "\n",
        "gen_test = ImageDataGenerator(preprocessing_function=preprocess_input)"
      ],
      "execution_count": null,
      "outputs": []
    },
    {
      "cell_type": "code",
      "metadata": {
        "colab": {
          "base_uri": "https://localhost:8080/"
        },
        "id": "_DiEyel3VIbD",
        "outputId": "278e9a2a-d962-4a5f-b782-645d88c2bfe7"
      },
      "source": [
        "batch_size = 128\n",
        "\n",
        "#create generators\n",
        "train_generator = gen_train.flow_from_directory(train_path,\n",
        "                                                shuffle=True,\n",
        "                                                target_size=IMAGE_SIZE,\n",
        "                                                batch_size=batch_size,)\n",
        "\n",
        "valid_generator = gen_test.flow_from_directory(valid_path,\n",
        "                                               target_size=IMAGE_SIZE, \n",
        "                                               batch_size=batch_size,)"
      ],
      "execution_count": null,
      "outputs": [
        {
          "output_type": "stream",
          "text": [
            "Found 3000 images belonging to 2 classes.\n",
            "Found 1000 images belonging to 2 classes.\n"
          ],
          "name": "stdout"
        }
      ]
    },
    {
      "cell_type": "code",
      "metadata": {
        "id": "rTC-tLvKWEd5"
      },
      "source": [
        "model.compile(\n",
        "    loss='categorical_crossentropy',\n",
        "    optimizer='adam',\n",
        "    metrics=['accuracy']\n",
        ")"
      ],
      "execution_count": null,
      "outputs": []
    },
    {
      "cell_type": "code",
      "metadata": {
        "colab": {
          "base_uri": "https://localhost:8080/"
        },
        "id": "kcEipw6jWWIz",
        "outputId": "cb36bbd6-2483-476a-a68f-f0a0f45d89fb"
      },
      "source": [
        "#fit the model\n",
        "\n",
        "r = model.fit_generator(train_generator,\n",
        "                        validation_data=valid_generator,\n",
        "                        epochs=10,\n",
        "                        steps_per_epoch=int(np.ceil(len(image_files) / batch_size)),\n",
        "                        validation_steps=int(np.ceil(len(valid_image_files)/ batch_size)),\n",
        "                        )"
      ],
      "execution_count": null,
      "outputs": [
        {
          "output_type": "stream",
          "text": [
            "/usr/local/lib/python3.7/dist-packages/tensorflow/python/keras/engine/training.py:1844: UserWarning: `Model.fit_generator` is deprecated and will be removed in a future version. Please use `Model.fit`, which supports generators.\n",
            "  warnings.warn('`Model.fit_generator` is deprecated and '\n"
          ],
          "name": "stderr"
        },
        {
          "output_type": "stream",
          "text": [
            "Epoch 1/10\n",
            "24/24 [==============================] - ETA: 0s - loss: 3.9336 - accuracy: 0.8028 "
          ],
          "name": "stdout"
        }
      ]
    }
  ]
}